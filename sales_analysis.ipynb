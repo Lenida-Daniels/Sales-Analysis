{
 "cells": [
  {
   "cell_type": "markdown",
   "id": "05ab8c72-f0ab-48ff-a0a0-f8ca8416762c",
   "metadata": {},
   "source": [
    "**IMPORT LIBRARIES**"
   ]
  },
  {
   "cell_type": "code",
   "execution_count": 29,
   "id": "8f360260-0774-4b8c-919c-21ad9a1bac94",
   "metadata": {},
   "outputs": [],
   "source": [
    "import pandas as pd\n",
    "import matplotlib.pyplot as plt\n",
    "import seaborn as sns"
   ]
  },
  {
   "cell_type": "markdown",
   "id": "7dbd1e3a-88b1-4f71-94b6-138f2e16ed1e",
   "metadata": {},
   "source": [
    "**PROBLEM STATEMENT**\n",
    "- Understanding the sales in the 2 years.\n",
    "\n",
    "1.Total sales overall,monthly,yearly,quartery,weekly,per region,per country,per team,per sales person,per category,per product type\n",
    "  \n",
    "2.Top performing team,sales person,country,region,product type,category\n",
    "\n",
    "3.Performance trends"
   ]
  },
  {
   "cell_type": "markdown",
   "id": "42d03ae4-513a-4a76-976c-46a794678443",
   "metadata": {},
   "source": [
    "**LOAD DATA**"
   ]
  },
  {
   "cell_type": "code",
   "execution_count": 35,
   "id": "d7d2e6aa-bd1d-45bc-b68f-a67d82f62f80",
   "metadata": {},
   "outputs": [],
   "source": [
    "df=pd.read_csv(\"sales project.csv\")"
   ]
  },
  {
   "cell_type": "code",
   "execution_count": 37,
   "id": "ac27a000-0e60-494e-bc49-28de63902893",
   "metadata": {},
   "outputs": [
    {
     "data": {
      "text/html": [
       "<div>\n",
       "<style scoped>\n",
       "    .dataframe tbody tr th:only-of-type {\n",
       "        vertical-align: middle;\n",
       "    }\n",
       "\n",
       "    .dataframe tbody tr th {\n",
       "        vertical-align: top;\n",
       "    }\n",
       "\n",
       "    .dataframe thead th {\n",
       "        text-align: right;\n",
       "    }\n",
       "</style>\n",
       "<table border=\"1\" class=\"dataframe\">\n",
       "  <thead>\n",
       "    <tr style=\"text-align: right;\">\n",
       "      <th></th>\n",
       "      <th>Sales Person</th>\n",
       "      <th>Team</th>\n",
       "      <th>Country</th>\n",
       "      <th>Region</th>\n",
       "      <th>Product Type</th>\n",
       "      <th>Category</th>\n",
       "      <th>Cost per box</th>\n",
       "      <th>Date</th>\n",
       "      <th>Week</th>\n",
       "      <th>Month</th>\n",
       "      <th>Quarter</th>\n",
       "      <th>Year</th>\n",
       "      <th>Amount</th>\n",
       "      <th>Boxes</th>\n",
       "      <th>Unnamed: 14</th>\n",
       "      <th>Unnamed: 15</th>\n",
       "      <th>Unnamed: 16</th>\n",
       "      <th>Unnamed: 17</th>\n",
       "      <th>Unnamed: 18</th>\n",
       "    </tr>\n",
       "  </thead>\n",
       "  <tbody>\n",
       "    <tr>\n",
       "      <th>0</th>\n",
       "      <td>Dennison Crosswaite</td>\n",
       "      <td>Yummies</td>\n",
       "      <td>UK</td>\n",
       "      <td>Europe</td>\n",
       "      <td>Almond Choco</td>\n",
       "      <td>Bars</td>\n",
       "      <td>$5.15</td>\n",
       "      <td>01/01/2021</td>\n",
       "      <td>Wk1</td>\n",
       "      <td>Jan</td>\n",
       "      <td>Q1</td>\n",
       "      <td>2021</td>\n",
       "      <td>$2,037.00</td>\n",
       "      <td>422</td>\n",
       "      <td>NaN</td>\n",
       "      <td>NaN</td>\n",
       "      <td>NaN</td>\n",
       "      <td>NaN</td>\n",
       "      <td>NaN</td>\n",
       "    </tr>\n",
       "    <tr>\n",
       "      <th>1</th>\n",
       "      <td>Kelci Walkden</td>\n",
       "      <td>Jucies</td>\n",
       "      <td>India</td>\n",
       "      <td>APAC</td>\n",
       "      <td>Almond Choco</td>\n",
       "      <td>Bars</td>\n",
       "      <td>$5.15</td>\n",
       "      <td>01/01/2021</td>\n",
       "      <td>Wk1</td>\n",
       "      <td>Jan</td>\n",
       "      <td>Q1</td>\n",
       "      <td>2021</td>\n",
       "      <td>$6,160.00</td>\n",
       "      <td>126</td>\n",
       "      <td>NaN</td>\n",
       "      <td>NaN</td>\n",
       "      <td>NaN</td>\n",
       "      <td>NaN</td>\n",
       "      <td>NaN</td>\n",
       "    </tr>\n",
       "    <tr>\n",
       "      <th>2</th>\n",
       "      <td>Gigi Bohling</td>\n",
       "      <td>Yummies</td>\n",
       "      <td>Canada</td>\n",
       "      <td>Toronto</td>\n",
       "      <td>Caramel Stuffed Bars</td>\n",
       "      <td>Bars</td>\n",
       "      <td>$8.43</td>\n",
       "      <td>01/01/2021</td>\n",
       "      <td>Wk1</td>\n",
       "      <td>Jan</td>\n",
       "      <td>Q1</td>\n",
       "      <td>2021</td>\n",
       "      <td>$1,442.00</td>\n",
       "      <td>200</td>\n",
       "      <td>NaN</td>\n",
       "      <td>NaN</td>\n",
       "      <td>NaN</td>\n",
       "      <td>NaN</td>\n",
       "      <td>NaN</td>\n",
       "    </tr>\n",
       "    <tr>\n",
       "      <th>3</th>\n",
       "      <td>Madelene Upcott</td>\n",
       "      <td>Jucies</td>\n",
       "      <td>India</td>\n",
       "      <td>APAC</td>\n",
       "      <td>Eclairs</td>\n",
       "      <td>Bites</td>\n",
       "      <td>$6.31</td>\n",
       "      <td>01/01/2021</td>\n",
       "      <td>Wk1</td>\n",
       "      <td>Jan</td>\n",
       "      <td>Q1</td>\n",
       "      <td>2021</td>\n",
       "      <td>$6,979.00</td>\n",
       "      <td>252</td>\n",
       "      <td>NaN</td>\n",
       "      <td>NaN</td>\n",
       "      <td>NaN</td>\n",
       "      <td>NaN</td>\n",
       "      <td>NaN</td>\n",
       "    </tr>\n",
       "    <tr>\n",
       "      <th>4</th>\n",
       "      <td>Oby Sorrel</td>\n",
       "      <td>Jucies</td>\n",
       "      <td>USA</td>\n",
       "      <td>Americas</td>\n",
       "      <td>Manuka Honey Choco</td>\n",
       "      <td>Other</td>\n",
       "      <td>$6.80</td>\n",
       "      <td>01/01/2021</td>\n",
       "      <td>Wk1</td>\n",
       "      <td>Jan</td>\n",
       "      <td>Q1</td>\n",
       "      <td>2021</td>\n",
       "      <td>$966.00</td>\n",
       "      <td>71</td>\n",
       "      <td>NaN</td>\n",
       "      <td>NaN</td>\n",
       "      <td>NaN</td>\n",
       "      <td>NaN</td>\n",
       "      <td>NaN</td>\n",
       "    </tr>\n",
       "  </tbody>\n",
       "</table>\n",
       "</div>"
      ],
      "text/plain": [
       "          Sales Person     Team Country    Region          Product Type  \\\n",
       "0  Dennison Crosswaite  Yummies      UK    Europe          Almond Choco   \n",
       "1        Kelci Walkden   Jucies   India      APAC          Almond Choco   \n",
       "2         Gigi Bohling  Yummies  Canada   Toronto  Caramel Stuffed Bars   \n",
       "3      Madelene Upcott   Jucies   India      APAC               Eclairs   \n",
       "4           Oby Sorrel   Jucies     USA  Americas    Manuka Honey Choco   \n",
       "\n",
       "  Category Cost per box        Date Week Month Quarter  Year     Amount  \\\n",
       "0     Bars        $5.15  01/01/2021  Wk1   Jan      Q1  2021  $2,037.00   \n",
       "1     Bars        $5.15  01/01/2021  Wk1   Jan      Q1  2021  $6,160.00   \n",
       "2     Bars        $8.43  01/01/2021  Wk1   Jan      Q1  2021  $1,442.00   \n",
       "3    Bites        $6.31  01/01/2021  Wk1   Jan      Q1  2021  $6,979.00   \n",
       "4    Other        $6.80  01/01/2021  Wk1   Jan      Q1  2021    $966.00   \n",
       "\n",
       "   Boxes  Unnamed: 14  Unnamed: 15  Unnamed: 16  Unnamed: 17  Unnamed: 18  \n",
       "0    422          NaN          NaN          NaN          NaN          NaN  \n",
       "1    126          NaN          NaN          NaN          NaN          NaN  \n",
       "2    200          NaN          NaN          NaN          NaN          NaN  \n",
       "3    252          NaN          NaN          NaN          NaN          NaN  \n",
       "4     71          NaN          NaN          NaN          NaN          NaN  "
      ]
     },
     "execution_count": 37,
     "metadata": {},
     "output_type": "execute_result"
    }
   ],
   "source": [
    "df.head(5)"
   ]
  },
  {
   "cell_type": "markdown",
   "id": "2953cd87-d588-453f-be18-629db6d798bd",
   "metadata": {},
   "source": [
    "**DROP COLUMNS WITH NaN**"
   ]
  },
  {
   "cell_type": "code",
   "execution_count": 40,
   "id": "9583fd89-68f3-468f-9956-6a1e9db9c0c9",
   "metadata": {},
   "outputs": [],
   "source": [
    "df.drop(columns=[\"Unnamed: 14\",\"Unnamed: 15\",\"Unnamed: 16\",\"Unnamed: 17\",\"Unnamed: 18\"],inplace=True)\n"
   ]
  },
  {
   "cell_type": "markdown",
   "id": "6b6a50d9-c3f9-4419-8958-c1ebbe47cba9",
   "metadata": {},
   "source": [
    "**CONVERT AMOUNT TO SALES AMOUNT THEN DROP AMOUNT COLUMN**"
   ]
  },
  {
   "cell_type": "code",
   "execution_count": 43,
   "id": "dff92acf-3407-4a5d-92f9-88e87ddb6394",
   "metadata": {},
   "outputs": [],
   "source": [
    "df[\"Sales Amount\"]=df[\"Amount\"]\n",
    "df.drop(columns=\"Amount\",inplace=True)"
   ]
  },
  {
   "cell_type": "code",
   "execution_count": 45,
   "id": "c414641a-ebf5-4591-bb18-d52c27c37ef8",
   "metadata": {},
   "outputs": [
    {
     "name": "stdout",
     "output_type": "stream",
     "text": [
      "<class 'pandas.core.frame.DataFrame'>\n",
      "RangeIndex: 9449 entries, 0 to 9448\n",
      "Data columns (total 14 columns):\n",
      " #   Column        Non-Null Count  Dtype \n",
      "---  ------        --------------  ----- \n",
      " 0   Sales Person  9449 non-null   object\n",
      " 1   Team          9449 non-null   object\n",
      " 2   Country       9449 non-null   object\n",
      " 3   Region        9449 non-null   object\n",
      " 4   Product Type  9449 non-null   object\n",
      " 5   Category      9449 non-null   object\n",
      " 6   Cost per box  9449 non-null   object\n",
      " 7   Date          9449 non-null   object\n",
      " 8   Week          9449 non-null   object\n",
      " 9   Month         9449 non-null   object\n",
      " 10  Quarter       9449 non-null   object\n",
      " 11  Year          9449 non-null   int64 \n",
      " 12  Boxes         9449 non-null   int64 \n",
      " 13  Sales Amount  9449 non-null   object\n",
      "dtypes: int64(2), object(12)\n",
      "memory usage: 1.0+ MB\n"
     ]
    }
   ],
   "source": [
    "df.info()"
   ]
  },
  {
   "cell_type": "markdown",
   "id": "48b86c1f-e178-4cec-a3ca-920bfc164b4d",
   "metadata": {},
   "source": [
    "**CONVERT Dtype**"
   ]
  },
  {
   "cell_type": "code",
   "execution_count": 48,
   "id": "0087f45d-bdf7-4d41-80c1-058c900cbb71",
   "metadata": {},
   "outputs": [
    {
     "name": "stdout",
     "output_type": "stream",
     "text": [
      "<class 'pandas.core.frame.DataFrame'>\n",
      "RangeIndex: 9449 entries, 0 to 9448\n",
      "Data columns (total 14 columns):\n",
      " #   Column        Non-Null Count  Dtype  \n",
      "---  ------        --------------  -----  \n",
      " 0   Sales Person  9449 non-null   object \n",
      " 1   Team          9449 non-null   object \n",
      " 2   Country       9449 non-null   object \n",
      " 3   Region        9449 non-null   object \n",
      " 4   Product Type  9449 non-null   object \n",
      " 5   Category      9449 non-null   object \n",
      " 6   Date          9449 non-null   object \n",
      " 7   Week          9449 non-null   object \n",
      " 8   Month         9449 non-null   object \n",
      " 9   Quarter       9449 non-null   object \n",
      " 10  Year          9449 non-null   int64  \n",
      " 11  Boxes         9449 non-null   int64  \n",
      " 12  Sales_Amount  9449 non-null   float64\n",
      " 13  Cost_per_box  9449 non-null   float64\n",
      "dtypes: float64(2), int64(2), object(10)\n",
      "memory usage: 1.0+ MB\n"
     ]
    }
   ],
   "source": [
    "df[\"Sales_Amount\"]=df[\"Sales Amount\"].str.replace(r'[$,]',\"\",regex=\"True\").astype(float)\n",
    "df[\"Cost_per_box\"]=df[\"Cost per box\"].str.replace(r'[$,]',\"\",regex=\"True\").astype(float)\n",
    "df.drop(columns=[\"Sales Amount\",\"Cost per box\"],inplace=True)\n",
    "df.info()"
   ]
  },
  {
   "cell_type": "markdown",
   "id": "8980d236-3083-466c-b777-29985a53107b",
   "metadata": {},
   "source": [
    "**TOTAL SALES**\n",
    "\n",
    "Total sales is 46,086,887"
   ]
  },
  {
   "cell_type": "code",
   "execution_count": 51,
   "id": "662c9b95-fd41-470e-acbd-af32de78b9f8",
   "metadata": {},
   "outputs": [
    {
     "name": "stdout",
     "output_type": "stream",
     "text": [
      "Total Sales: 46086887.0\n"
     ]
    }
   ],
   "source": [
    "total_sales=df[\"Sales_Amount\"].sum()\n",
    "print(\"Total Sales:\",total_sales)"
   ]
  },
  {
   "cell_type": "code",
   "execution_count": 133,
   "id": "234ce6f4-2bab-4812-978f-a8bac0000b5a",
   "metadata": {},
   "outputs": [
    {
     "data": {
      "application/vnd.plotly.v1+json": {
       "config": {
        "plotlyServerURL": "https://plot.ly"
       },
       "data": [
        {
         "mode": "number",
         "title": {
          "text": "Total Sales"
         },
         "type": "indicator",
         "value": 46086887
        }
       ],
       "layout": {
        "font": {
         "size": 18
        },
        "height": 200,
        "margin": {
         "b": 20,
         "l": 20,
         "r": 20,
         "t": 40
        },
        "template": {
         "data": {
          "bar": [
           {
            "error_x": {
             "color": "#2a3f5f"
            },
            "error_y": {
             "color": "#2a3f5f"
            },
            "marker": {
             "line": {
              "color": "#E5ECF6",
              "width": 0.5
             },
             "pattern": {
              "fillmode": "overlay",
              "size": 10,
              "solidity": 0.2
             }
            },
            "type": "bar"
           }
          ],
          "barpolar": [
           {
            "marker": {
             "line": {
              "color": "#E5ECF6",
              "width": 0.5
             },
             "pattern": {
              "fillmode": "overlay",
              "size": 10,
              "solidity": 0.2
             }
            },
            "type": "barpolar"
           }
          ],
          "carpet": [
           {
            "aaxis": {
             "endlinecolor": "#2a3f5f",
             "gridcolor": "white",
             "linecolor": "white",
             "minorgridcolor": "white",
             "startlinecolor": "#2a3f5f"
            },
            "baxis": {
             "endlinecolor": "#2a3f5f",
             "gridcolor": "white",
             "linecolor": "white",
             "minorgridcolor": "white",
             "startlinecolor": "#2a3f5f"
            },
            "type": "carpet"
           }
          ],
          "choropleth": [
           {
            "colorbar": {
             "outlinewidth": 0,
             "ticks": ""
            },
            "type": "choropleth"
           }
          ],
          "contour": [
           {
            "colorbar": {
             "outlinewidth": 0,
             "ticks": ""
            },
            "colorscale": [
             [
              0,
              "#0d0887"
             ],
             [
              0.1111111111111111,
              "#46039f"
             ],
             [
              0.2222222222222222,
              "#7201a8"
             ],
             [
              0.3333333333333333,
              "#9c179e"
             ],
             [
              0.4444444444444444,
              "#bd3786"
             ],
             [
              0.5555555555555556,
              "#d8576b"
             ],
             [
              0.6666666666666666,
              "#ed7953"
             ],
             [
              0.7777777777777778,
              "#fb9f3a"
             ],
             [
              0.8888888888888888,
              "#fdca26"
             ],
             [
              1,
              "#f0f921"
             ]
            ],
            "type": "contour"
           }
          ],
          "contourcarpet": [
           {
            "colorbar": {
             "outlinewidth": 0,
             "ticks": ""
            },
            "type": "contourcarpet"
           }
          ],
          "heatmap": [
           {
            "colorbar": {
             "outlinewidth": 0,
             "ticks": ""
            },
            "colorscale": [
             [
              0,
              "#0d0887"
             ],
             [
              0.1111111111111111,
              "#46039f"
             ],
             [
              0.2222222222222222,
              "#7201a8"
             ],
             [
              0.3333333333333333,
              "#9c179e"
             ],
             [
              0.4444444444444444,
              "#bd3786"
             ],
             [
              0.5555555555555556,
              "#d8576b"
             ],
             [
              0.6666666666666666,
              "#ed7953"
             ],
             [
              0.7777777777777778,
              "#fb9f3a"
             ],
             [
              0.8888888888888888,
              "#fdca26"
             ],
             [
              1,
              "#f0f921"
             ]
            ],
            "type": "heatmap"
           }
          ],
          "heatmapgl": [
           {
            "colorbar": {
             "outlinewidth": 0,
             "ticks": ""
            },
            "colorscale": [
             [
              0,
              "#0d0887"
             ],
             [
              0.1111111111111111,
              "#46039f"
             ],
             [
              0.2222222222222222,
              "#7201a8"
             ],
             [
              0.3333333333333333,
              "#9c179e"
             ],
             [
              0.4444444444444444,
              "#bd3786"
             ],
             [
              0.5555555555555556,
              "#d8576b"
             ],
             [
              0.6666666666666666,
              "#ed7953"
             ],
             [
              0.7777777777777778,
              "#fb9f3a"
             ],
             [
              0.8888888888888888,
              "#fdca26"
             ],
             [
              1,
              "#f0f921"
             ]
            ],
            "type": "heatmapgl"
           }
          ],
          "histogram": [
           {
            "marker": {
             "pattern": {
              "fillmode": "overlay",
              "size": 10,
              "solidity": 0.2
             }
            },
            "type": "histogram"
           }
          ],
          "histogram2d": [
           {
            "colorbar": {
             "outlinewidth": 0,
             "ticks": ""
            },
            "colorscale": [
             [
              0,
              "#0d0887"
             ],
             [
              0.1111111111111111,
              "#46039f"
             ],
             [
              0.2222222222222222,
              "#7201a8"
             ],
             [
              0.3333333333333333,
              "#9c179e"
             ],
             [
              0.4444444444444444,
              "#bd3786"
             ],
             [
              0.5555555555555556,
              "#d8576b"
             ],
             [
              0.6666666666666666,
              "#ed7953"
             ],
             [
              0.7777777777777778,
              "#fb9f3a"
             ],
             [
              0.8888888888888888,
              "#fdca26"
             ],
             [
              1,
              "#f0f921"
             ]
            ],
            "type": "histogram2d"
           }
          ],
          "histogram2dcontour": [
           {
            "colorbar": {
             "outlinewidth": 0,
             "ticks": ""
            },
            "colorscale": [
             [
              0,
              "#0d0887"
             ],
             [
              0.1111111111111111,
              "#46039f"
             ],
             [
              0.2222222222222222,
              "#7201a8"
             ],
             [
              0.3333333333333333,
              "#9c179e"
             ],
             [
              0.4444444444444444,
              "#bd3786"
             ],
             [
              0.5555555555555556,
              "#d8576b"
             ],
             [
              0.6666666666666666,
              "#ed7953"
             ],
             [
              0.7777777777777778,
              "#fb9f3a"
             ],
             [
              0.8888888888888888,
              "#fdca26"
             ],
             [
              1,
              "#f0f921"
             ]
            ],
            "type": "histogram2dcontour"
           }
          ],
          "mesh3d": [
           {
            "colorbar": {
             "outlinewidth": 0,
             "ticks": ""
            },
            "type": "mesh3d"
           }
          ],
          "parcoords": [
           {
            "line": {
             "colorbar": {
              "outlinewidth": 0,
              "ticks": ""
             }
            },
            "type": "parcoords"
           }
          ],
          "pie": [
           {
            "automargin": true,
            "type": "pie"
           }
          ],
          "scatter": [
           {
            "fillpattern": {
             "fillmode": "overlay",
             "size": 10,
             "solidity": 0.2
            },
            "type": "scatter"
           }
          ],
          "scatter3d": [
           {
            "line": {
             "colorbar": {
              "outlinewidth": 0,
              "ticks": ""
             }
            },
            "marker": {
             "colorbar": {
              "outlinewidth": 0,
              "ticks": ""
             }
            },
            "type": "scatter3d"
           }
          ],
          "scattercarpet": [
           {
            "marker": {
             "colorbar": {
              "outlinewidth": 0,
              "ticks": ""
             }
            },
            "type": "scattercarpet"
           }
          ],
          "scattergeo": [
           {
            "marker": {
             "colorbar": {
              "outlinewidth": 0,
              "ticks": ""
             }
            },
            "type": "scattergeo"
           }
          ],
          "scattergl": [
           {
            "marker": {
             "colorbar": {
              "outlinewidth": 0,
              "ticks": ""
             }
            },
            "type": "scattergl"
           }
          ],
          "scattermapbox": [
           {
            "marker": {
             "colorbar": {
              "outlinewidth": 0,
              "ticks": ""
             }
            },
            "type": "scattermapbox"
           }
          ],
          "scatterpolar": [
           {
            "marker": {
             "colorbar": {
              "outlinewidth": 0,
              "ticks": ""
             }
            },
            "type": "scatterpolar"
           }
          ],
          "scatterpolargl": [
           {
            "marker": {
             "colorbar": {
              "outlinewidth": 0,
              "ticks": ""
             }
            },
            "type": "scatterpolargl"
           }
          ],
          "scatterternary": [
           {
            "marker": {
             "colorbar": {
              "outlinewidth": 0,
              "ticks": ""
             }
            },
            "type": "scatterternary"
           }
          ],
          "surface": [
           {
            "colorbar": {
             "outlinewidth": 0,
             "ticks": ""
            },
            "colorscale": [
             [
              0,
              "#0d0887"
             ],
             [
              0.1111111111111111,
              "#46039f"
             ],
             [
              0.2222222222222222,
              "#7201a8"
             ],
             [
              0.3333333333333333,
              "#9c179e"
             ],
             [
              0.4444444444444444,
              "#bd3786"
             ],
             [
              0.5555555555555556,
              "#d8576b"
             ],
             [
              0.6666666666666666,
              "#ed7953"
             ],
             [
              0.7777777777777778,
              "#fb9f3a"
             ],
             [
              0.8888888888888888,
              "#fdca26"
             ],
             [
              1,
              "#f0f921"
             ]
            ],
            "type": "surface"
           }
          ],
          "table": [
           {
            "cells": {
             "fill": {
              "color": "#EBF0F8"
             },
             "line": {
              "color": "white"
             }
            },
            "header": {
             "fill": {
              "color": "#C8D4E3"
             },
             "line": {
              "color": "white"
             }
            },
            "type": "table"
           }
          ]
         },
         "layout": {
          "annotationdefaults": {
           "arrowcolor": "#2a3f5f",
           "arrowhead": 0,
           "arrowwidth": 1
          },
          "autotypenumbers": "strict",
          "coloraxis": {
           "colorbar": {
            "outlinewidth": 0,
            "ticks": ""
           }
          },
          "colorscale": {
           "diverging": [
            [
             0,
             "#8e0152"
            ],
            [
             0.1,
             "#c51b7d"
            ],
            [
             0.2,
             "#de77ae"
            ],
            [
             0.3,
             "#f1b6da"
            ],
            [
             0.4,
             "#fde0ef"
            ],
            [
             0.5,
             "#f7f7f7"
            ],
            [
             0.6,
             "#e6f5d0"
            ],
            [
             0.7,
             "#b8e186"
            ],
            [
             0.8,
             "#7fbc41"
            ],
            [
             0.9,
             "#4d9221"
            ],
            [
             1,
             "#276419"
            ]
           ],
           "sequential": [
            [
             0,
             "#0d0887"
            ],
            [
             0.1111111111111111,
             "#46039f"
            ],
            [
             0.2222222222222222,
             "#7201a8"
            ],
            [
             0.3333333333333333,
             "#9c179e"
            ],
            [
             0.4444444444444444,
             "#bd3786"
            ],
            [
             0.5555555555555556,
             "#d8576b"
            ],
            [
             0.6666666666666666,
             "#ed7953"
            ],
            [
             0.7777777777777778,
             "#fb9f3a"
            ],
            [
             0.8888888888888888,
             "#fdca26"
            ],
            [
             1,
             "#f0f921"
            ]
           ],
           "sequentialminus": [
            [
             0,
             "#0d0887"
            ],
            [
             0.1111111111111111,
             "#46039f"
            ],
            [
             0.2222222222222222,
             "#7201a8"
            ],
            [
             0.3333333333333333,
             "#9c179e"
            ],
            [
             0.4444444444444444,
             "#bd3786"
            ],
            [
             0.5555555555555556,
             "#d8576b"
            ],
            [
             0.6666666666666666,
             "#ed7953"
            ],
            [
             0.7777777777777778,
             "#fb9f3a"
            ],
            [
             0.8888888888888888,
             "#fdca26"
            ],
            [
             1,
             "#f0f921"
            ]
           ]
          },
          "colorway": [
           "#636efa",
           "#EF553B",
           "#00cc96",
           "#ab63fa",
           "#FFA15A",
           "#19d3f3",
           "#FF6692",
           "#B6E880",
           "#FF97FF",
           "#FECB52"
          ],
          "font": {
           "color": "#2a3f5f"
          },
          "geo": {
           "bgcolor": "white",
           "lakecolor": "white",
           "landcolor": "#E5ECF6",
           "showlakes": true,
           "showland": true,
           "subunitcolor": "white"
          },
          "hoverlabel": {
           "align": "left"
          },
          "hovermode": "closest",
          "mapbox": {
           "style": "light"
          },
          "paper_bgcolor": "white",
          "plot_bgcolor": "#E5ECF6",
          "polar": {
           "angularaxis": {
            "gridcolor": "white",
            "linecolor": "white",
            "ticks": ""
           },
           "bgcolor": "#E5ECF6",
           "radialaxis": {
            "gridcolor": "white",
            "linecolor": "white",
            "ticks": ""
           }
          },
          "scene": {
           "xaxis": {
            "backgroundcolor": "#E5ECF6",
            "gridcolor": "white",
            "gridwidth": 2,
            "linecolor": "white",
            "showbackground": true,
            "ticks": "",
            "zerolinecolor": "white"
           },
           "yaxis": {
            "backgroundcolor": "#E5ECF6",
            "gridcolor": "white",
            "gridwidth": 2,
            "linecolor": "white",
            "showbackground": true,
            "ticks": "",
            "zerolinecolor": "white"
           },
           "zaxis": {
            "backgroundcolor": "#E5ECF6",
            "gridcolor": "white",
            "gridwidth": 2,
            "linecolor": "white",
            "showbackground": true,
            "ticks": "",
            "zerolinecolor": "white"
           }
          },
          "shapedefaults": {
           "line": {
            "color": "#2a3f5f"
           }
          },
          "ternary": {
           "aaxis": {
            "gridcolor": "white",
            "linecolor": "white",
            "ticks": ""
           },
           "baxis": {
            "gridcolor": "white",
            "linecolor": "white",
            "ticks": ""
           },
           "bgcolor": "#E5ECF6",
           "caxis": {
            "gridcolor": "white",
            "linecolor": "white",
            "ticks": ""
           }
          },
          "title": {
           "x": 0.05
          },
          "xaxis": {
           "automargin": true,
           "gridcolor": "white",
           "linecolor": "white",
           "ticks": "",
           "title": {
            "standoff": 15
           },
           "zerolinecolor": "white",
           "zerolinewidth": 2
          },
          "yaxis": {
           "automargin": true,
           "gridcolor": "white",
           "linecolor": "white",
           "ticks": "",
           "title": {
            "standoff": 15
           },
           "zerolinecolor": "white",
           "zerolinewidth": 2
          }
         }
        },
        "width": 500
       }
      },
      "image/png": "[encoded data removed]",
      "text/html": [
       "<div>                            <div id=\"117d7b00-fe8f-46a6-987e-4ca7dd9f3782\" class=\"plotly-graph-div\" style=\"height:200px; width:500px;\"></div>            <script type=\"text/javascript\">                require([\"plotly\"], function(Plotly) {                    window.PLOTLYENV=window.PLOTLYENV || {};                                    if (document.getElementById(\"117d7b00-fe8f-46a6-987e-4ca7dd9f3782\")) {                    Plotly.newPlot(                        \"117d7b00-fe8f-46a6-987e-4ca7dd9f3782\",                        [{\"mode\":\"number\",\"title\":{\"text\":\"Total Sales\"},\"value\":46086887.0,\"type\":\"indicator\"}],                        {\"template\":{\"data\":{\"histogram2dcontour\":[{\"type\":\"histogram2dcontour\",\"colorbar\":{\"outlinewidth\":0,\"ticks\":\"\"},\"colorscale\":[[0.0,\"#0d0887\"],[0.1111111111111111,\"#46039f\"],[0.2222222222222222,\"#7201a8\"],[0.3333333333333333,\"#9c179e\"],[0.4444444444444444,\"#bd3786\"],[0.5555555555555556,\"#d8576b\"],[0.6666666666666666,\"#ed7953\"],[0.7777777777777778,\"#fb9f3a\"],[0.8888888888888888,\"#fdca26\"],[1.0,\"#f0f921\"]]}],\"choropleth\":[{\"type\":\"choropleth\",\"colorbar\":{\"outlinewidth\":0,\"ticks\":\"\"}}],\"histogram2d\":[{\"type\":\"histogram2d\",\"colorbar\":{\"outlinewidth\":0,\"ticks\":\"\"},\"colorscale\":[[0.0,\"#0d0887\"],[0.1111111111111111,\"#46039f\"],[0.2222222222222222,\"#7201a8\"],[0.3333333333333333,\"#9c179e\"],[0.4444444444444444,\"#bd3786\"],[0.5555555555555556,\"#d8576b\"],[0.6666666666666666,\"#ed7953\"],[0.7777777777777778,\"#fb9f3a\"],[0.8888888888888888,\"#fdca26\"],[1.0,\"#f0f921\"]]}],\"heatmap\":[{\"type\":\"heatmap\",\"colorbar\":{\"outlinewidth\":0,\"ticks\":\"\"},\"colorscale\":[[0.0,\"#0d0887\"],[0.1111111111111111,\"#46039f\"],[0.2222222222222222,\"#7201a8\"],[0.3333333333333333,\"#9c179e\"],[0.4444444444444444,\"#bd3786\"],[0.5555555555555556,\"#d8576b\"],[0.6666666666666666,\"#ed7953\"],[0.7777777777777778,\"#fb9f3a\"],[0.8888888888888888,\"#fdca26\"],[1.0,\"#f0f921\"]]}],\"heatmapgl\":[{\"type\":\"heatmapgl\",\"colorbar\":{\"outlinewidth\":0,\"ticks\":\"\"},\"colorscale\":[[0.0,\"#0d0887\"],[0.1111111111111111,\"#46039f\"],[0.2222222222222222,\"#7201a8\"],[0.3333333333333333,\"#9c179e\"],[0.4444444444444444,\"#bd3786\"],[0.5555555555555556,\"#d8576b\"],[0.6666666666666666,\"#ed7953\"],[0.7777777777777778,\"#fb9f3a\"],[0.8888888888888888,\"#fdca26\"],[1.0,\"#f0f921\"]]}],\"contourcarpet\":[{\"type\":\"contourcarpet\",\"colorbar\":{\"outlinewidth\":0,\"ticks\":\"\"}}],\"contour\":[{\"type\":\"contour\",\"colorbar\":{\"outlinewidth\":0,\"ticks\":\"\"},\"colorscale\":[[0.0,\"#0d0887\"],[0.1111111111111111,\"#46039f\"],[0.2222222222222222,\"#7201a8\"],[0.3333333333333333,\"#9c179e\"],[0.4444444444444444,\"#bd3786\"],[0.5555555555555556,\"#d8576b\"],[0.6666666666666666,\"#ed7953\"],[0.7777777777777778,\"#fb9f3a\"],[0.8888888888888888,\"#fdca26\"],[1.0,\"#f0f921\"]]}],\"surface\":[{\"type\":\"surface\",\"colorbar\":{\"outlinewidth\":0,\"ticks\":\"\"},\"colorscale\":[[0.0,\"#0d0887\"],[0.1111111111111111,\"#46039f\"],[0.2222222222222222,\"#7201a8\"],[0.3333333333333333,\"#9c179e\"],[0.4444444444444444,\"#bd3786\"],[0.5555555555555556,\"#d8576b\"],[0.6666666666666666,\"#ed7953\"],[0.7777777777777778,\"#fb9f3a\"],[0.8888888888888888,\"#fdca26\"],[1.0,\"#f0f921\"]]}],\"mesh3d\":[{\"type\":\"mesh3d\",\"colorbar\":{\"outlinewidth\":0,\"ticks\":\"\"}}],\"scatter\":[{\"fillpattern\":{\"fillmode\":\"overlay\",\"size\":10,\"solidity\":0.2},\"type\":\"scatter\"}],\"parcoords\":[{\"type\":\"parcoords\",\"line\":{\"colorbar\":{\"outlinewidth\":0,\"ticks\":\"\"}}}],\"scatterpolargl\":[{\"type\":\"scatterpolargl\",\"marker\":{\"colorbar\":{\"outlinewidth\":0,\"ticks\":\"\"}}}],\"bar\":[{\"error_x\":{\"color\":\"#2a3f5f\"},\"error_y\":{\"color\":\"#2a3f5f\"},\"marker\":{\"line\":{\"color\":\"#E5ECF6\",\"width\":0.5},\"pattern\":{\"fillmode\":\"overlay\",\"size\":10,\"solidity\":0.2}},\"type\":\"bar\"}],\"scattergeo\":[{\"type\":\"scattergeo\",\"marker\":{\"colorbar\":{\"outlinewidth\":0,\"ticks\":\"\"}}}],\"scatterpolar\":[{\"type\":\"scatterpolar\",\"marker\":{\"colorbar\":{\"outlinewidth\":0,\"ticks\":\"\"}}}],\"histogram\":[{\"marker\":{\"pattern\":{\"fillmode\":\"overlay\",\"size\":10,\"solidity\":0.2}},\"type\":\"histogram\"}],\"scattergl\":[{\"type\":\"scattergl\",\"marker\":{\"colorbar\":{\"outlinewidth\":0,\"ticks\":\"\"}}}],\"scatter3d\":[{\"type\":\"scatter3d\",\"line\":{\"colorbar\":{\"outlinewidth\":0,\"ticks\":\"\"}},\"marker\":{\"colorbar\":{\"outlinewidth\":0,\"ticks\":\"\"}}}],\"scattermapbox\":[{\"type\":\"scattermapbox\",\"marker\":{\"colorbar\":{\"outlinewidth\":0,\"ticks\":\"\"}}}],\"scatterternary\":[{\"type\":\"scatterternary\",\"marker\":{\"colorbar\":{\"outlinewidth\":0,\"ticks\":\"\"}}}],\"scattercarpet\":[{\"type\":\"scattercarpet\",\"marker\":{\"colorbar\":{\"outlinewidth\":0,\"ticks\":\"\"}}}],\"carpet\":[{\"aaxis\":{\"endlinecolor\":\"#2a3f5f\",\"gridcolor\":\"white\",\"linecolor\":\"white\",\"minorgridcolor\":\"white\",\"startlinecolor\":\"#2a3f5f\"},\"baxis\":{\"endlinecolor\":\"#2a3f5f\",\"gridcolor\":\"white\",\"linecolor\":\"white\",\"minorgridcolor\":\"white\",\"startlinecolor\":\"#2a3f5f\"},\"type\":\"carpet\"}],\"table\":[{\"cells\":{\"fill\":{\"color\":\"#EBF0F8\"},\"line\":{\"color\":\"white\"}},\"header\":{\"fill\":{\"color\":\"#C8D4E3\"},\"line\":{\"color\":\"white\"}},\"type\":\"table\"}],\"barpolar\":[{\"marker\":{\"line\":{\"color\":\"#E5ECF6\",\"width\":0.5},\"pattern\":{\"fillmode\":\"overlay\",\"size\":10,\"solidity\":0.2}},\"type\":\"barpolar\"}],\"pie\":[{\"automargin\":true,\"type\":\"pie\"}]},\"layout\":{\"autotypenumbers\":\"strict\",\"colorway\":[\"#636efa\",\"#EF553B\",\"#00cc96\",\"#ab63fa\",\"#FFA15A\",\"#19d3f3\",\"#FF6692\",\"#B6E880\",\"#FF97FF\",\"#FECB52\"],\"font\":{\"color\":\"#2a3f5f\"},\"hovermode\":\"closest\",\"hoverlabel\":{\"align\":\"left\"},\"paper_bgcolor\":\"white\",\"plot_bgcolor\":\"#E5ECF6\",\"polar\":{\"bgcolor\":\"#E5ECF6\",\"angularaxis\":{\"gridcolor\":\"white\",\"linecolor\":\"white\",\"ticks\":\"\"},\"radialaxis\":{\"gridcolor\":\"white\",\"linecolor\":\"white\",\"ticks\":\"\"}},\"ternary\":{\"bgcolor\":\"#E5ECF6\",\"aaxis\":{\"gridcolor\":\"white\",\"linecolor\":\"white\",\"ticks\":\"\"},\"baxis\":{\"gridcolor\":\"white\",\"linecolor\":\"white\",\"ticks\":\"\"},\"caxis\":{\"gridcolor\":\"white\",\"linecolor\":\"white\",\"ticks\":\"\"}},\"coloraxis\":{\"colorbar\":{\"outlinewidth\":0,\"ticks\":\"\"}},\"colorscale\":{\"sequential\":[[0.0,\"#0d0887\"],[0.1111111111111111,\"#46039f\"],[0.2222222222222222,\"#7201a8\"],[0.3333333333333333,\"#9c179e\"],[0.4444444444444444,\"#bd3786\"],[0.5555555555555556,\"#d8576b\"],[0.6666666666666666,\"#ed7953\"],[0.7777777777777778,\"#fb9f3a\"],[0.8888888888888888,\"#fdca26\"],[1.0,\"#f0f921\"]],\"sequentialminus\":[[0.0,\"#0d0887\"],[0.1111111111111111,\"#46039f\"],[0.2222222222222222,\"#7201a8\"],[0.3333333333333333,\"#9c179e\"],[0.4444444444444444,\"#bd3786\"],[0.5555555555555556,\"#d8576b\"],[0.6666666666666666,\"#ed7953\"],[0.7777777777777778,\"#fb9f3a\"],[0.8888888888888888,\"#fdca26\"],[1.0,\"#f0f921\"]],\"diverging\":[[0,\"#8e0152\"],[0.1,\"#c51b7d\"],[0.2,\"#de77ae\"],[0.3,\"#f1b6da\"],[0.4,\"#fde0ef\"],[0.5,\"#f7f7f7\"],[0.6,\"#e6f5d0\"],[0.7,\"#b8e186\"],[0.8,\"#7fbc41\"],[0.9,\"#4d9221\"],[1,\"#276419\"]]},\"xaxis\":{\"gridcolor\":\"white\",\"linecolor\":\"white\",\"ticks\":\"\",\"title\":{\"standoff\":15},\"zerolinecolor\":\"white\",\"automargin\":true,\"zerolinewidth\":2},\"yaxis\":{\"gridcolor\":\"white\",\"linecolor\":\"white\",\"ticks\":\"\",\"title\":{\"standoff\":15},\"zerolinecolor\":\"white\",\"automargin\":true,\"zerolinewidth\":2},\"scene\":{\"xaxis\":{\"backgroundcolor\":\"#E5ECF6\",\"gridcolor\":\"white\",\"linecolor\":\"white\",\"showbackground\":true,\"ticks\":\"\",\"zerolinecolor\":\"white\",\"gridwidth\":2},\"yaxis\":{\"backgroundcolor\":\"#E5ECF6\",\"gridcolor\":\"white\",\"linecolor\":\"white\",\"showbackground\":true,\"ticks\":\"\",\"zerolinecolor\":\"white\",\"gridwidth\":2},\"zaxis\":{\"backgroundcolor\":\"#E5ECF6\",\"gridcolor\":\"white\",\"linecolor\":\"white\",\"showbackground\":true,\"ticks\":\"\",\"zerolinecolor\":\"white\",\"gridwidth\":2}},\"shapedefaults\":{\"line\":{\"color\":\"#2a3f5f\"}},\"annotationdefaults\":{\"arrowcolor\":\"#2a3f5f\",\"arrowhead\":0,\"arrowwidth\":1},\"geo\":{\"bgcolor\":\"white\",\"landcolor\":\"#E5ECF6\",\"subunitcolor\":\"white\",\"showland\":true,\"showlakes\":true,\"lakecolor\":\"white\"},\"title\":{\"x\":0.05},\"mapbox\":{\"style\":\"light\"}}},\"font\":{\"size\":18},\"margin\":{\"l\":20,\"r\":20,\"t\":40,\"b\":20},\"width\":500,\"height\":200},                        {\"responsive\": true}                    ).then(function(){\n",
       "                            \n",
       "var gd = document.getElementById('117d7b00-fe8f-46a6-987e-4ca7dd9f3782');\n",
       "var x = new MutationObserver(function (mutations, observer) {{\n",
       "        var display = window.getComputedStyle(gd).display;\n",
       "        if (!display || display === 'none') {{\n",
       "            console.log([gd, 'removed!']);\n",
       "            Plotly.purge(gd);\n",
       "            observer.disconnect();\n",
       "        }}\n",
       "}});\n",
       "\n",
       "// Listen for the removal of the full notebook cells\n",
       "var notebookContainer = gd.closest('#notebook-container');\n",
       "if (notebookContainer) {{\n",
       "    x.observe(notebookContainer, {childList: true});\n",
       "}}\n",
       "\n",
       "// Listen for the clearing of the current output cell\n",
       "var outputEl = gd.closest('.output');\n",
       "if (outputEl) {{\n",
       "    x.observe(outputEl, {childList: true});\n",
       "}}\n",
       "\n",
       "                        })                };                });            </script>        </div>"
      ]
     },
     "metadata": {},
     "output_type": "display_data"
    }
   ],
   "source": [
    "import plotly.graph_objects as go\n",
    "\n",
    "fig = go.Figure(go.Indicator(\n",
    "    mode = \"number\",\n",
    "    value = total_sales,\n",
    "    title = {\"text\": \"Total Sales\"}))\n",
    "fig.update_layout(\n",
    "    font=dict(size=18),\n",
    "    width=500,  #  width size\n",
    "    height=200,  # height size\n",
    "    margin=dict(l=20, r=20, t=40, b=20))  # smaller margins\n",
    "\n",
    "\n",
    "\n",
    "fig.show()\n"
   ]
  },
  {
   "cell_type": "markdown",
   "id": "8286e691-20f1-4141-a068-bd5bb7f85716",
   "metadata": {},
   "source": [
    "**YEARLY SALES**\n",
    "\n",
    "In 2021, total sales is $34,868,092\n",
    "\n",
    "In 2022, total sales is $11,218,795\n",
    "\n",
    "So, there was a drop in sales.Why?\n"
   ]
  },
  {
   "cell_type": "code",
   "execution_count": 54,
   "id": "acd566b8-2788-4020-a7ea-e55146abd5e0",
   "metadata": {},
   "outputs": [
    {
     "name": "stdout",
     "output_type": "stream",
     "text": [
      "Years: 2\n",
      "Actual years: [2021 2022]\n",
      "Yearly sales: Year\n",
      "2021    34868092.0\n",
      "2022    11218795.0\n",
      "Name: Sales_Amount, dtype: float64\n"
     ]
    }
   ],
   "source": [
    "years=df[\"Year\"].nunique()\n",
    "print(\"Years:\",years)\n",
    "\n",
    "actual_years=df[\"Year\"].unique()\n",
    "print(\"Actual years:\",actual_years)\n",
    "\n",
    "yearly_sales=df.groupby(\"Year\")[\"Sales_Amount\"].sum()\n",
    "print(\"Yearly sales:\",yearly_sales)"
   ]
  },
  {
   "cell_type": "markdown",
   "id": "b573a570-f89c-42ce-97ed-c21f915520ed",
   "metadata": {},
   "source": [
    "**Bar Chart**"
   ]
  },
  {
   "cell_type": "code",
   "execution_count": 177,
   "id": "62c6e18a-0057-4cbc-bb5a-ee1eabc6f396",
   "metadata": {},
   "outputs": [
    {
     "data": {
      "image/png": "[encoded data removed]",
      "text/plain": [
       "<Figure size 600x400 with 1 Axes>"
      ]
     },
     "metadata": {},
     "output_type": "display_data"
    }
   ],
   "source": [
    "import matplotlib.ticker as ticker\n",
    "\n",
    "yearly_sales.plot(kind='bar', figsize=(6, 4), color='skyblue')\n",
    "plt.title(\"Total Sales by Year\")\n",
    "plt.xlabel(\"Year\")\n",
    "plt.ylabel(\"Sales Amount\")\n",
    "plt.gca().yaxis.set_major_formatter(ticker.StrMethodFormatter('{x:,.0f}'))\n",
    "plt.xticks(rotation=45)\n",
    "plt.tight_layout()\n",
    "plt.show()\n"
   ]
  },
  {
   "cell_type": "markdown",
   "id": "45b5bdea-24f0-457d-99a7-19430ec4d7bb",
   "metadata": {},
   "source": [
    "**Plotly Interactive Bar Chart**"
   ]
  },
  {
   "cell_type": "code",
   "execution_count": 163,
   "id": "72b5566d-3cd7-4029-a80c-b9b7647b6d6a",
   "metadata": {},
   "outputs": [
    {
     "data": {
      "application/vnd.plotly.v1+json": {
       "config": {
        "plotlyServerURL": "https://plot.ly"
       },
       "data": [
        {
         "alignmentgroup": "True",
         "hovertemplate": "Year=%{x}<br>Sales Amount=%{y}<extra></extra>",
         "legendgroup": "",
         "marker": {
          "color": "skyblue",
          "pattern": {
           "shape": ""
          }
         },
         "name": "",
         "offsetgroup": "",
         "orientation": "v",
         "showlegend": false,
         "textposition": "auto",
         "type": "bar",
         "x": [
          2021,
          2022
         ],
         "xaxis": "x",
         "y": [
          34868092,
          11218795
         ],
         "yaxis": "y"
        }
       ],
       "layout": {
        "barmode": "relative",
        "height": 400,
        "legend": {
         "tracegroupgap": 0
        },
        "template": {
         "data": {
          "bar": [
           {
            "error_x": {
             "color": "#2a3f5f"
            },
            "error_y": {
             "color": "#2a3f5f"
            },
            "marker": {
             "line": {
              "color": "#E5ECF6",
              "width": 0.5
             },
             "pattern": {
              "fillmode": "overlay",
              "size": 10,
              "solidity": 0.2
             }
            },
            "type": "bar"
           }
          ],
          "barpolar": [
           {
            "marker": {
             "line": {
              "color": "#E5ECF6",
              "width": 0.5
             },
             "pattern": {
              "fillmode": "overlay",
              "size": 10,
              "solidity": 0.2
             }
            },
            "type": "barpolar"
           }
          ],
          "carpet": [
           {
            "aaxis": {
             "endlinecolor": "#2a3f5f",
             "gridcolor": "white",
             "linecolor": "white",
             "minorgridcolor": "white",
             "startlinecolor": "#2a3f5f"
            },
            "baxis": {
             "endlinecolor": "#2a3f5f",
             "gridcolor": "white",
             "linecolor": "white",
             "minorgridcolor": "white",
             "startlinecolor": "#2a3f5f"
            },
            "type": "carpet"
           }
          ],
          "choropleth": [
           {
            "colorbar": {
             "outlinewidth": 0,
             "ticks": ""
            },
            "type": "choropleth"
           }
          ],
          "contour": [
           {
            "colorbar": {
             "outlinewidth": 0,
             "ticks": ""
            },
            "colorscale": [
             [
              0,
              "#0d0887"
             ],
             [
              0.1111111111111111,
              "#46039f"
             ],
             [
              0.2222222222222222,
              "#7201a8"
             ],
             [
              0.3333333333333333,
              "#9c179e"
             ],
             [
              0.4444444444444444,
              "#bd3786"
             ],
             [
              0.5555555555555556,
              "#d8576b"
             ],
             [
              0.6666666666666666,
              "#ed7953"
             ],
             [
              0.7777777777777778,
              "#fb9f3a"
             ],
             [
              0.8888888888888888,
              "#fdca26"
             ],
             [
              1,
              "#f0f921"
             ]
            ],
            "type": "contour"
           }
          ],
          "contourcarpet": [
           {
            "colorbar": {
             "outlinewidth": 0,
             "ticks": ""
            },
            "type": "contourcarpet"
           }
          ],
          "heatmap": [
           {
            "colorbar": {
             "outlinewidth": 0,
             "ticks": ""
            },
            "colorscale": [
             [
              0,
              "#0d0887"
             ],
             [
              0.1111111111111111,
              "#46039f"
             ],
             [
              0.2222222222222222,
              "#7201a8"
             ],
             [
              0.3333333333333333,
              "#9c179e"
             ],
             [
              0.4444444444444444,
              "#bd3786"
             ],
             [
              0.5555555555555556,
              "#d8576b"
             ],
             [
              0.6666666666666666,
              "#ed7953"
             ],
             [
              0.7777777777777778,
              "#fb9f3a"
             ],
             [
              0.8888888888888888,
              "#fdca26"
             ],
             [
              1,
              "#f0f921"
             ]
            ],
            "type": "heatmap"
           }
          ],
          "heatmapgl": [
           {
            "colorbar": {
             "outlinewidth": 0,
             "ticks": ""
            },
            "colorscale": [
             [
              0,
              "#0d0887"
             ],
             [
              0.1111111111111111,
              "#46039f"
             ],
             [
              0.2222222222222222,
              "#7201a8"
             ],
             [
              0.3333333333333333,
              "#9c179e"
             ],
             [
              0.4444444444444444,
              "#bd3786"
             ],
             [
              0.5555555555555556,
              "#d8576b"
             ],
             [
              0.6666666666666666,
              "#ed7953"
             ],
             [
              0.7777777777777778,
              "#fb9f3a"
             ],
             [
              0.8888888888888888,
              "#fdca26"
             ],
             [
              1,
              "#f0f921"
             ]
            ],
            "type": "heatmapgl"
           }
          ],
          "histogram": [
           {
            "marker": {
             "pattern": {
              "fillmode": "overlay",
              "size": 10,
              "solidity": 0.2
             }
            },
            "type": "histogram"
           }
          ],
          "histogram2d": [
           {
            "colorbar": {
             "outlinewidth": 0,
             "ticks": ""
            },
            "colorscale": [
             [
              0,
              "#0d0887"
             ],
             [
              0.1111111111111111,
              "#46039f"
             ],
             [
              0.2222222222222222,
              "#7201a8"
             ],
             [
              0.3333333333333333,
              "#9c179e"
             ],
             [
              0.4444444444444444,
              "#bd3786"
             ],
             [
              0.5555555555555556,
              "#d8576b"
             ],
             [
              0.6666666666666666,
              "#ed7953"
             ],
             [
              0.7777777777777778,
              "#fb9f3a"
             ],
             [
              0.8888888888888888,
              "#fdca26"
             ],
             [
              1,
              "#f0f921"
             ]
            ],
            "type": "histogram2d"
           }
          ],
          "histogram2dcontour": [
           {
            "colorbar": {
             "outlinewidth": 0,
             "ticks": ""
            },
            "colorscale": [
             [
              0,
              "#0d0887"
             ],
             [
              0.1111111111111111,
              "#46039f"
             ],
             [
              0.2222222222222222,
              "#7201a8"
             ],
             [
              0.3333333333333333,
              "#9c179e"
             ],
             [
              0.4444444444444444,
              "#bd3786"
             ],
             [
              0.5555555555555556,
              "#d8576b"
             ],
             [
              0.6666666666666666,
              "#ed7953"
             ],
             [
              0.7777777777777778,
              "#fb9f3a"
             ],
             [
              0.8888888888888888,
              "#fdca26"
             ],
             [
              1,
              "#f0f921"
             ]
            ],
            "type": "histogram2dcontour"
           }
          ],
          "mesh3d": [
           {
            "colorbar": {
             "outlinewidth": 0,
             "ticks": ""
            },
            "type": "mesh3d"
           }
          ],
          "parcoords": [
           {
            "line": {
             "colorbar": {
              "outlinewidth": 0,
              "ticks": ""
             }
            },
            "type": "parcoords"
           }
          ],
          "pie": [
           {
            "automargin": true,
            "type": "pie"
           }
          ],
          "scatter": [
           {
            "fillpattern": {
             "fillmode": "overlay",
             "size": 10,
             "solidity": 0.2
            },
            "type": "scatter"
           }
          ],
          "scatter3d": [
           {
            "line": {
             "colorbar": {
              "outlinewidth": 0,
              "ticks": ""
             }
            },
            "marker": {
             "colorbar": {
              "outlinewidth": 0,
              "ticks": ""
             }
            },
            "type": "scatter3d"
           }
          ],
          "scattercarpet": [
           {
            "marker": {
             "colorbar": {
              "outlinewidth": 0,
              "ticks": ""
             }
            },
            "type": "scattercarpet"
           }
          ],
          "scattergeo": [
           {
            "marker": {
             "colorbar": {
              "outlinewidth": 0,
              "ticks": ""
             }
            },
            "type": "scattergeo"
           }
          ],
          "scattergl": [
           {
            "marker": {
             "colorbar": {
              "outlinewidth": 0,
              "ticks": ""
             }
            },
            "type": "scattergl"
           }
          ],
          "scattermapbox": [
           {
            "marker": {
             "colorbar": {
              "outlinewidth": 0,
              "ticks": ""
             }
            },
            "type": "scattermapbox"
           }
          ],
          "scatterpolar": [
           {
            "marker": {
             "colorbar": {
              "outlinewidth": 0,
              "ticks": ""
             }
            },
            "type": "scatterpolar"
           }
          ],
          "scatterpolargl": [
           {
            "marker": {
             "colorbar": {
              "outlinewidth": 0,
              "ticks": ""
             }
            },
            "type": "scatterpolargl"
           }
          ],
          "scatterternary": [
           {
            "marker": {
             "colorbar": {
              "outlinewidth": 0,
              "ticks": ""
             }
            },
            "type": "scatterternary"
           }
          ],
          "surface": [
           {
            "colorbar": {
             "outlinewidth": 0,
             "ticks": ""
            },
            "colorscale": [
             [
              0,
              "#0d0887"
             ],
             [
              0.1111111111111111,
              "#46039f"
             ],
             [
              0.2222222222222222,
              "#7201a8"
             ],
             [
              0.3333333333333333,
              "#9c179e"
             ],
             [
              0.4444444444444444,
              "#bd3786"
             ],
             [
              0.5555555555555556,
              "#d8576b"
             ],
             [
              0.6666666666666666,
              "#ed7953"
             ],
             [
              0.7777777777777778,
              "#fb9f3a"
             ],
             [
              0.8888888888888888,
              "#fdca26"
             ],
             [
              1,
              "#f0f921"
             ]
            ],
            "type": "surface"
           }
          ],
          "table": [
           {
            "cells": {
             "fill": {
              "color": "#EBF0F8"
             },
             "line": {
              "color": "white"
             }
            },
            "header": {
             "fill": {
              "color": "#C8D4E3"
             },
             "line": {
              "color": "white"
             }
            },
            "type": "table"
           }
          ]
         },
         "layout": {
          "annotationdefaults": {
           "arrowcolor": "#2a3f5f",
           "arrowhead": 0,
           "arrowwidth": 1
          },
          "autotypenumbers": "strict",
          "coloraxis": {
           "colorbar": {
            "outlinewidth": 0,
            "ticks": ""
           }
          },
          "colorscale": {
           "diverging": [
            [
             0,
             "#8e0152"
            ],
            [
             0.1,
             "#c51b7d"
            ],
            [
             0.2,
             "#de77ae"
            ],
            [
             0.3,
             "#f1b6da"
            ],
            [
             0.4,
             "#fde0ef"
            ],
            [
             0.5,
             "#f7f7f7"
            ],
            [
             0.6,
             "#e6f5d0"
            ],
            [
             0.7,
             "#b8e186"
            ],
            [
             0.8,
             "#7fbc41"
            ],
            [
             0.9,
             "#4d9221"
            ],
            [
             1,
             "#276419"
            ]
           ],
           "sequential": [
            [
             0,
             "#0d0887"
            ],
            [
             0.1111111111111111,
             "#46039f"
            ],
            [
             0.2222222222222222,
             "#7201a8"
            ],
            [
             0.3333333333333333,
             "#9c179e"
            ],
            [
             0.4444444444444444,
             "#bd3786"
            ],
            [
             0.5555555555555556,
             "#d8576b"
            ],
            [
             0.6666666666666666,
             "#ed7953"
            ],
            [
             0.7777777777777778,
             "#fb9f3a"
            ],
            [
             0.8888888888888888,
             "#fdca26"
            ],
            [
             1,
             "#f0f921"
            ]
           ],
           "sequentialminus": [
            [
             0,
             "#0d0887"
            ],
            [
             0.1111111111111111,
             "#46039f"
            ],
            [
             0.2222222222222222,
             "#7201a8"
            ],
            [
             0.3333333333333333,
             "#9c179e"
            ],
            [
             0.4444444444444444,
             "#bd3786"
            ],
            [
             0.5555555555555556,
             "#d8576b"
            ],
            [
             0.6666666666666666,
             "#ed7953"
            ],
            [
             0.7777777777777778,
             "#fb9f3a"
            ],
            [
             0.8888888888888888,
             "#fdca26"
            ],
            [
             1,
             "#f0f921"
            ]
           ]
          },
          "colorway": [
           "#636efa",
           "#EF553B",
           "#00cc96",
           "#ab63fa",
           "#FFA15A",
           "#19d3f3",
           "#FF6692",
           "#B6E880",
           "#FF97FF",
           "#FECB52"
          ],
          "font": {
           "color": "#2a3f5f"
          },
          "geo": {
           "bgcolor": "white",
           "lakecolor": "white",
           "landcolor": "#E5ECF6",
           "showlakes": true,
           "showland": true,
           "subunitcolor": "white"
          },
          "hoverlabel": {
           "align": "left"
          },
          "hovermode": "closest",
          "mapbox": {
           "style": "light"
          },
          "paper_bgcolor": "white",
          "plot_bgcolor": "#E5ECF6",
          "polar": {
           "angularaxis": {
            "gridcolor": "white",
            "linecolor": "white",
            "ticks": ""
           },
           "bgcolor": "#E5ECF6",
           "radialaxis": {
            "gridcolor": "white",
            "linecolor": "white",
            "ticks": ""
           }
          },
          "scene": {
           "xaxis": {
            "backgroundcolor": "#E5ECF6",
            "gridcolor": "white",
            "gridwidth": 2,
            "linecolor": "white",
            "showbackground": true,
            "ticks": "",
            "zerolinecolor": "white"
           },
           "yaxis": {
            "backgroundcolor": "#E5ECF6",
            "gridcolor": "white",
            "gridwidth": 2,
            "linecolor": "white",
            "showbackground": true,
            "ticks": "",
            "zerolinecolor": "white"
           },
           "zaxis": {
            "backgroundcolor": "#E5ECF6",
            "gridcolor": "white",
            "gridwidth": 2,
            "linecolor": "white",
            "showbackground": true,
            "ticks": "",
            "zerolinecolor": "white"
           }
          },
          "shapedefaults": {
           "line": {
            "color": "#2a3f5f"
           }
          },
          "ternary": {
           "aaxis": {
            "gridcolor": "white",
            "linecolor": "white",
            "ticks": ""
           },
           "baxis": {
            "gridcolor": "white",
            "linecolor": "white",
            "ticks": ""
           },
           "bgcolor": "#E5ECF6",
           "caxis": {
            "gridcolor": "white",
            "linecolor": "white",
            "ticks": ""
           }
          },
          "title": {
           "x": 0.05
          },
          "xaxis": {
           "automargin": true,
           "gridcolor": "white",
           "linecolor": "white",
           "ticks": "",
           "title": {
            "standoff": 15
           },
           "zerolinecolor": "white",
           "zerolinewidth": 2
          },
          "yaxis": {
           "automargin": true,
           "gridcolor": "white",
           "linecolor": "white",
           "ticks": "",
           "title": {
            "standoff": 15
           },
           "zerolinecolor": "white",
           "zerolinewidth": 2
          }
         }
        },
        "title": {
         "text": "Yearly Sales"
        },
        "width": 600,
        "xaxis": {
         "anchor": "y",
         "autorange": true,
         "domain": [
          0,
          1
         ],
         "range": [
          2020.5,
          2022.5
         ],
         "title": {
          "text": "Year"
         },
         "type": "linear"
        },
        "yaxis": {
         "anchor": "x",
         "autorange": true,
         "domain": [
          0,
          1
         ],
         "range": [
          0,
          36703254.7368421
         ],
         "title": {
          "text": "Sales Amount"
         },
         "type": "linear"
        }
       }
      },
      "image/png": "[encoded data removed]",
      "text/html": [
       "<div>                            <div id=\"10305eb0-6ea5-40c4-aaa0-7c237e44cf81\" class=\"plotly-graph-div\" style=\"height:400px; width:600px;\"></div>            <script type=\"text/javascript\">                require([\"plotly\"], function(Plotly) {                    window.PLOTLYENV=window.PLOTLYENV || {};                                    if (document.getElementById(\"10305eb0-6ea5-40c4-aaa0-7c237e44cf81\")) {                    Plotly.newPlot(                        \"10305eb0-6ea5-40c4-aaa0-7c237e44cf81\",                        [{\"alignmentgroup\":\"True\",\"hovertemplate\":\"Year=%{x}\\u003cbr\\u003eSales Amount=%{y}\\u003cextra\\u003e\\u003c\\u002fextra\\u003e\",\"legendgroup\":\"\",\"marker\":{\"color\":\"skyblue\",\"pattern\":{\"shape\":\"\"}},\"name\":\"\",\"offsetgroup\":\"\",\"orientation\":\"v\",\"showlegend\":false,\"textposition\":\"auto\",\"x\":[2021,2022],\"xaxis\":\"x\",\"y\":[34868092.0,11218795.0],\"yaxis\":\"y\",\"type\":\"bar\"}],                        {\"template\":{\"data\":{\"histogram2dcontour\":[{\"type\":\"histogram2dcontour\",\"colorbar\":{\"outlinewidth\":0,\"ticks\":\"\"},\"colorscale\":[[0.0,\"#0d0887\"],[0.1111111111111111,\"#46039f\"],[0.2222222222222222,\"#7201a8\"],[0.3333333333333333,\"#9c179e\"],[0.4444444444444444,\"#bd3786\"],[0.5555555555555556,\"#d8576b\"],[0.6666666666666666,\"#ed7953\"],[0.7777777777777778,\"#fb9f3a\"],[0.8888888888888888,\"#fdca26\"],[1.0,\"#f0f921\"]]}],\"choropleth\":[{\"type\":\"choropleth\",\"colorbar\":{\"outlinewidth\":0,\"ticks\":\"\"}}],\"histogram2d\":[{\"type\":\"histogram2d\",\"colorbar\":{\"outlinewidth\":0,\"ticks\":\"\"},\"colorscale\":[[0.0,\"#0d0887\"],[0.1111111111111111,\"#46039f\"],[0.2222222222222222,\"#7201a8\"],[0.3333333333333333,\"#9c179e\"],[0.4444444444444444,\"#bd3786\"],[0.5555555555555556,\"#d8576b\"],[0.6666666666666666,\"#ed7953\"],[0.7777777777777778,\"#fb9f3a\"],[0.8888888888888888,\"#fdca26\"],[1.0,\"#f0f921\"]]}],\"heatmap\":[{\"type\":\"heatmap\",\"colorbar\":{\"outlinewidth\":0,\"ticks\":\"\"},\"colorscale\":[[0.0,\"#0d0887\"],[0.1111111111111111,\"#46039f\"],[0.2222222222222222,\"#7201a8\"],[0.3333333333333333,\"#9c179e\"],[0.4444444444444444,\"#bd3786\"],[0.5555555555555556,\"#d8576b\"],[0.6666666666666666,\"#ed7953\"],[0.7777777777777778,\"#fb9f3a\"],[0.8888888888888888,\"#fdca26\"],[1.0,\"#f0f921\"]]}],\"heatmapgl\":[{\"type\":\"heatmapgl\",\"colorbar\":{\"outlinewidth\":0,\"ticks\":\"\"},\"colorscale\":[[0.0,\"#0d0887\"],[0.1111111111111111,\"#46039f\"],[0.2222222222222222,\"#7201a8\"],[0.3333333333333333,\"#9c179e\"],[0.4444444444444444,\"#bd3786\"],[0.5555555555555556,\"#d8576b\"],[0.6666666666666666,\"#ed7953\"],[0.7777777777777778,\"#fb9f3a\"],[0.8888888888888888,\"#fdca26\"],[1.0,\"#f0f921\"]]}],\"contourcarpet\":[{\"type\":\"contourcarpet\",\"colorbar\":{\"outlinewidth\":0,\"ticks\":\"\"}}],\"contour\":[{\"type\":\"contour\",\"colorbar\":{\"outlinewidth\":0,\"ticks\":\"\"},\"colorscale\":[[0.0,\"#0d0887\"],[0.1111111111111111,\"#46039f\"],[0.2222222222222222,\"#7201a8\"],[0.3333333333333333,\"#9c179e\"],[0.4444444444444444,\"#bd3786\"],[0.5555555555555556,\"#d8576b\"],[0.6666666666666666,\"#ed7953\"],[0.7777777777777778,\"#fb9f3a\"],[0.8888888888888888,\"#fdca26\"],[1.0,\"#f0f921\"]]}],\"surface\":[{\"type\":\"surface\",\"colorbar\":{\"outlinewidth\":0,\"ticks\":\"\"},\"colorscale\":[[0.0,\"#0d0887\"],[0.1111111111111111,\"#46039f\"],[0.2222222222222222,\"#7201a8\"],[0.3333333333333333,\"#9c179e\"],[0.4444444444444444,\"#bd3786\"],[0.5555555555555556,\"#d8576b\"],[0.6666666666666666,\"#ed7953\"],[0.7777777777777778,\"#fb9f3a\"],[0.8888888888888888,\"#fdca26\"],[1.0,\"#f0f921\"]]}],\"mesh3d\":[{\"type\":\"mesh3d\",\"colorbar\":{\"outlinewidth\":0,\"ticks\":\"\"}}],\"scatter\":[{\"fillpattern\":{\"fillmode\":\"overlay\",\"size\":10,\"solidity\":0.2},\"type\":\"scatter\"}],\"parcoords\":[{\"type\":\"parcoords\",\"line\":{\"colorbar\":{\"outlinewidth\":0,\"ticks\":\"\"}}}],\"scatterpolargl\":[{\"type\":\"scatterpolargl\",\"marker\":{\"colorbar\":{\"outlinewidth\":0,\"ticks\":\"\"}}}],\"bar\":[{\"error_x\":{\"color\":\"#2a3f5f\"},\"error_y\":{\"color\":\"#2a3f5f\"},\"marker\":{\"line\":{\"color\":\"#E5ECF6\",\"width\":0.5},\"pattern\":{\"fillmode\":\"overlay\",\"size\":10,\"solidity\":0.2}},\"type\":\"bar\"}],\"scattergeo\":[{\"type\":\"scattergeo\",\"marker\":{\"colorbar\":{\"outlinewidth\":0,\"ticks\":\"\"}}}],\"scatterpolar\":[{\"type\":\"scatterpolar\",\"marker\":{\"colorbar\":{\"outlinewidth\":0,\"ticks\":\"\"}}}],\"histogram\":[{\"marker\":{\"pattern\":{\"fillmode\":\"overlay\",\"size\":10,\"solidity\":0.2}},\"type\":\"histogram\"}],\"scattergl\":[{\"type\":\"scattergl\",\"marker\":{\"colorbar\":{\"outlinewidth\":0,\"ticks\":\"\"}}}],\"scatter3d\":[{\"type\":\"scatter3d\",\"line\":{\"colorbar\":{\"outlinewidth\":0,\"ticks\":\"\"}},\"marker\":{\"colorbar\":{\"outlinewidth\":0,\"ticks\":\"\"}}}],\"scattermapbox\":[{\"type\":\"scattermapbox\",\"marker\":{\"colorbar\":{\"outlinewidth\":0,\"ticks\":\"\"}}}],\"scatterternary\":[{\"type\":\"scatterternary\",\"marker\":{\"colorbar\":{\"outlinewidth\":0,\"ticks\":\"\"}}}],\"scattercarpet\":[{\"type\":\"scattercarpet\",\"marker\":{\"colorbar\":{\"outlinewidth\":0,\"ticks\":\"\"}}}],\"carpet\":[{\"aaxis\":{\"endlinecolor\":\"#2a3f5f\",\"gridcolor\":\"white\",\"linecolor\":\"white\",\"minorgridcolor\":\"white\",\"startlinecolor\":\"#2a3f5f\"},\"baxis\":{\"endlinecolor\":\"#2a3f5f\",\"gridcolor\":\"white\",\"linecolor\":\"white\",\"minorgridcolor\":\"white\",\"startlinecolor\":\"#2a3f5f\"},\"type\":\"carpet\"}],\"table\":[{\"cells\":{\"fill\":{\"color\":\"#EBF0F8\"},\"line\":{\"color\":\"white\"}},\"header\":{\"fill\":{\"color\":\"#C8D4E3\"},\"line\":{\"color\":\"white\"}},\"type\":\"table\"}],\"barpolar\":[{\"marker\":{\"line\":{\"color\":\"#E5ECF6\",\"width\":0.5},\"pattern\":{\"fillmode\":\"overlay\",\"size\":10,\"solidity\":0.2}},\"type\":\"barpolar\"}],\"pie\":[{\"automargin\":true,\"type\":\"pie\"}]},\"layout\":{\"autotypenumbers\":\"strict\",\"colorway\":[\"#636efa\",\"#EF553B\",\"#00cc96\",\"#ab63fa\",\"#FFA15A\",\"#19d3f3\",\"#FF6692\",\"#B6E880\",\"#FF97FF\",\"#FECB52\"],\"font\":{\"color\":\"#2a3f5f\"},\"hovermode\":\"closest\",\"hoverlabel\":{\"align\":\"left\"},\"paper_bgcolor\":\"white\",\"plot_bgcolor\":\"#E5ECF6\",\"polar\":{\"bgcolor\":\"#E5ECF6\",\"angularaxis\":{\"gridcolor\":\"white\",\"linecolor\":\"white\",\"ticks\":\"\"},\"radialaxis\":{\"gridcolor\":\"white\",\"linecolor\":\"white\",\"ticks\":\"\"}},\"ternary\":{\"bgcolor\":\"#E5ECF6\",\"aaxis\":{\"gridcolor\":\"white\",\"linecolor\":\"white\",\"ticks\":\"\"},\"baxis\":{\"gridcolor\":\"white\",\"linecolor\":\"white\",\"ticks\":\"\"},\"caxis\":{\"gridcolor\":\"white\",\"linecolor\":\"white\",\"ticks\":\"\"}},\"coloraxis\":{\"colorbar\":{\"outlinewidth\":0,\"ticks\":\"\"}},\"colorscale\":{\"sequential\":[[0.0,\"#0d0887\"],[0.1111111111111111,\"#46039f\"],[0.2222222222222222,\"#7201a8\"],[0.3333333333333333,\"#9c179e\"],[0.4444444444444444,\"#bd3786\"],[0.5555555555555556,\"#d8576b\"],[0.6666666666666666,\"#ed7953\"],[0.7777777777777778,\"#fb9f3a\"],[0.8888888888888888,\"#fdca26\"],[1.0,\"#f0f921\"]],\"sequentialminus\":[[0.0,\"#0d0887\"],[0.1111111111111111,\"#46039f\"],[0.2222222222222222,\"#7201a8\"],[0.3333333333333333,\"#9c179e\"],[0.4444444444444444,\"#bd3786\"],[0.5555555555555556,\"#d8576b\"],[0.6666666666666666,\"#ed7953\"],[0.7777777777777778,\"#fb9f3a\"],[0.8888888888888888,\"#fdca26\"],[1.0,\"#f0f921\"]],\"diverging\":[[0,\"#8e0152\"],[0.1,\"#c51b7d\"],[0.2,\"#de77ae\"],[0.3,\"#f1b6da\"],[0.4,\"#fde0ef\"],[0.5,\"#f7f7f7\"],[0.6,\"#e6f5d0\"],[0.7,\"#b8e186\"],[0.8,\"#7fbc41\"],[0.9,\"#4d9221\"],[1,\"#276419\"]]},\"xaxis\":{\"gridcolor\":\"white\",\"linecolor\":\"white\",\"ticks\":\"\",\"title\":{\"standoff\":15},\"zerolinecolor\":\"white\",\"automargin\":true,\"zerolinewidth\":2},\"yaxis\":{\"gridcolor\":\"white\",\"linecolor\":\"white\",\"ticks\":\"\",\"title\":{\"standoff\":15},\"zerolinecolor\":\"white\",\"automargin\":true,\"zerolinewidth\":2},\"scene\":{\"xaxis\":{\"backgroundcolor\":\"#E5ECF6\",\"gridcolor\":\"white\",\"linecolor\":\"white\",\"showbackground\":true,\"ticks\":\"\",\"zerolinecolor\":\"white\",\"gridwidth\":2},\"yaxis\":{\"backgroundcolor\":\"#E5ECF6\",\"gridcolor\":\"white\",\"linecolor\":\"white\",\"showbackground\":true,\"ticks\":\"\",\"zerolinecolor\":\"white\",\"gridwidth\":2},\"zaxis\":{\"backgroundcolor\":\"#E5ECF6\",\"gridcolor\":\"white\",\"linecolor\":\"white\",\"showbackground\":true,\"ticks\":\"\",\"zerolinecolor\":\"white\",\"gridwidth\":2}},\"shapedefaults\":{\"line\":{\"color\":\"#2a3f5f\"}},\"annotationdefaults\":{\"arrowcolor\":\"#2a3f5f\",\"arrowhead\":0,\"arrowwidth\":1},\"geo\":{\"bgcolor\":\"white\",\"landcolor\":\"#E5ECF6\",\"subunitcolor\":\"white\",\"showland\":true,\"showlakes\":true,\"lakecolor\":\"white\"},\"title\":{\"x\":0.05},\"mapbox\":{\"style\":\"light\"}}},\"xaxis\":{\"anchor\":\"y\",\"domain\":[0.0,1.0],\"title\":{\"text\":\"Year\"}},\"yaxis\":{\"anchor\":\"x\",\"domain\":[0.0,1.0],\"title\":{\"text\":\"Sales Amount\"}},\"legend\":{\"tracegroupgap\":0},\"title\":{\"text\":\"Yearly Sales\"},\"barmode\":\"relative\",\"width\":600,\"height\":400},                        {\"responsive\": true}                    ).then(function(){\n",
       "                            \n",
       "var gd = document.getElementById('10305eb0-6ea5-40c4-aaa0-7c237e44cf81');\n",
       "var x = new MutationObserver(function (mutations, observer) {{\n",
       "        var display = window.getComputedStyle(gd).display;\n",
       "        if (!display || display === 'none') {{\n",
       "            console.log([gd, 'removed!']);\n",
       "            Plotly.purge(gd);\n",
       "            observer.disconnect();\n",
       "        }}\n",
       "}});\n",
       "\n",
       "// Listen for the removal of the full notebook cells\n",
       "var notebookContainer = gd.closest('#notebook-container');\n",
       "if (notebookContainer) {{\n",
       "    x.observe(notebookContainer, {childList: true});\n",
       "}}\n",
       "\n",
       "// Listen for the clearing of the current output cell\n",
       "var outputEl = gd.closest('.output');\n",
       "if (outputEl) {{\n",
       "    x.observe(outputEl, {childList: true});\n",
       "}}\n",
       "\n",
       "                        })                };                });            </script>        </div>"
      ]
     },
     "metadata": {},
     "output_type": "display_data"
    }
   ],
   "source": [
    "import plotly.express as px\n",
    "\n",
    "fig = px.bar(\n",
    "    x=yearly_sales.index,\n",
    "    y=yearly_sales.values,\n",
    "    labels={\"x\": \"Year\", \"y\": \"Sales Amount\"},\n",
    "    title=\"Yearly Sales\",\n",
    "    color_discrete_sequence=[\"skyblue\"]\n",
    ")\n",
    "fig.update_layout(width=600, height=400)\n",
    "fig.show()\n"
   ]
  },
  {
   "cell_type": "markdown",
   "id": "cd2e317c-2f61-45ae-82c8-cd5671197198",
   "metadata": {},
   "source": [
    "**QUARTERLY SALES**\n",
    "\n",
    "In 2021, sales were in all the 4 quarters but in 2022, sales occured only in the first quarter, yet to know which months. So this explains why in 2022 sales were less than in 2021.\n",
    "\n",
    "In 2021, Q1 had 7,491,281, in Q2 they reduced to 5,374,404, in Q3 they raised to 8,351,259, in Q4 they raised to  13,651,148.  Why did they drop in Q2 and why the increase in the 2 consecutive quarters(Q3 and Q4)?\n",
    "\n",
    "In 2022, the sales dropped to 11,218,795 in the first quarter. Why the drop?"
   ]
  },
  {
   "cell_type": "code",
   "execution_count": 147,
   "id": "b33499ac-a0da-49a2-8040-8166c9a1bc87",
   "metadata": {},
   "outputs": [
    {
     "name": "stdout",
     "output_type": "stream",
     "text": [
      "  Quarter  Year  Sales_Amount\n",
      "0      Q1  2021     7491281.0\n",
      "1      Q1  2022    11218795.0\n",
      "2      Q2  2021     5374404.0\n",
      "3      Q3  2021     8351259.0\n",
      "4      Q4  2021    13651148.0\n"
     ]
    }
   ],
   "source": [
    "quarterly_sales=df.groupby([\"Quarter\",\"Year\"])[\"Sales_Amount\"].sum().reset_index()\n",
    "print(quarterly_sales)\n"
   ]
  },
  {
   "cell_type": "code",
   "execution_count": 191,
   "id": "ec87c889-8cc7-47ed-950e-b70c0493221e",
   "metadata": {},
   "outputs": [
    {
     "data": {
      "image/png": "[encoded data removed]",
      "text/plain": [
       "<Figure size 600x400 with 1 Axes>"
      ]
     },
     "metadata": {},
     "output_type": "display_data"
    }
   ],
   "source": [
    "import seaborn as sns\n",
    "import matplotlib.pyplot as plt\n",
    "import matplotlib.ticker as ticker\n",
    "\n",
    "\n",
    "plt.figure(figsize=(6, 4))\n",
    "sns.lineplot(data=quarterly_sales, x=\"Quarter\", y=\"Sales_Amount\", hue=\"Year\", marker='o')\n",
    "plt.title(\"Quarterly Sales by Year\")\n",
    "plt.ylabel(\"Sales Amount\")\n",
    "# Add comma format to Y-axis\n",
    "plt.gca().yaxis.set_major_formatter(ticker.StrMethodFormatter('{x:,.0f}'))\n",
    "plt.grid(True)\n",
    "plt.tight_layout()\n",
    "plt.show()\n"
   ]
  },
  {
   "cell_type": "code",
   "execution_count": 153,
   "id": "f39976a3-1b13-4cb1-96b6-844d0e3667d6",
   "metadata": {},
   "outputs": [
    {
     "data": {
      "application/vnd.plotly.v1+json": {
       "config": {
        "plotlyServerURL": "https://plot.ly"
       },
       "data": [
        {
         "alignmentgroup": "True",
         "hovertemplate": "Quarter=%{x}<br>Sales_Amount=%{y}<br>Year=%{marker.color}<extra></extra>",
         "legendgroup": "",
         "marker": {
          "color": [
           2021,
           2022,
           2021,
           2021,
           2021
          ],
          "coloraxis": "coloraxis",
          "pattern": {
           "shape": ""
          }
         },
         "name": "",
         "offsetgroup": "",
         "orientation": "v",
         "showlegend": false,
         "textposition": "auto",
         "type": "bar",
         "x": [
          "Q1",
          "Q1",
          "Q2",
          "Q3",
          "Q4"
         ],
         "xaxis": "x",
         "y": [
          7491281,
          11218795,
          5374404,
          8351259,
          13651148
         ],
         "yaxis": "y"
        }
       ],
       "layout": {
        "barmode": "group",
        "coloraxis": {
         "colorbar": {
          "title": {
           "text": "Year"
          }
         },
         "colorscale": [
          [
           0,
           "#0d0887"
          ],
          [
           0.1111111111111111,
           "#46039f"
          ],
          [
           0.2222222222222222,
           "#7201a8"
          ],
          [
           0.3333333333333333,
           "#9c179e"
          ],
          [
           0.4444444444444444,
           "#bd3786"
          ],
          [
           0.5555555555555556,
           "#d8576b"
          ],
          [
           0.6666666666666666,
           "#ed7953"
          ],
          [
           0.7777777777777778,
           "#fb9f3a"
          ],
          [
           0.8888888888888888,
           "#fdca26"
          ],
          [
           1,
           "#f0f921"
          ]
         ]
        },
        "height": 450,
        "legend": {
         "tracegroupgap": 0
        },
        "template": {
         "data": {
          "bar": [
           {
            "error_x": {
             "color": "#2a3f5f"
            },
            "error_y": {
             "color": "#2a3f5f"
            },
            "marker": {
             "line": {
              "color": "#E5ECF6",
              "width": 0.5
             },
             "pattern": {
              "fillmode": "overlay",
              "size": 10,
              "solidity": 0.2
             }
            },
            "type": "bar"
           }
          ],
          "barpolar": [
           {
            "marker": {
             "line": {
              "color": "#E5ECF6",
              "width": 0.5
             },
             "pattern": {
              "fillmode": "overlay",
              "size": 10,
              "solidity": 0.2
             }
            },
            "type": "barpolar"
           }
          ],
          "carpet": [
           {
            "aaxis": {
             "endlinecolor": "#2a3f5f",
             "gridcolor": "white",
             "linecolor": "white",
             "minorgridcolor": "white",
             "startlinecolor": "#2a3f5f"
            },
            "baxis": {
             "endlinecolor": "#2a3f5f",
             "gridcolor": "white",
             "linecolor": "white",
             "minorgridcolor": "white",
             "startlinecolor": "#2a3f5f"
            },
            "type": "carpet"
           }
          ],
          "choropleth": [
           {
            "colorbar": {
             "outlinewidth": 0,
             "ticks": ""
            },
            "type": "choropleth"
           }
          ],
          "contour": [
           {
            "colorbar": {
             "outlinewidth": 0,
             "ticks": ""
            },
            "colorscale": [
             [
              0,
              "#0d0887"
             ],
             [
              0.1111111111111111,
              "#46039f"
             ],
             [
              0.2222222222222222,
              "#7201a8"
             ],
             [
              0.3333333333333333,
              "#9c179e"
             ],
             [
              0.4444444444444444,
              "#bd3786"
             ],
             [
              0.5555555555555556,
              "#d8576b"
             ],
             [
              0.6666666666666666,
              "#ed7953"
             ],
             [
              0.7777777777777778,
              "#fb9f3a"
             ],
             [
              0.8888888888888888,
              "#fdca26"
             ],
             [
              1,
              "#f0f921"
             ]
            ],
            "type": "contour"
           }
          ],
          "contourcarpet": [
           {
            "colorbar": {
             "outlinewidth": 0,
             "ticks": ""
            },
            "type": "contourcarpet"
           }
          ],
          "heatmap": [
           {
            "colorbar": {
             "outlinewidth": 0,
             "ticks": ""
            },
            "colorscale": [
             [
              0,
              "#0d0887"
             ],
             [
              0.1111111111111111,
              "#46039f"
             ],
             [
              0.2222222222222222,
              "#7201a8"
             ],
             [
              0.3333333333333333,
              "#9c179e"
             ],
             [
              0.4444444444444444,
              "#bd3786"
             ],
             [
              0.5555555555555556,
              "#d8576b"
             ],
             [
              0.6666666666666666,
              "#ed7953"
             ],
             [
              0.7777777777777778,
              "#fb9f3a"
             ],
             [
              0.8888888888888888,
              "#fdca26"
             ],
             [
              1,
              "#f0f921"
             ]
            ],
            "type": "heatmap"
           }
          ],
          "heatmapgl": [
           {
            "colorbar": {
             "outlinewidth": 0,
             "ticks": ""
            },
            "colorscale": [
             [
              0,
              "#0d0887"
             ],
             [
              0.1111111111111111,
              "#46039f"
             ],
             [
              0.2222222222222222,
              "#7201a8"
             ],
             [
              0.3333333333333333,
              "#9c179e"
             ],
             [
              0.4444444444444444,
              "#bd3786"
             ],
             [
              0.5555555555555556,
              "#d8576b"
             ],
             [
              0.6666666666666666,
              "#ed7953"
             ],
             [
              0.7777777777777778,
              "#fb9f3a"
             ],
             [
              0.8888888888888888,
              "#fdca26"
             ],
             [
              1,
              "#f0f921"
             ]
            ],
            "type": "heatmapgl"
           }
          ],
          "histogram": [
           {
            "marker": {
             "pattern": {
              "fillmode": "overlay",
              "size": 10,
              "solidity": 0.2
             }
            },
            "type": "histogram"
           }
          ],
          "histogram2d": [
           {
            "colorbar": {
             "outlinewidth": 0,
             "ticks": ""
            },
            "colorscale": [
             [
              0,
              "#0d0887"
             ],
             [
              0.1111111111111111,
              "#46039f"
             ],
             [
              0.2222222222222222,
              "#7201a8"
             ],
             [
              0.3333333333333333,
              "#9c179e"
             ],
             [
              0.4444444444444444,
              "#bd3786"
             ],
             [
              0.5555555555555556,
              "#d8576b"
             ],
             [
              0.6666666666666666,
              "#ed7953"
             ],
             [
              0.7777777777777778,
              "#fb9f3a"
             ],
             [
              0.8888888888888888,
              "#fdca26"
             ],
             [
              1,
              "#f0f921"
             ]
            ],
            "type": "histogram2d"
           }
          ],
          "histogram2dcontour": [
           {
            "colorbar": {
             "outlinewidth": 0,
             "ticks": ""
            },
            "colorscale": [
             [
              0,
              "#0d0887"
             ],
             [
              0.1111111111111111,
              "#46039f"
             ],
             [
              0.2222222222222222,
              "#7201a8"
             ],
             [
              0.3333333333333333,
              "#9c179e"
             ],
             [
              0.4444444444444444,
              "#bd3786"
             ],
             [
              0.5555555555555556,
              "#d8576b"
             ],
             [
              0.6666666666666666,
              "#ed7953"
             ],
             [
              0.7777777777777778,
              "#fb9f3a"
             ],
             [
              0.8888888888888888,
              "#fdca26"
             ],
             [
              1,
              "#f0f921"
             ]
            ],
            "type": "histogram2dcontour"
           }
          ],
          "mesh3d": [
           {
            "colorbar": {
             "outlinewidth": 0,
             "ticks": ""
            },
            "type": "mesh3d"
           }
          ],
          "parcoords": [
           {
            "line": {
             "colorbar": {
              "outlinewidth": 0,
              "ticks": ""
             }
            },
            "type": "parcoords"
           }
          ],
          "pie": [
           {
            "automargin": true,
            "type": "pie"
           }
          ],
          "scatter": [
           {
            "fillpattern": {
             "fillmode": "overlay",
             "size": 10,
             "solidity": 0.2
            },
            "type": "scatter"
           }
          ],
          "scatter3d": [
           {
            "line": {
             "colorbar": {
              "outlinewidth": 0,
              "ticks": ""
             }
            },
            "marker": {
             "colorbar": {
              "outlinewidth": 0,
              "ticks": ""
             }
            },
            "type": "scatter3d"
           }
          ],
          "scattercarpet": [
           {
            "marker": {
             "colorbar": {
              "outlinewidth": 0,
              "ticks": ""
             }
            },
            "type": "scattercarpet"
           }
          ],
          "scattergeo": [
           {
            "marker": {
             "colorbar": {
              "outlinewidth": 0,
              "ticks": ""
             }
            },
            "type": "scattergeo"
           }
          ],
          "scattergl": [
           {
            "marker": {
             "colorbar": {
              "outlinewidth": 0,
              "ticks": ""
             }
            },
            "type": "scattergl"
           }
          ],
          "scattermapbox": [
           {
            "marker": {
             "colorbar": {
              "outlinewidth": 0,
              "ticks": ""
             }
            },
            "type": "scattermapbox"
           }
          ],
          "scatterpolar": [
           {
            "marker": {
             "colorbar": {
              "outlinewidth": 0,
              "ticks": ""
             }
            },
            "type": "scatterpolar"
           }
          ],
          "scatterpolargl": [
           {
            "marker": {
             "colorbar": {
              "outlinewidth": 0,
              "ticks": ""
             }
            },
            "type": "scatterpolargl"
           }
          ],
          "scatterternary": [
           {
            "marker": {
             "colorbar": {
              "outlinewidth": 0,
              "ticks": ""
             }
            },
            "type": "scatterternary"
           }
          ],
          "surface": [
           {
            "colorbar": {
             "outlinewidth": 0,
             "ticks": ""
            },
            "colorscale": [
             [
              0,
              "#0d0887"
             ],
             [
              0.1111111111111111,
              "#46039f"
             ],
             [
              0.2222222222222222,
              "#7201a8"
             ],
             [
              0.3333333333333333,
              "#9c179e"
             ],
             [
              0.4444444444444444,
              "#bd3786"
             ],
             [
              0.5555555555555556,
              "#d8576b"
             ],
             [
              0.6666666666666666,
              "#ed7953"
             ],
             [
              0.7777777777777778,
              "#fb9f3a"
             ],
             [
              0.8888888888888888,
              "#fdca26"
             ],
             [
              1,
              "#f0f921"
             ]
            ],
            "type": "surface"
           }
          ],
          "table": [
           {
            "cells": {
             "fill": {
              "color": "#EBF0F8"
             },
             "line": {
              "color": "white"
             }
            },
            "header": {
             "fill": {
              "color": "#C8D4E3"
             },
             "line": {
              "color": "white"
             }
            },
            "type": "table"
           }
          ]
         },
         "layout": {
          "annotationdefaults": {
           "arrowcolor": "#2a3f5f",
           "arrowhead": 0,
           "arrowwidth": 1
          },
          "autotypenumbers": "strict",
          "coloraxis": {
           "colorbar": {
            "outlinewidth": 0,
            "ticks": ""
           }
          },
          "colorscale": {
           "diverging": [
            [
             0,
             "#8e0152"
            ],
            [
             0.1,
             "#c51b7d"
            ],
            [
             0.2,
             "#de77ae"
            ],
            [
             0.3,
             "#f1b6da"
            ],
            [
             0.4,
             "#fde0ef"
            ],
            [
             0.5,
             "#f7f7f7"
            ],
            [
             0.6,
             "#e6f5d0"
            ],
            [
             0.7,
             "#b8e186"
            ],
            [
             0.8,
             "#7fbc41"
            ],
            [
             0.9,
             "#4d9221"
            ],
            [
             1,
             "#276419"
            ]
           ],
           "sequential": [
            [
             0,
             "#0d0887"
            ],
            [
             0.1111111111111111,
             "#46039f"
            ],
            [
             0.2222222222222222,
             "#7201a8"
            ],
            [
             0.3333333333333333,
             "#9c179e"
            ],
            [
             0.4444444444444444,
             "#bd3786"
            ],
            [
             0.5555555555555556,
             "#d8576b"
            ],
            [
             0.6666666666666666,
             "#ed7953"
            ],
            [
             0.7777777777777778,
             "#fb9f3a"
            ],
            [
             0.8888888888888888,
             "#fdca26"
            ],
            [
             1,
             "#f0f921"
            ]
           ],
           "sequentialminus": [
            [
             0,
             "#0d0887"
            ],
            [
             0.1111111111111111,
             "#46039f"
            ],
            [
             0.2222222222222222,
             "#7201a8"
            ],
            [
             0.3333333333333333,
             "#9c179e"
            ],
            [
             0.4444444444444444,
             "#bd3786"
            ],
            [
             0.5555555555555556,
             "#d8576b"
            ],
            [
             0.6666666666666666,
             "#ed7953"
            ],
            [
             0.7777777777777778,
             "#fb9f3a"
            ],
            [
             0.8888888888888888,
             "#fdca26"
            ],
            [
             1,
             "#f0f921"
            ]
           ]
          },
          "colorway": [
           "#636efa",
           "#EF553B",
           "#00cc96",
           "#ab63fa",
           "#FFA15A",
           "#19d3f3",
           "#FF6692",
           "#B6E880",
           "#FF97FF",
           "#FECB52"
          ],
          "font": {
           "color": "#2a3f5f"
          },
          "geo": {
           "bgcolor": "white",
           "lakecolor": "white",
           "landcolor": "#E5ECF6",
           "showlakes": true,
           "showland": true,
           "subunitcolor": "white"
          },
          "hoverlabel": {
           "align": "left"
          },
          "hovermode": "closest",
          "mapbox": {
           "style": "light"
          },
          "paper_bgcolor": "white",
          "plot_bgcolor": "#E5ECF6",
          "polar": {
           "angularaxis": {
            "gridcolor": "white",
            "linecolor": "white",
            "ticks": ""
           },
           "bgcolor": "#E5ECF6",
           "radialaxis": {
            "gridcolor": "white",
            "linecolor": "white",
            "ticks": ""
           }
          },
          "scene": {
           "xaxis": {
            "backgroundcolor": "#E5ECF6",
            "gridcolor": "white",
            "gridwidth": 2,
            "linecolor": "white",
            "showbackground": true,
            "ticks": "",
            "zerolinecolor": "white"
           },
           "yaxis": {
            "backgroundcolor": "#E5ECF6",
            "gridcolor": "white",
            "gridwidth": 2,
            "linecolor": "white",
            "showbackground": true,
            "ticks": "",
            "zerolinecolor": "white"
           },
           "zaxis": {
            "backgroundcolor": "#E5ECF6",
            "gridcolor": "white",
            "gridwidth": 2,
            "linecolor": "white",
            "showbackground": true,
            "ticks": "",
            "zerolinecolor": "white"
           }
          },
          "shapedefaults": {
           "line": {
            "color": "#2a3f5f"
           }
          },
          "ternary": {
           "aaxis": {
            "gridcolor": "white",
            "linecolor": "white",
            "ticks": ""
           },
           "baxis": {
            "gridcolor": "white",
            "linecolor": "white",
            "ticks": ""
           },
           "bgcolor": "#E5ECF6",
           "caxis": {
            "gridcolor": "white",
            "linecolor": "white",
            "ticks": ""
           }
          },
          "title": {
           "x": 0.05
          },
          "xaxis": {
           "automargin": true,
           "gridcolor": "white",
           "linecolor": "white",
           "ticks": "",
           "title": {
            "standoff": 15
           },
           "zerolinecolor": "white",
           "zerolinewidth": 2
          },
          "yaxis": {
           "automargin": true,
           "gridcolor": "white",
           "linecolor": "white",
           "ticks": "",
           "title": {
            "standoff": 15
           },
           "zerolinecolor": "white",
           "zerolinewidth": 2
          }
         }
        },
        "title": {
         "text": "Quarterly Sales by Year"
        },
        "width": 700,
        "xaxis": {
         "anchor": "y",
         "autorange": true,
         "domain": [
          0,
          1
         ],
         "range": [
          -0.5,
          3.5
         ],
         "title": {
          "text": "Quarter"
         },
         "type": "category"
        },
        "yaxis": {
         "anchor": "x",
         "autorange": true,
         "domain": [
          0,
          1
         ],
         "range": [
          0,
          19694816.842105262
         ],
         "title": {
          "text": "Sales_Amount"
         },
         "type": "linear"
        }
       }
      },
      "image/png": "[encoded data removed]",
      "text/html": [
       "<div>                            <div id=\"794f857b-4dc4-4d25-a913-664c879ca3d9\" class=\"plotly-graph-div\" style=\"height:450px; width:700px;\"></div>            <script type=\"text/javascript\">                require([\"plotly\"], function(Plotly) {                    window.PLOTLYENV=window.PLOTLYENV || {};                                    if (document.getElementById(\"794f857b-4dc4-4d25-a913-664c879ca3d9\")) {                    Plotly.newPlot(                        \"794f857b-4dc4-4d25-a913-664c879ca3d9\",                        [{\"alignmentgroup\":\"True\",\"hovertemplate\":\"Quarter=%{x}\\u003cbr\\u003eSales_Amount=%{y}\\u003cbr\\u003eYear=%{marker.color}\\u003cextra\\u003e\\u003c\\u002fextra\\u003e\",\"legendgroup\":\"\",\"marker\":{\"color\":[2021,2022,2021,2021,2021],\"coloraxis\":\"coloraxis\",\"pattern\":{\"shape\":\"\"}},\"name\":\"\",\"offsetgroup\":\"\",\"orientation\":\"v\",\"showlegend\":false,\"textposition\":\"auto\",\"x\":[\"Q1\",\"Q1\",\"Q2\",\"Q3\",\"Q4\"],\"xaxis\":\"x\",\"y\":[7491281.0,11218795.0,5374404.0,8351259.0,13651148.0],\"yaxis\":\"y\",\"type\":\"bar\"}],                        {\"template\":{\"data\":{\"histogram2dcontour\":[{\"type\":\"histogram2dcontour\",\"colorbar\":{\"outlinewidth\":0,\"ticks\":\"\"},\"colorscale\":[[0.0,\"#0d0887\"],[0.1111111111111111,\"#46039f\"],[0.2222222222222222,\"#7201a8\"],[0.3333333333333333,\"#9c179e\"],[0.4444444444444444,\"#bd3786\"],[0.5555555555555556,\"#d8576b\"],[0.6666666666666666,\"#ed7953\"],[0.7777777777777778,\"#fb9f3a\"],[0.8888888888888888,\"#fdca26\"],[1.0,\"#f0f921\"]]}],\"choropleth\":[{\"type\":\"choropleth\",\"colorbar\":{\"outlinewidth\":0,\"ticks\":\"\"}}],\"histogram2d\":[{\"type\":\"histogram2d\",\"colorbar\":{\"outlinewidth\":0,\"ticks\":\"\"},\"colorscale\":[[0.0,\"#0d0887\"],[0.1111111111111111,\"#46039f\"],[0.2222222222222222,\"#7201a8\"],[0.3333333333333333,\"#9c179e\"],[0.4444444444444444,\"#bd3786\"],[0.5555555555555556,\"#d8576b\"],[0.6666666666666666,\"#ed7953\"],[0.7777777777777778,\"#fb9f3a\"],[0.8888888888888888,\"#fdca26\"],[1.0,\"#f0f921\"]]}],\"heatmap\":[{\"type\":\"heatmap\",\"colorbar\":{\"outlinewidth\":0,\"ticks\":\"\"},\"colorscale\":[[0.0,\"#0d0887\"],[0.1111111111111111,\"#46039f\"],[0.2222222222222222,\"#7201a8\"],[0.3333333333333333,\"#9c179e\"],[0.4444444444444444,\"#bd3786\"],[0.5555555555555556,\"#d8576b\"],[0.6666666666666666,\"#ed7953\"],[0.7777777777777778,\"#fb9f3a\"],[0.8888888888888888,\"#fdca26\"],[1.0,\"#f0f921\"]]}],\"heatmapgl\":[{\"type\":\"heatmapgl\",\"colorbar\":{\"outlinewidth\":0,\"ticks\":\"\"},\"colorscale\":[[0.0,\"#0d0887\"],[0.1111111111111111,\"#46039f\"],[0.2222222222222222,\"#7201a8\"],[0.3333333333333333,\"#9c179e\"],[0.4444444444444444,\"#bd3786\"],[0.5555555555555556,\"#d8576b\"],[0.6666666666666666,\"#ed7953\"],[0.7777777777777778,\"#fb9f3a\"],[0.8888888888888888,\"#fdca26\"],[1.0,\"#f0f921\"]]}],\"contourcarpet\":[{\"type\":\"contourcarpet\",\"colorbar\":{\"outlinewidth\":0,\"ticks\":\"\"}}],\"contour\":[{\"type\":\"contour\",\"colorbar\":{\"outlinewidth\":0,\"ticks\":\"\"},\"colorscale\":[[0.0,\"#0d0887\"],[0.1111111111111111,\"#46039f\"],[0.2222222222222222,\"#7201a8\"],[0.3333333333333333,\"#9c179e\"],[0.4444444444444444,\"#bd3786\"],[0.5555555555555556,\"#d8576b\"],[0.6666666666666666,\"#ed7953\"],[0.7777777777777778,\"#fb9f3a\"],[0.8888888888888888,\"#fdca26\"],[1.0,\"#f0f921\"]]}],\"surface\":[{\"type\":\"surface\",\"colorbar\":{\"outlinewidth\":0,\"ticks\":\"\"},\"colorscale\":[[0.0,\"#0d0887\"],[0.1111111111111111,\"#46039f\"],[0.2222222222222222,\"#7201a8\"],[0.3333333333333333,\"#9c179e\"],[0.4444444444444444,\"#bd3786\"],[0.5555555555555556,\"#d8576b\"],[0.6666666666666666,\"#ed7953\"],[0.7777777777777778,\"#fb9f3a\"],[0.8888888888888888,\"#fdca26\"],[1.0,\"#f0f921\"]]}],\"mesh3d\":[{\"type\":\"mesh3d\",\"colorbar\":{\"outlinewidth\":0,\"ticks\":\"\"}}],\"scatter\":[{\"fillpattern\":{\"fillmode\":\"overlay\",\"size\":10,\"solidity\":0.2},\"type\":\"scatter\"}],\"parcoords\":[{\"type\":\"parcoords\",\"line\":{\"colorbar\":{\"outlinewidth\":0,\"ticks\":\"\"}}}],\"scatterpolargl\":[{\"type\":\"scatterpolargl\",\"marker\":{\"colorbar\":{\"outlinewidth\":0,\"ticks\":\"\"}}}],\"bar\":[{\"error_x\":{\"color\":\"#2a3f5f\"},\"error_y\":{\"color\":\"#2a3f5f\"},\"marker\":{\"line\":{\"color\":\"#E5ECF6\",\"width\":0.5},\"pattern\":{\"fillmode\":\"overlay\",\"size\":10,\"solidity\":0.2}},\"type\":\"bar\"}],\"scattergeo\":[{\"type\":\"scattergeo\",\"marker\":{\"colorbar\":{\"outlinewidth\":0,\"ticks\":\"\"}}}],\"scatterpolar\":[{\"type\":\"scatterpolar\",\"marker\":{\"colorbar\":{\"outlinewidth\":0,\"ticks\":\"\"}}}],\"histogram\":[{\"marker\":{\"pattern\":{\"fillmode\":\"overlay\",\"size\":10,\"solidity\":0.2}},\"type\":\"histogram\"}],\"scattergl\":[{\"type\":\"scattergl\",\"marker\":{\"colorbar\":{\"outlinewidth\":0,\"ticks\":\"\"}}}],\"scatter3d\":[{\"type\":\"scatter3d\",\"line\":{\"colorbar\":{\"outlinewidth\":0,\"ticks\":\"\"}},\"marker\":{\"colorbar\":{\"outlinewidth\":0,\"ticks\":\"\"}}}],\"scattermapbox\":[{\"type\":\"scattermapbox\",\"marker\":{\"colorbar\":{\"outlinewidth\":0,\"ticks\":\"\"}}}],\"scatterternary\":[{\"type\":\"scatterternary\",\"marker\":{\"colorbar\":{\"outlinewidth\":0,\"ticks\":\"\"}}}],\"scattercarpet\":[{\"type\":\"scattercarpet\",\"marker\":{\"colorbar\":{\"outlinewidth\":0,\"ticks\":\"\"}}}],\"carpet\":[{\"aaxis\":{\"endlinecolor\":\"#2a3f5f\",\"gridcolor\":\"white\",\"linecolor\":\"white\",\"minorgridcolor\":\"white\",\"startlinecolor\":\"#2a3f5f\"},\"baxis\":{\"endlinecolor\":\"#2a3f5f\",\"gridcolor\":\"white\",\"linecolor\":\"white\",\"minorgridcolor\":\"white\",\"startlinecolor\":\"#2a3f5f\"},\"type\":\"carpet\"}],\"table\":[{\"cells\":{\"fill\":{\"color\":\"#EBF0F8\"},\"line\":{\"color\":\"white\"}},\"header\":{\"fill\":{\"color\":\"#C8D4E3\"},\"line\":{\"color\":\"white\"}},\"type\":\"table\"}],\"barpolar\":[{\"marker\":{\"line\":{\"color\":\"#E5ECF6\",\"width\":0.5},\"pattern\":{\"fillmode\":\"overlay\",\"size\":10,\"solidity\":0.2}},\"type\":\"barpolar\"}],\"pie\":[{\"automargin\":true,\"type\":\"pie\"}]},\"layout\":{\"autotypenumbers\":\"strict\",\"colorway\":[\"#636efa\",\"#EF553B\",\"#00cc96\",\"#ab63fa\",\"#FFA15A\",\"#19d3f3\",\"#FF6692\",\"#B6E880\",\"#FF97FF\",\"#FECB52\"],\"font\":{\"color\":\"#2a3f5f\"},\"hovermode\":\"closest\",\"hoverlabel\":{\"align\":\"left\"},\"paper_bgcolor\":\"white\",\"plot_bgcolor\":\"#E5ECF6\",\"polar\":{\"bgcolor\":\"#E5ECF6\",\"angularaxis\":{\"gridcolor\":\"white\",\"linecolor\":\"white\",\"ticks\":\"\"},\"radialaxis\":{\"gridcolor\":\"white\",\"linecolor\":\"white\",\"ticks\":\"\"}},\"ternary\":{\"bgcolor\":\"#E5ECF6\",\"aaxis\":{\"gridcolor\":\"white\",\"linecolor\":\"white\",\"ticks\":\"\"},\"baxis\":{\"gridcolor\":\"white\",\"linecolor\":\"white\",\"ticks\":\"\"},\"caxis\":{\"gridcolor\":\"white\",\"linecolor\":\"white\",\"ticks\":\"\"}},\"coloraxis\":{\"colorbar\":{\"outlinewidth\":0,\"ticks\":\"\"}},\"colorscale\":{\"sequential\":[[0.0,\"#0d0887\"],[0.1111111111111111,\"#46039f\"],[0.2222222222222222,\"#7201a8\"],[0.3333333333333333,\"#9c179e\"],[0.4444444444444444,\"#bd3786\"],[0.5555555555555556,\"#d8576b\"],[0.6666666666666666,\"#ed7953\"],[0.7777777777777778,\"#fb9f3a\"],[0.8888888888888888,\"#fdca26\"],[1.0,\"#f0f921\"]],\"sequentialminus\":[[0.0,\"#0d0887\"],[0.1111111111111111,\"#46039f\"],[0.2222222222222222,\"#7201a8\"],[0.3333333333333333,\"#9c179e\"],[0.4444444444444444,\"#bd3786\"],[0.5555555555555556,\"#d8576b\"],[0.6666666666666666,\"#ed7953\"],[0.7777777777777778,\"#fb9f3a\"],[0.8888888888888888,\"#fdca26\"],[1.0,\"#f0f921\"]],\"diverging\":[[0,\"#8e0152\"],[0.1,\"#c51b7d\"],[0.2,\"#de77ae\"],[0.3,\"#f1b6da\"],[0.4,\"#fde0ef\"],[0.5,\"#f7f7f7\"],[0.6,\"#e6f5d0\"],[0.7,\"#b8e186\"],[0.8,\"#7fbc41\"],[0.9,\"#4d9221\"],[1,\"#276419\"]]},\"xaxis\":{\"gridcolor\":\"white\",\"linecolor\":\"white\",\"ticks\":\"\",\"title\":{\"standoff\":15},\"zerolinecolor\":\"white\",\"automargin\":true,\"zerolinewidth\":2},\"yaxis\":{\"gridcolor\":\"white\",\"linecolor\":\"white\",\"ticks\":\"\",\"title\":{\"standoff\":15},\"zerolinecolor\":\"white\",\"automargin\":true,\"zerolinewidth\":2},\"scene\":{\"xaxis\":{\"backgroundcolor\":\"#E5ECF6\",\"gridcolor\":\"white\",\"linecolor\":\"white\",\"showbackground\":true,\"ticks\":\"\",\"zerolinecolor\":\"white\",\"gridwidth\":2},\"yaxis\":{\"backgroundcolor\":\"#E5ECF6\",\"gridcolor\":\"white\",\"linecolor\":\"white\",\"showbackground\":true,\"ticks\":\"\",\"zerolinecolor\":\"white\",\"gridwidth\":2},\"zaxis\":{\"backgroundcolor\":\"#E5ECF6\",\"gridcolor\":\"white\",\"linecolor\":\"white\",\"showbackground\":true,\"ticks\":\"\",\"zerolinecolor\":\"white\",\"gridwidth\":2}},\"shapedefaults\":{\"line\":{\"color\":\"#2a3f5f\"}},\"annotationdefaults\":{\"arrowcolor\":\"#2a3f5f\",\"arrowhead\":0,\"arrowwidth\":1},\"geo\":{\"bgcolor\":\"white\",\"landcolor\":\"#E5ECF6\",\"subunitcolor\":\"white\",\"showland\":true,\"showlakes\":true,\"lakecolor\":\"white\"},\"title\":{\"x\":0.05},\"mapbox\":{\"style\":\"light\"}}},\"xaxis\":{\"anchor\":\"y\",\"domain\":[0.0,1.0],\"title\":{\"text\":\"Quarter\"}},\"yaxis\":{\"anchor\":\"x\",\"domain\":[0.0,1.0],\"title\":{\"text\":\"Sales_Amount\"}},\"coloraxis\":{\"colorbar\":{\"title\":{\"text\":\"Year\"}},\"colorscale\":[[0.0,\"#0d0887\"],[0.1111111111111111,\"#46039f\"],[0.2222222222222222,\"#7201a8\"],[0.3333333333333333,\"#9c179e\"],[0.4444444444444444,\"#bd3786\"],[0.5555555555555556,\"#d8576b\"],[0.6666666666666666,\"#ed7953\"],[0.7777777777777778,\"#fb9f3a\"],[0.8888888888888888,\"#fdca26\"],[1.0,\"#f0f921\"]]},\"legend\":{\"tracegroupgap\":0},\"title\":{\"text\":\"Quarterly Sales by Year\"},\"barmode\":\"group\",\"width\":700,\"height\":450},                        {\"responsive\": true}                    ).then(function(){\n",
       "                            \n",
       "var gd = document.getElementById('794f857b-4dc4-4d25-a913-664c879ca3d9');\n",
       "var x = new MutationObserver(function (mutations, observer) {{\n",
       "        var display = window.getComputedStyle(gd).display;\n",
       "        if (!display || display === 'none') {{\n",
       "            console.log([gd, 'removed!']);\n",
       "            Plotly.purge(gd);\n",
       "            observer.disconnect();\n",
       "        }}\n",
       "}});\n",
       "\n",
       "// Listen for the removal of the full notebook cells\n",
       "var notebookContainer = gd.closest('#notebook-container');\n",
       "if (notebookContainer) {{\n",
       "    x.observe(notebookContainer, {childList: true});\n",
       "}}\n",
       "\n",
       "// Listen for the clearing of the current output cell\n",
       "var outputEl = gd.closest('.output');\n",
       "if (outputEl) {{\n",
       "    x.observe(outputEl, {childList: true});\n",
       "}}\n",
       "\n",
       "                        })                };                });            </script>        </div>"
      ]
     },
     "metadata": {},
     "output_type": "display_data"
    }
   ],
   "source": [
    "import plotly.express as px\n",
    "\n",
    "fig = px.bar(\n",
    "    quarterly_sales,\n",
    "    x=\"Quarter\",\n",
    "    y=\"Sales_Amount\",\n",
    "    color=\"Year\",\n",
    "    barmode=\"group\",\n",
    "    title=\"Quarterly Sales by Year\"\n",
    ")\n",
    "fig.update_layout(width=700, height=450)\n",
    "fig.show()\n"
   ]
  },
  {
   "cell_type": "markdown",
   "id": "55018f63-be71-4649-b629-4440417598a2",
   "metadata": {},
   "source": [
    "**MONTHLY SALES**\n",
    "\n",
    "There is high sales from October 2021 to February 2022.\n",
    "\n",
    "The sales seems to drop from March 2021 to May 2021. Slowly rises from June 2021 to August 2021 but drops slightly in September before rising in october to January the following year. \n",
    "\n"
   ]
  },
  {
   "cell_type": "code",
   "execution_count": 61,
   "id": "e2b0897d-051c-4fd7-867e-4081ea1879f2",
   "metadata": {},
   "outputs": [
    {
     "name": "stdout",
     "output_type": "stream",
     "text": [
      "    Year Quarter Month  Sales_Amount\n",
      "0   2021      Q1   Feb     2586024.0\n",
      "1   2021      Q1   Jan     1752583.0\n",
      "2   2021      Q1   Mar     3152674.0\n",
      "3   2021      Q2   Apr     2736545.0\n",
      "4   2021      Q2   Jun     1337840.0\n",
      "5   2021      Q2   May     1300019.0\n",
      "6   2021      Q3   Aug     3144253.0\n",
      "7   2021      Q3   Jul     2682596.0\n",
      "8   2021      Q3   Sep     2524410.0\n",
      "9   2021      Q4   Dec     4526641.0\n",
      "10  2021      Q4   Nov     4977665.0\n",
      "11  2021      Q4   Oct     4146842.0\n",
      "12  2022      Q1   Feb     4218242.0\n",
      "13  2022      Q1   Jan     4805437.0\n",
      "14  2022      Q1   Mar     2195116.0\n"
     ]
    }
   ],
   "source": [
    "monthly_sales=df.groupby([\"Year\",\"Quarter\",\"Month\"])[\"Sales_Amount\"].sum()\n",
    "monthly_sales = monthly_sales.reset_index()\n",
    "print(monthly_sales)\n",
    "#monthly_sales.plot()"
   ]
  },
  {
   "cell_type": "markdown",
   "id": "e5c91a3c-80a0-4032-bc0a-2be471f91074",
   "metadata": {},
   "source": [
    "**WEEKLY SALES**\n"
   ]
  },
  {
   "cell_type": "code",
   "execution_count": 64,
   "id": "b3d84611-6f70-4e48-87b4-4b1612ea2931",
   "metadata": {},
   "outputs": [
    {
     "data": {
      "text/html": [
       "<div>\n",
       "<style scoped>\n",
       "    .dataframe tbody tr th:only-of-type {\n",
       "        vertical-align: middle;\n",
       "    }\n",
       "\n",
       "    .dataframe tbody tr th {\n",
       "        vertical-align: top;\n",
       "    }\n",
       "\n",
       "    .dataframe thead th {\n",
       "        text-align: right;\n",
       "    }\n",
       "</style>\n",
       "<table border=\"1\" class=\"dataframe\">\n",
       "  <thead>\n",
       "    <tr style=\"text-align: right;\">\n",
       "      <th></th>\n",
       "      <th>Year</th>\n",
       "      <th>Week</th>\n",
       "      <th>Sales_Amount</th>\n",
       "    </tr>\n",
       "  </thead>\n",
       "  <tbody>\n",
       "    <tr>\n",
       "      <th>0</th>\n",
       "      <td>2021</td>\n",
       "      <td>Wk1</td>\n",
       "      <td>163415.0</td>\n",
       "    </tr>\n",
       "    <tr>\n",
       "      <th>1</th>\n",
       "      <td>2021</td>\n",
       "      <td>Wk10</td>\n",
       "      <td>502887.0</td>\n",
       "    </tr>\n",
       "    <tr>\n",
       "      <th>2</th>\n",
       "      <td>2021</td>\n",
       "      <td>Wk11</td>\n",
       "      <td>768663.0</td>\n",
       "    </tr>\n",
       "    <tr>\n",
       "      <th>3</th>\n",
       "      <td>2021</td>\n",
       "      <td>Wk12</td>\n",
       "      <td>862771.0</td>\n",
       "    </tr>\n",
       "    <tr>\n",
       "      <th>4</th>\n",
       "      <td>2021</td>\n",
       "      <td>Wk13</td>\n",
       "      <td>618093.0</td>\n",
       "    </tr>\n",
       "    <tr>\n",
       "      <th>5</th>\n",
       "      <td>2021</td>\n",
       "      <td>Wk14</td>\n",
       "      <td>631036.0</td>\n",
       "    </tr>\n",
       "    <tr>\n",
       "      <th>6</th>\n",
       "      <td>2021</td>\n",
       "      <td>Wk15</td>\n",
       "      <td>605829.0</td>\n",
       "    </tr>\n",
       "    <tr>\n",
       "      <th>7</th>\n",
       "      <td>2021</td>\n",
       "      <td>Wk16</td>\n",
       "      <td>679812.0</td>\n",
       "    </tr>\n",
       "    <tr>\n",
       "      <th>8</th>\n",
       "      <td>2021</td>\n",
       "      <td>Wk17</td>\n",
       "      <td>600880.0</td>\n",
       "    </tr>\n",
       "    <tr>\n",
       "      <th>9</th>\n",
       "      <td>2021</td>\n",
       "      <td>Wk18</td>\n",
       "      <td>619248.0</td>\n",
       "    </tr>\n",
       "    <tr>\n",
       "      <th>10</th>\n",
       "      <td>2021</td>\n",
       "      <td>Wk19</td>\n",
       "      <td>424837.0</td>\n",
       "    </tr>\n",
       "    <tr>\n",
       "      <th>11</th>\n",
       "      <td>2021</td>\n",
       "      <td>Wk2</td>\n",
       "      <td>529256.0</td>\n",
       "    </tr>\n",
       "    <tr>\n",
       "      <th>12</th>\n",
       "      <td>2021</td>\n",
       "      <td>Wk20</td>\n",
       "      <td>289142.0</td>\n",
       "    </tr>\n",
       "    <tr>\n",
       "      <th>13</th>\n",
       "      <td>2021</td>\n",
       "      <td>Wk21</td>\n",
       "      <td>290780.0</td>\n",
       "    </tr>\n",
       "    <tr>\n",
       "      <th>14</th>\n",
       "      <td>2021</td>\n",
       "      <td>Wk22</td>\n",
       "      <td>284942.0</td>\n",
       "    </tr>\n",
       "    <tr>\n",
       "      <th>15</th>\n",
       "      <td>2021</td>\n",
       "      <td>Wk23</td>\n",
       "      <td>287609.0</td>\n",
       "    </tr>\n",
       "    <tr>\n",
       "      <th>16</th>\n",
       "      <td>2021</td>\n",
       "      <td>Wk24</td>\n",
       "      <td>368844.0</td>\n",
       "    </tr>\n",
       "    <tr>\n",
       "      <th>17</th>\n",
       "      <td>2021</td>\n",
       "      <td>Wk25</td>\n",
       "      <td>425397.0</td>\n",
       "    </tr>\n",
       "    <tr>\n",
       "      <th>18</th>\n",
       "      <td>2021</td>\n",
       "      <td>Wk26</td>\n",
       "      <td>163009.0</td>\n",
       "    </tr>\n",
       "    <tr>\n",
       "      <th>19</th>\n",
       "      <td>2021</td>\n",
       "      <td>Wk27</td>\n",
       "      <td>388878.0</td>\n",
       "    </tr>\n",
       "  </tbody>\n",
       "</table>\n",
       "</div>"
      ],
      "text/plain": [
       "    Year  Week  Sales_Amount\n",
       "0   2021   Wk1      163415.0\n",
       "1   2021  Wk10      502887.0\n",
       "2   2021  Wk11      768663.0\n",
       "3   2021  Wk12      862771.0\n",
       "4   2021  Wk13      618093.0\n",
       "5   2021  Wk14      631036.0\n",
       "6   2021  Wk15      605829.0\n",
       "7   2021  Wk16      679812.0\n",
       "8   2021  Wk17      600880.0\n",
       "9   2021  Wk18      619248.0\n",
       "10  2021  Wk19      424837.0\n",
       "11  2021   Wk2      529256.0\n",
       "12  2021  Wk20      289142.0\n",
       "13  2021  Wk21      290780.0\n",
       "14  2021  Wk22      284942.0\n",
       "15  2021  Wk23      287609.0\n",
       "16  2021  Wk24      368844.0\n",
       "17  2021  Wk25      425397.0\n",
       "18  2021  Wk26      163009.0\n",
       "19  2021  Wk27      388878.0"
      ]
     },
     "execution_count": 64,
     "metadata": {},
     "output_type": "execute_result"
    }
   ],
   "source": [
    "weekly_sales=df.groupby([\"Year\",\"Week\"])[\"Sales_Amount\"].sum().reset_index().head(20).sort_values([\"Year\",\"Week\"])\n",
    "weekly_sales"
   ]
  },
  {
   "cell_type": "markdown",
   "id": "838aa1d5-23f1-4287-8634-d57424490c4e",
   "metadata": {},
   "source": [
    "**SALES PER COUNTRY**\n",
    "\n",
    "Australia is leading with 7,895,097 followed by New Zealand then Canada while UK is the least."
   ]
  },
  {
   "cell_type": "code",
   "execution_count": 67,
   "id": "d607f118-b8a1-40dc-9249-6f711c4615fa",
   "metadata": {},
   "outputs": [
    {
     "name": "stdout",
     "output_type": "stream",
     "text": [
      "Total countries: 6\n",
      "Countries: ['UK' 'India' 'Canada' 'USA' 'New Zealand' 'Australia']\n",
      "Country\n",
      "Australia      7895097.0\n",
      "New Zealand    7815955.0\n",
      "Canada         7761551.0\n",
      "USA            7618989.0\n",
      "India          7507710.0\n",
      "UK             7487585.0\n",
      "Name: Sales_Amount, dtype: float64\n"
     ]
    }
   ],
   "source": [
    "total_countries=df[\"Country\"].nunique()\n",
    "print(\"Total countries:\",total_countries)\n",
    "\n",
    "country_names=df[\"Country\"].unique()\n",
    "print(\"Countries:\",country_names)\n",
    "\n",
    "sales_country=df.groupby(\"Country\")[\"Sales_Amount\"].sum().sort_values(ascending=False)\n",
    "print(sales_country)"
   ]
  },
  {
   "cell_type": "markdown",
   "id": "a17daf2d-afcb-4e15-ad1b-4a02e12da8fd",
   "metadata": {},
   "source": [
    "In 2021, Australia is leasing followed by New Zealand but India is the least.\n",
    "\n",
    "In 2022,Canada is leading followed by Australia as UK becomes the least."
   ]
  },
  {
   "cell_type": "code",
   "execution_count": null,
   "id": "ee453721-634d-4cf3-8179-3fb94cfb6969",
   "metadata": {},
   "outputs": [],
   "source": []
  },
  {
   "cell_type": "code",
   "execution_count": 71,
   "id": "fe934a1e-6ce9-4a44-a5d1-e93f9ca53885",
   "metadata": {},
   "outputs": [
    {
     "data": {
      "text/html": [
       "<div>\n",
       "<style scoped>\n",
       "    .dataframe tbody tr th:only-of-type {\n",
       "        vertical-align: middle;\n",
       "    }\n",
       "\n",
       "    .dataframe tbody tr th {\n",
       "        vertical-align: top;\n",
       "    }\n",
       "\n",
       "    .dataframe thead th {\n",
       "        text-align: right;\n",
       "    }\n",
       "</style>\n",
       "<table border=\"1\" class=\"dataframe\">\n",
       "  <thead>\n",
       "    <tr style=\"text-align: right;\">\n",
       "      <th></th>\n",
       "      <th>Year</th>\n",
       "      <th>Country</th>\n",
       "      <th>Sales_Amount</th>\n",
       "    </tr>\n",
       "  </thead>\n",
       "  <tbody>\n",
       "    <tr>\n",
       "      <th>0</th>\n",
       "      <td>2021</td>\n",
       "      <td>Australia</td>\n",
       "      <td>5935643.0</td>\n",
       "    </tr>\n",
       "    <tr>\n",
       "      <th>1</th>\n",
       "      <td>2021</td>\n",
       "      <td>New Zealand</td>\n",
       "      <td>5911283.0</td>\n",
       "    </tr>\n",
       "    <tr>\n",
       "      <th>2</th>\n",
       "      <td>2021</td>\n",
       "      <td>USA</td>\n",
       "      <td>5832176.0</td>\n",
       "    </tr>\n",
       "    <tr>\n",
       "      <th>3</th>\n",
       "      <td>2021</td>\n",
       "      <td>Canada</td>\n",
       "      <td>5798030.0</td>\n",
       "    </tr>\n",
       "    <tr>\n",
       "      <th>4</th>\n",
       "      <td>2021</td>\n",
       "      <td>UK</td>\n",
       "      <td>5790743.0</td>\n",
       "    </tr>\n",
       "    <tr>\n",
       "      <th>5</th>\n",
       "      <td>2021</td>\n",
       "      <td>India</td>\n",
       "      <td>5600217.0</td>\n",
       "    </tr>\n",
       "    <tr>\n",
       "      <th>6</th>\n",
       "      <td>2022</td>\n",
       "      <td>Canada</td>\n",
       "      <td>1963521.0</td>\n",
       "    </tr>\n",
       "    <tr>\n",
       "      <th>7</th>\n",
       "      <td>2022</td>\n",
       "      <td>Australia</td>\n",
       "      <td>1959454.0</td>\n",
       "    </tr>\n",
       "    <tr>\n",
       "      <th>8</th>\n",
       "      <td>2022</td>\n",
       "      <td>India</td>\n",
       "      <td>1907493.0</td>\n",
       "    </tr>\n",
       "    <tr>\n",
       "      <th>9</th>\n",
       "      <td>2022</td>\n",
       "      <td>New Zealand</td>\n",
       "      <td>1904672.0</td>\n",
       "    </tr>\n",
       "    <tr>\n",
       "      <th>10</th>\n",
       "      <td>2022</td>\n",
       "      <td>USA</td>\n",
       "      <td>1786813.0</td>\n",
       "    </tr>\n",
       "    <tr>\n",
       "      <th>11</th>\n",
       "      <td>2022</td>\n",
       "      <td>UK</td>\n",
       "      <td>1696842.0</td>\n",
       "    </tr>\n",
       "  </tbody>\n",
       "</table>\n",
       "</div>"
      ],
      "text/plain": [
       "    Year      Country  Sales_Amount\n",
       "0   2021    Australia     5935643.0\n",
       "1   2021  New Zealand     5911283.0\n",
       "2   2021          USA     5832176.0\n",
       "3   2021       Canada     5798030.0\n",
       "4   2021           UK     5790743.0\n",
       "5   2021        India     5600217.0\n",
       "6   2022       Canada     1963521.0\n",
       "7   2022    Australia     1959454.0\n",
       "8   2022        India     1907493.0\n",
       "9   2022  New Zealand     1904672.0\n",
       "10  2022          USA     1786813.0\n",
       "11  2022           UK     1696842.0"
      ]
     },
     "execution_count": 71,
     "metadata": {},
     "output_type": "execute_result"
    }
   ],
   "source": [
    "sales_country=df.groupby([\"Year\",\"Country\"])[\"Sales_Amount\"].sum().sort_values(ascending=False).reset_index()\n",
    "sales_country"
   ]
  },
  {
   "cell_type": "markdown",
   "id": "5a31f804-e211-43a8-b590-f545783ad996",
   "metadata": {},
   "source": [
    "**SALES PER REGION**\n",
    "\n",
    "From my research, Sydney is a city in Australia which is in APAC region, so I'll replace Sydney with APAC.\n",
    "\n",
    "Toronto is also a city in Canada which is in Americas, so I'll replace Toronto with Americas.\n",
    "\n",
    "\n",
    "APAC region is leading with 23,218,762. It's countries include Australia ,India and New Zealand.\n",
    "\n",
    "Americas is the second one with 15,380,540. It's countries include Canada and USA.\n",
    "\n",
    "Europe is the least with 7,487,585. It only has UK."
   ]
  },
  {
   "cell_type": "code",
   "execution_count": 74,
   "id": "b3d70a20-48e6-4c85-9ba1-cc9275d669a9",
   "metadata": {},
   "outputs": [
    {
     "name": "stdout",
     "output_type": "stream",
     "text": [
      "Country\n",
      "Australia        [Sydney]\n",
      "Canada          [Toronto]\n",
      "India              [APAC]\n",
      "New Zealand        [APAC]\n",
      "UK               [Europe]\n",
      "USA            [Americas]\n",
      "Name: Region, dtype: object\n",
      "\n",
      "Country\n",
      "Australia          [APAC]\n",
      "Canada         [Americas]\n",
      "India              [APAC]\n",
      "New Zealand        [APAC]\n",
      "UK               [Europe]\n",
      "USA            [Americas]\n",
      "Name: Region, dtype: object\n"
     ]
    },
    {
     "name": "stderr",
     "output_type": "stream",
     "text": [
      "C:\\Users\\sheikh\\AppData\\Local\\Temp\\ipykernel_16072\\240014457.py:5: FutureWarning: A value is trying to be set on a copy of a DataFrame or Series through chained assignment using an inplace method.\n",
      "The behavior will change in pandas 3.0. This inplace method will never work because the intermediate object on which we are setting values always behaves as a copy.\n",
      "\n",
      "For example, when doing 'df[col].method(value, inplace=True)', try using 'df.method({col: value}, inplace=True)' or df[col] = df[col].method(value) instead, to perform the operation inplace on the original object.\n",
      "\n",
      "\n",
      "  new_regions=df[\"Region\"].replace({'Sydney':'APAC','Toronto':'Americas'},inplace=True)\n"
     ]
    }
   ],
   "source": [
    "county_region=df.groupby(\"Country\")[\"Region\"].unique()\n",
    "print(county_region)\n",
    "print()\n",
    "\n",
    "new_regions=df[\"Region\"].replace({'Sydney':'APAC','Toronto':'Americas'},inplace=True)\n",
    "new_regions=df.groupby(\"Country\")[\"Region\"].unique()\n",
    "print(new_regions)"
   ]
  },
  {
   "cell_type": "code",
   "execution_count": 76,
   "id": "c10e7697-3afe-4a50-a07f-54bb86cfa549",
   "metadata": {},
   "outputs": [
    {
     "name": "stdout",
     "output_type": "stream",
     "text": [
      "New No. of regions: 3\n",
      "\n",
      "New list of regions: ['Europe' 'APAC' 'Americas']\n",
      "\n",
      "Country\n",
      "Australia          [APAC]\n",
      "Canada         [Americas]\n",
      "India              [APAC]\n",
      "New Zealand        [APAC]\n",
      "UK               [Europe]\n",
      "USA            [Americas]\n",
      "Name: Region, dtype: object\n",
      "\n",
      "Region\n",
      "APAC        23218762.0\n",
      "Americas    15380540.0\n",
      "Europe       7487585.0\n",
      "Name: Sales_Amount, dtype: float64\n"
     ]
    }
   ],
   "source": [
    "new_regions=df[\"Region\"].nunique()\n",
    "print(\"New No. of regions:\",new_regions)\n",
    "print()\n",
    "\n",
    "new_regions=df[\"Region\"].unique()\n",
    "print(\"New list of regions:\",new_regions)\n",
    "print()\n",
    "\n",
    "new_regions=df.groupby(\"Country\")[\"Region\"].unique()\n",
    "print(new_regions)\n",
    "print()\n",
    "\n",
    "region_sales=df.groupby(\"Region\")[\"Sales_Amount\"].sum()\n",
    "print(region_sales)\n",
    "\n"
   ]
  },
  {
   "cell_type": "markdown",
   "id": "7fa5ba49-cb60-47f5-b57c-6e7c6f78aac5",
   "metadata": {},
   "source": [
    "**SALES PER TEAM**\n",
    "\n",
    "In each region, the teams' ranking is Julies,Delish,Yummies then Tempo in that order.\n",
    "\n",
    "Julies has 7 sales people, Delish has 7,Yummies has 6 and Tempo has 5. This explains the ranking of their performance. But why is Julish higher than Delish yet they have same number of sales people?\n",
    "\n",
    "In each country the perforance of each team is in this order; Julies,Delish,Yummies then Tempo except New Zealand where Delish is higher than Julies. Yet to find out why.\n",
    "\n",
    "In 2021, in all the countries this is the order of performance Julies,Delish,Yummies then Tempo.\n",
    "\n",
    "In 2022 there's a difference in trend."
   ]
  },
  {
   "cell_type": "code",
   "execution_count": 79,
   "id": "26f5229a-ded4-45f8-acc3-d8d6bca3767a",
   "metadata": {},
   "outputs": [
    {
     "name": "stdout",
     "output_type": "stream",
     "text": [
      "Total teams: 4\n",
      "\n",
      "Teams: ['Yummies' 'Jucies' 'Delish' 'Tempo']\n",
      "\n",
      "Team\n",
      "Delish     13759137.0\n",
      "Jucies     14313152.0\n",
      "Tempo       5755372.0\n",
      "Yummies    12259226.0\n",
      "Name: Sales_Amount, dtype: float64\n",
      "\n",
      "Region    Team   \n",
      "APAC      Delish     6995359.0\n",
      "          Jucies     7141848.0\n",
      "          Tempo      2840138.0\n",
      "          Yummies    6241417.0\n",
      "Americas  Delish     4630227.0\n",
      "          Jucies     4907637.0\n",
      "          Tempo      1909250.0\n",
      "          Yummies    3933426.0\n",
      "Europe    Delish     2133551.0\n",
      "          Jucies     2263667.0\n",
      "          Tempo      1005984.0\n",
      "          Yummies    2084383.0\n",
      "Name: Sales_Amount, dtype: float64\n",
      "\n",
      "Country      Team   \n",
      "Australia    Delish     2457784.0\n",
      "             Jucies     2497194.0\n",
      "             Tempo       870807.0\n",
      "             Yummies    2069312.0\n",
      "Canada       Delish     2265032.0\n",
      "             Jucies     2400272.0\n",
      "             Tempo      1064588.0\n",
      "             Yummies    2031659.0\n",
      "India        Delish     2206708.0\n",
      "             Jucies     2373371.0\n",
      "             Tempo       976563.0\n",
      "             Yummies    1951068.0\n",
      "New Zealand  Delish     2330867.0\n",
      "             Jucies     2271283.0\n",
      "             Tempo       992768.0\n",
      "             Yummies    2221037.0\n",
      "UK           Delish     2133551.0\n",
      "             Jucies     2263667.0\n",
      "             Tempo      1005984.0\n",
      "             Yummies    2084383.0\n",
      "USA          Delish     2365195.0\n",
      "             Jucies     2507365.0\n",
      "             Tempo       844662.0\n",
      "             Yummies    1901767.0\n",
      "Name: Sales_Amount, dtype: float64\n",
      "\n",
      "Year  Country      Team   \n",
      "2021  Australia    Delish     1890630.0\n",
      "                   Jucies     1942724.0\n",
      "                   Tempo       543438.0\n",
      "                   Yummies    1558851.0\n",
      "      Canada       Delish     1741558.0\n",
      "                   Jucies     1858808.0\n",
      "                   Tempo       619171.0\n",
      "                   Yummies    1578493.0\n",
      "      India        Delish     1770671.0\n",
      "                   Jucies     1876329.0\n",
      "                   Tempo       564508.0\n",
      "                   Yummies    1388709.0\n",
      "      New Zealand  Delish     1814568.0\n",
      "                   Jucies     1831739.0\n",
      "                   Tempo       533561.0\n",
      "                   Yummies    1731415.0\n",
      "      UK           Delish     1828043.0\n",
      "                   Jucies     1838130.0\n",
      "                   Tempo       565215.0\n",
      "                   Yummies    1559355.0\n",
      "      USA          Delish     1877673.0\n",
      "                   Jucies     1903139.0\n",
      "                   Tempo       524321.0\n",
      "                   Yummies    1527043.0\n",
      "2022  Australia    Delish      567154.0\n",
      "                   Jucies      554470.0\n",
      "                   Tempo       327369.0\n",
      "                   Yummies     510461.0\n",
      "      Canada       Delish      523474.0\n",
      "                   Jucies      541464.0\n",
      "                   Tempo       445417.0\n",
      "                   Yummies     453166.0\n",
      "      India        Delish      436037.0\n",
      "                   Jucies      497042.0\n",
      "                   Tempo       412055.0\n",
      "                   Yummies     562359.0\n",
      "      New Zealand  Delish      516299.0\n",
      "                   Jucies      439544.0\n",
      "                   Tempo       459207.0\n",
      "                   Yummies     489622.0\n",
      "      UK           Delish      305508.0\n",
      "                   Jucies      425537.0\n",
      "                   Tempo       440769.0\n",
      "                   Yummies     525028.0\n",
      "      USA          Delish      487522.0\n",
      "                   Jucies      604226.0\n",
      "                   Tempo       320341.0\n",
      "                   Yummies     374724.0\n",
      "Name: Sales_Amount, dtype: float64\n",
      "\n",
      "     Year Month    Country     Team  Sales_Amount\n",
      "0    2021   Apr  Australia   Delish      129976.0\n",
      "1    2021   Apr  Australia   Jucies      175588.0\n",
      "2    2021   Apr  Australia    Tempo       45724.0\n",
      "3    2021   Apr  Australia  Yummies      115675.0\n",
      "4    2021   Apr     Canada   Delish      115892.0\n",
      "..    ...   ...        ...      ...           ...\n",
      "319  2022   Mar         UK  Yummies      102970.0\n",
      "320  2022   Mar        USA   Delish       74074.0\n",
      "321  2022   Mar        USA   Jucies      134918.0\n",
      "322  2022   Mar        USA    Tempo       71512.0\n",
      "323  2022   Mar        USA  Yummies       58142.0\n",
      "\n",
      "[324 rows x 5 columns]\n",
      "\n"
     ]
    }
   ],
   "source": [
    "team_no=df[\"Team\"].nunique()\n",
    "print(\"Total teams:\",team_no)\n",
    "print()\n",
    "\n",
    "team_names=df[\"Team\"].unique()\n",
    "print(\"Teams:\",team_names)\n",
    "print()\n",
    "\n",
    "team_performance=df.groupby(\"Team\")[\"Sales_Amount\"].sum()\n",
    "print(team_performance)\n",
    "print()\n",
    "\n",
    "region_team=df.groupby([\"Region\",\"Team\"])[\"Sales_Amount\"].sum()\n",
    "print(region_team)\n",
    "print()\n",
    "\n",
    "country_team=df.groupby([\"Country\",\"Team\"])[\"Sales_Amount\"].sum()\n",
    "print(country_team)\n",
    "print()\n",
    "\n",
    "year_country_team=df.groupby([\"Year\",\"Country\",\"Team\"])[\"Sales_Amount\"].sum()\n",
    "print(year_country_team)\n",
    "print()\n",
    "\n",
    "year_month_country_team=df.groupby([\"Year\",\"Month\",\"Country\",\"Team\"])[\"Sales_Amount\"].sum().reset_index()\n",
    "print(year_month_country_team)\n",
    "print()\n",
    "\n",
    "\n",
    "\n",
    "\n"
   ]
  },
  {
   "cell_type": "markdown",
   "id": "be9e53fd-fc37-4466-abdf-335e6ffb7277",
   "metadata": {},
   "source": [
    "**SALES PER SALES PERSON**\n",
    "\n",
    "There are 25 people in total, each person is a sales person in each region."
   ]
  },
  {
   "cell_type": "code",
   "execution_count": 82,
   "id": "20cf045e-7bac-4a5a-a3f3-3ecc459b893b",
   "metadata": {},
   "outputs": [
    {
     "name": "stdout",
     "output_type": "stream",
     "text": [
      "Total sales people: 25\n",
      "\n",
      "Total sales people: ['Dennison Crosswaite' 'Kelci Walkden' 'Gigi Bohling' 'Madelene Upcott'\n",
      " 'Oby Sorrel' 'Brien Boise' 'Jan Morforth' \"Marney O'Breen\"\n",
      " 'Andria Kimpton' 'Barr Faughny' 'Husein Augar' 'Ches Bonnell'\n",
      " 'Dotty Strutley' 'Curtice Advani' 'Rafaelita Blaksland' 'Kaine Padly'\n",
      " 'Beverie Moffet' 'Karlen McCaffrey' \"Wilone O'Kielt\" 'Gunar Cockshoot'\n",
      " 'Van Tuxwell' 'Camilla Castle' 'Mallorie Waber' 'Jehu Rudeforth'\n",
      " 'Roddy Speechley']\n",
      "\n",
      "    Region         Sales Person  Sales_Amount\n",
      "0     APAC       Andria Kimpton     1043434.0\n",
      "1     APAC         Barr Faughny     1006838.0\n",
      "2     APAC       Beverie Moffet     1073695.0\n",
      "3     APAC          Brien Boise      964355.0\n",
      "4     APAC       Camilla Castle      588714.0\n",
      "..     ...                  ...           ...\n",
      "70  Europe           Oby Sorrel      310443.0\n",
      "71  Europe  Rafaelita Blaksland      338114.0\n",
      "72  Europe      Roddy Speechley      228648.0\n",
      "73  Europe          Van Tuxwell      124607.0\n",
      "74  Europe       Wilone O'Kielt      321615.0\n",
      "\n",
      "[75 rows x 3 columns]\n",
      "\n",
      "      Country         Sales Person  Sales_Amount\n",
      "0   Australia       Andria Kimpton      401352.0\n",
      "1   Australia         Barr Faughny      319424.0\n",
      "2   Australia       Beverie Moffet      321433.0\n",
      "3   Australia          Brien Boise      350784.0\n",
      "4   Australia       Camilla Castle      143150.0\n",
      "5   Australia         Ches Bonnell      350560.0\n",
      "6   Australia       Curtice Advani      312473.0\n",
      "7   Australia  Dennison Crosswaite      357833.0\n",
      "8   Australia       Dotty Strutley      346871.0\n",
      "9   Australia         Gigi Bohling      329063.0\n",
      "10  Australia      Gunar Cockshoot      329623.0\n",
      "11  Australia         Husein Augar      352541.0\n",
      "12  Australia         Jan Morforth      400113.0\n",
      "13  Australia       Jehu Rudeforth      189483.0\n",
      "14  Australia          Kaine Padly      280679.0\n",
      "15  Australia     Karlen McCaffrey      409395.0\n",
      "16  Australia        Kelci Walkden      333004.0\n",
      "17  Australia      Madelene Upcott      362726.0\n",
      "18  Australia       Mallorie Waber      157297.0\n",
      "19  Australia       Marney O'Breen      404320.0\n",
      "20  Australia           Oby Sorrel      346766.0\n",
      "21  Australia  Rafaelita Blaksland      382074.0\n",
      "22  Australia      Roddy Speechley      182693.0\n",
      "23  Australia          Van Tuxwell      198184.0\n",
      "24  Australia       Wilone O'Kielt      333256.0\n",
      "25     Canada       Andria Kimpton      305326.0\n",
      "\n"
     ]
    }
   ],
   "source": [
    "no_people=df[\"Sales Person\"].nunique()\n",
    "print(\"Total sales people:\",no_people)\n",
    "print()\n",
    "\n",
    "people_names=df[\"Sales Person\"].unique()\n",
    "print(\"Total sales people:\",people_names)\n",
    "print()\n",
    "\n",
    "region_person=df.groupby([\"Region\",\"Sales Person\"])[\"Sales_Amount\"].sum().reset_index()\n",
    "print(region_person)\n",
    "print()\n",
    "\n",
    "country_person=df.groupby([\"Country\",\"Sales Person\"])[\"Sales_Amount\"].sum().reset_index()\n",
    "print(country_person.head(26))\n",
    "print()\n",
    "\n"
   ]
  },
  {
   "cell_type": "code",
   "execution_count": 84,
   "id": "501c856b-bd83-4186-87bd-4beef5678e0c",
   "metadata": {},
   "outputs": [
    {
     "name": "stdout",
     "output_type": "stream",
     "text": [
      "       Team         Sales Person  Sales_Amount\n",
      "0    Delish       Andria Kimpton     2053443.0\n",
      "1    Delish          Brien Boise     2002231.0\n",
      "2    Delish         Ches Bonnell     1980846.0\n",
      "3    Delish       Curtice Advani     1865157.0\n",
      "4    Delish         Husein Augar     2024743.0\n",
      "5    Delish          Kaine Padly     1915865.0\n",
      "6    Delish     Karlen McCaffrey     1916852.0\n",
      "7    Jucies       Beverie Moffet     2109618.0\n",
      "8    Jucies       Dotty Strutley     2096857.0\n",
      "9    Jucies        Kelci Walkden     2005010.0\n",
      "10   Jucies      Madelene Upcott     2116569.0\n",
      "11   Jucies       Marney O'Breen     2058392.0\n",
      "12   Jucies           Oby Sorrel     1912491.0\n",
      "13   Jucies  Rafaelita Blaksland     2014215.0\n",
      "14    Tempo       Camilla Castle     1138851.0\n",
      "15    Tempo       Jehu Rudeforth     1311772.0\n",
      "16    Tempo       Mallorie Waber     1080562.0\n",
      "17    Tempo      Roddy Speechley     1148987.0\n",
      "18    Tempo          Van Tuxwell     1075200.0\n",
      "19  Yummies         Barr Faughny     1896839.0\n",
      "20  Yummies  Dennison Crosswaite     1999151.0\n",
      "21  Yummies         Gigi Bohling     1983968.0\n",
      "22  Yummies      Gunar Cockshoot     2195032.0\n",
      "23  Yummies         Jan Morforth     2118543.0\n",
      "24  Yummies       Wilone O'Kielt     2065693.0\n",
      "\n",
      "         Team         Sales Person  Sales_Amount\n",
      "8308    Tempo       Jehu Rudeforth       26138.0\n",
      "1404   Jucies  Rafaelita Blaksland       25984.0\n",
      "7043  Yummies       Wilone O'Kielt       25130.0\n",
      "5269  Yummies         Barr Faughny       23807.0\n",
      "5736   Delish          Brien Boise       23702.0\n",
      "...       ...                  ...           ...\n",
      "3548   Delish         Husein Augar           7.0\n",
      "1030   Jucies       Dotty Strutley           7.0\n",
      "7209   Delish     Karlen McCaffrey           7.0\n",
      "5974   Jucies           Oby Sorrel           0.0\n",
      "2896  Yummies         Gigi Bohling           0.0\n",
      "\n",
      "[9449 rows x 3 columns]\n",
      "\n"
     ]
    }
   ],
   "source": [
    "sales_person=df.groupby([\"Team\",\"Sales Person\"])[\"Sales_Amount\"].sum().reset_index()\n",
    "print(sales_person)\n",
    "print()\n",
    "ranked_sales = df.sort_values(by='Sales_Amount', ascending=False)\n",
    "top_columns = ranked_sales[['Team', 'Sales Person', 'Sales_Amount']]\n",
    "print(top_columns)\n",
    "\n",
    "\n",
    "\n",
    "print()\n",
    "\n"
   ]
  },
  {
   "cell_type": "markdown",
   "id": "589c6238-84f9-4a96-ae65-be7e4cd2d5d0",
   "metadata": {},
   "source": [
    "**SALES PER CATEGORY**\n",
    "\n",
    "Bars are leading with 23,199,771 followed by Bites with  14,638,925 then other with 8,248,191.\n",
    "\n",
    "In each region bars are leading followed by bites then other.\n",
    "\n",
    "In each country we have the same trend.\n",
    "\n",
    "It now makes sense, bars category has many products (11 products) thus a higher sales, bites has 7 products while others has few products(4 products) thus a low sales. If it had much products then sales would rise."
   ]
  },
  {
   "cell_type": "code",
   "execution_count": 87,
   "id": "56363d55-12b7-4ae0-b1e5-c508df91f4bc",
   "metadata": {},
   "outputs": [
    {
     "name": "stdout",
     "output_type": "stream",
     "text": [
      "Total categories: 3\n",
      "\n",
      "Categories: ['Bars' 'Bites' 'Other']\n",
      "\n",
      "Category\n",
      "Bars     23199771.0\n",
      "Bites    14638925.0\n",
      "Other     8248191.0\n",
      "Name: Sales_Amount, dtype: float64\n",
      "\n",
      "Region    Category\n",
      "APAC      Bars        11586722.0\n",
      "          Bites        7431312.0\n",
      "          Other        4200728.0\n",
      "Americas  Bars         7807926.0\n",
      "          Bites        4865595.0\n",
      "          Other        2707019.0\n",
      "Europe    Bars         3805123.0\n",
      "          Bites        2342018.0\n",
      "          Other        1340444.0\n",
      "Name: Sales_Amount, dtype: float64\n",
      "\n",
      "Country      Category\n",
      "Australia    Bars        4062807.0\n",
      "             Bites       2478252.0\n",
      "             Other       1354038.0\n",
      "Canada       Bars        3909493.0\n",
      "             Bites       2404185.0\n",
      "             Other       1447873.0\n",
      "India        Bars        3771656.0\n",
      "             Bites       2413033.0\n",
      "             Other       1323021.0\n",
      "New Zealand  Bars        3752259.0\n",
      "             Bites       2540027.0\n",
      "             Other       1523669.0\n",
      "UK           Bars        3805123.0\n",
      "             Bites       2342018.0\n",
      "             Other       1340444.0\n",
      "USA          Bars        3898433.0\n",
      "             Bites       2461410.0\n",
      "             Other       1259146.0\n",
      "Name: Sales_Amount, dtype: float64\n",
      "\n"
     ]
    },
    {
     "data": {
      "text/plain": [
       "Category  Product Type        \n",
       "Bars      85% Dark Bars           2128140.0\n",
       "          99% Dark & Pure         2145192.0\n",
       "          Almond Choco            2021208.0\n",
       "          Baker's Choco Chips     1918392.0\n",
       "          Caramel Stuffed Bars    2142966.0\n",
       "          Fruit & Nut Bars        2064153.0\n",
       "          Milk Bars               2160984.0\n",
       "          Mint Chip Choco         2024071.0\n",
       "          Orange Choco            2162601.0\n",
       "          Raspberry Choco         2117052.0\n",
       "          Smooth Sliky Salty      2315012.0\n",
       "Bites     50% Dark Bites          1937565.0\n",
       "          70% Dark Bites          2012682.0\n",
       "          After Nines             2174172.0\n",
       "          Choco Coated Almonds    2078027.0\n",
       "          Eclairs                 2002931.0\n",
       "          Peanut Butter Cubes     2265410.0\n",
       "          Spicy Special Slims     2168138.0\n",
       "Other     Drinking Coco           2047969.0\n",
       "          Manuka Honey Choco      2027221.0\n",
       "          Organic Choco Syrup     2127811.0\n",
       "          White Choc              2045190.0\n",
       "Name: Sales_Amount, dtype: float64"
      ]
     },
     "execution_count": 87,
     "metadata": {},
     "output_type": "execute_result"
    }
   ],
   "source": [
    "category_num=df[\"Category\"].nunique()\n",
    "print(\"Total categories:\",category_num)\n",
    "print()\n",
    "\n",
    "categories=df[\"Category\"].unique()\n",
    "print(\"Categories:\",categories)\n",
    "print()\n",
    "\n",
    "categories_sales=df.groupby(\"Category\")[\"Sales_Amount\"].sum()\n",
    "print(categories_sales)\n",
    "print()\n",
    "\n",
    "region_categories_sales=df.groupby([\"Region\",\"Category\"])[\"Sales_Amount\"].sum()\n",
    "print(region_categories_sales)\n",
    "print()\n",
    "\n",
    "country_categories_sales=df.groupby([\"Country\",\"Category\"])[\"Sales_Amount\"].sum()\n",
    "print(country_categories_sales)\n",
    "print()\n",
    "\n",
    "category_product=df.groupby([\"Category\",\"Product Type\"])[\"Sales_Amount\"].sum()\n",
    "category_product"
   ]
  },
  {
   "cell_type": "markdown",
   "id": "ed89fca9-3873-4749-8c28-880f3e49ed12",
   "metadata": {},
   "source": [
    "**SALES PER PRODUCT TYPE**"
   ]
  },
  {
   "cell_type": "code",
   "execution_count": 90,
   "id": "afcfa903-4f99-4b58-b111-f86c646492ca",
   "metadata": {},
   "outputs": [
    {
     "name": "stdout",
     "output_type": "stream",
     "text": [
      "Total product types: 22\n",
      "\n",
      "Product types: ['Almond Choco' 'Caramel Stuffed Bars' 'Eclairs' 'Manuka Honey Choco'\n",
      " 'After Nines' 'Spicy Special Slims' '85% Dark Bars' 'White Choc'\n",
      " 'Smooth Sliky Salty' 'Orange Choco' 'Mint Chip Choco'\n",
      " 'Peanut Butter Cubes' '70% Dark Bites' 'Drinking Coco' 'Fruit & Nut Bars'\n",
      " 'Raspberry Choco' 'Organic Choco Syrup' '99% Dark & Pure' 'Milk Bars'\n",
      " '50% Dark Bites' \"Baker's Choco Chips\" 'Choco Coated Almonds']\n",
      "\n",
      "Category  Product Type        \n",
      "Bars      85% Dark Bars           2128140.0\n",
      "          99% Dark & Pure         2145192.0\n",
      "          Almond Choco            2021208.0\n",
      "          Baker's Choco Chips     1918392.0\n",
      "          Caramel Stuffed Bars    2142966.0\n",
      "          Fruit & Nut Bars        2064153.0\n",
      "          Milk Bars               2160984.0\n",
      "          Mint Chip Choco         2024071.0\n",
      "          Orange Choco            2162601.0\n",
      "          Raspberry Choco         2117052.0\n",
      "          Smooth Sliky Salty      2315012.0\n",
      "Bites     50% Dark Bites          1937565.0\n",
      "          70% Dark Bites          2012682.0\n",
      "          After Nines             2174172.0\n",
      "          Choco Coated Almonds    2078027.0\n",
      "          Eclairs                 2002931.0\n",
      "          Peanut Butter Cubes     2265410.0\n",
      "          Spicy Special Slims     2168138.0\n",
      "Other     Drinking Coco           2047969.0\n",
      "          Manuka Honey Choco      2027221.0\n",
      "          Organic Choco Syrup     2127811.0\n",
      "          White Choc              2045190.0\n",
      "Name: Sales_Amount, dtype: float64\n"
     ]
    }
   ],
   "source": [
    "total_types=df[\"Product Type\"].nunique()\n",
    "print(\"Total product types:\",total_types)\n",
    "print()\n",
    "\n",
    "product_types=df[\"Product Type\"].unique()\n",
    "print(\"Product types:\",product_types)\n",
    "print()\n",
    "\n",
    "product_sales=df.groupby([\"Category\",\"Product Type\"])[\"Sales_Amount\"].sum()\n",
    "print(product_sales)"
   ]
  },
  {
   "cell_type": "markdown",
   "id": "4923d601-e348-479a-b7d5-2744dac2398d",
   "metadata": {},
   "source": [
    "Who's the best selling sales person?\n",
    "\n",
    "How does the performance compare in various months?\n",
    "\n",
    "what's the performance of products in various places at various times?"
   ]
  },
  {
   "cell_type": "code",
   "execution_count": 93,
   "id": "7d28083b-c099-4128-b865-a25eed805e3f",
   "metadata": {},
   "outputs": [
    {
     "name": "stdout",
     "output_type": "stream",
     "text": [
      "           Sales Person  Sales_Amount\n",
      "0        Andria Kimpton     2053443.0\n",
      "1          Barr Faughny     1896839.0\n",
      "2        Beverie Moffet     2109618.0\n",
      "3           Brien Boise     2002231.0\n",
      "4        Camilla Castle     1138851.0\n",
      "5          Ches Bonnell     1980846.0\n",
      "6        Curtice Advani     1865157.0\n",
      "7   Dennison Crosswaite     1999151.0\n",
      "8        Dotty Strutley     2096857.0\n",
      "9          Gigi Bohling     1983968.0\n",
      "10      Gunar Cockshoot     2195032.0\n",
      "11         Husein Augar     2024743.0\n",
      "12         Jan Morforth     2118543.0\n",
      "13       Jehu Rudeforth     1311772.0\n",
      "14          Kaine Padly     1915865.0\n",
      "15     Karlen McCaffrey     1916852.0\n",
      "16        Kelci Walkden     2005010.0\n",
      "17      Madelene Upcott     2116569.0\n",
      "18       Mallorie Waber     1080562.0\n",
      "19       Marney O'Breen     2058392.0\n",
      "20           Oby Sorrel     1912491.0\n",
      "21  Rafaelita Blaksland     2014215.0\n",
      "22      Roddy Speechley     1148987.0\n",
      "23          Van Tuxwell     1075200.0\n",
      "24       Wilone O'Kielt     2065693.0\n",
      "\n"
     ]
    }
   ],
   "source": [
    "sales_person=df.groupby([\"Sales Person\"])[\"Sales_Amount\"].sum().reset_index()\n",
    "print(sales_person)\n",
    "print()"
   ]
  },
  {
   "cell_type": "code",
   "execution_count": null,
   "id": "3105340b-7951-40f9-8797-e01965483224",
   "metadata": {},
   "outputs": [],
   "source": []
  },
  {
   "cell_type": "code",
   "execution_count": null,
   "id": "21d46959-94f3-45fc-8acc-c72d04724461",
   "metadata": {},
   "outputs": [],
   "source": []
  },
  {
   "cell_type": "code",
   "execution_count": null,
   "id": "5fe38eee-966f-4a86-8182-f04e2e53a7ee",
   "metadata": {},
   "outputs": [],
   "source": []
  }
 ],
 "metadata": {
  "kernelspec": {
   "display_name": "Python 3 (ipykernel)",
   "language": "python",
   "name": "python3"
  },
  "language_info": {
   "codemirror_mode": {
    "name": "ipython",
    "version": 3
   },
   "file_extension": ".py",
   "mimetype": "text/x-python",
   "name": "python",
   "nbconvert_exporter": "python",
   "pygments_lexer": "ipython3",
   "version": "3.12.4"
  }
 },
 "nbformat": 4,
 "nbformat_minor": 5
}
