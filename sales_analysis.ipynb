{
 "cells": [
  {
   "cell_type": "markdown",
   "id": "05ab8c72-f0ab-48ff-a0a0-f8ca8416762c",
   "metadata": {},
   "source": [
    "**IMPORT LIBRARIES**"
   ]
  },
  {
   "cell_type": "code",
   "execution_count": 2,
   "id": "8f360260-0774-4b8c-919c-21ad9a1bac94",
   "metadata": {},
   "outputs": [
    {
     "name": "stdout",
     "output_type": "stream",
     "text": [
      "Plotly version: 6.2.0\n"
     ]
    }
   ],
   "source": [
    "import pandas as pd\n",
    "import matplotlib.pyplot as plt\n",
    "import seaborn as sns\n",
    "import plotly.io as pio\n",
    "from IPython.display import Image\n",
    "import plotly.express as px\n",
    "import kaleido\n",
    "import plotly\n",
    "print(\"Plotly version:\", plotly.__version__)\n",
    "#print(\"Kaleido version:\", kaleido.__version__)\n"
   ]
  },
  {
   "cell_type": "markdown",
   "id": "7dbd1e3a-88b1-4f71-94b6-138f2e16ed1e",
   "metadata": {},
   "source": [
    "**PROBLEM STATEMENT**\n",
    "- **Understanding the sales in the 2 years.**\n",
    "\n",
    "-- Total sales overall,monthly,yearly,quartery,weekly,per region,per country,per team,per sales person,per category,per product type.\n",
    "  \n",
    "1. What's the total sales?\n",
    "\n",
    "2. What's the total sales per year?\n",
    "\n",
    "3. How does the quarterly trend in the two years?\n",
    "\n",
    "4. What's the monthly trend in the two years?\n",
    "\n",
    "5. What's the ranking of regions?\n",
    "\n",
    "6. What's the ranking of countries?\n",
    "\n",
    "7. What's the ranking of teams?\n",
    "\n",
    "8. What's the ranking of categories?\n",
    "\n",
    "9. Which are the top 5 product types?\n",
    "\n",
    "10. Who are the top 5 best performing sales people?"
   ]
  },
  {
   "cell_type": "markdown",
   "id": "42d03ae4-513a-4a76-976c-46a794678443",
   "metadata": {},
   "source": [
    "**LOAD DATA**"
   ]
  },
  {
   "cell_type": "code",
   "execution_count": 5,
   "id": "d7d2e6aa-bd1d-45bc-b68f-a67d82f62f80",
   "metadata": {},
   "outputs": [],
   "source": [
    "df=pd.read_csv(\"sales project.csv\")"
   ]
  },
  {
   "cell_type": "code",
   "execution_count": 6,
   "id": "fd2ee58b-895a-48f0-8dc5-8cb90c3e44b3",
   "metadata": {},
   "outputs": [],
   "source": [
    "# Mask Salesperson\n",
    "df[\"Sales Person\"] = \"Salesperson_\" + df[\"Sales Person\"].astype(\"category\").cat.codes.astype(str)\n",
    "\n",
    "# Mask Team\n",
    "df[\"Team\"] = \"Team_\" + df[\"Team\"].astype(\"category\").cat.codes.astype(str)\n"
   ]
  },
  {
   "cell_type": "code",
   "execution_count": 7,
   "id": "ac27a000-0e60-494e-bc49-28de63902893",
   "metadata": {},
   "outputs": [
    {
     "data": {
      "text/html": [
       "<div>\n",
       "<style scoped>\n",
       "    .dataframe tbody tr th:only-of-type {\n",
       "        vertical-align: middle;\n",
       "    }\n",
       "\n",
       "    .dataframe tbody tr th {\n",
       "        vertical-align: top;\n",
       "    }\n",
       "\n",
       "    .dataframe thead th {\n",
       "        text-align: right;\n",
       "    }\n",
       "</style>\n",
       "<table border=\"1\" class=\"dataframe\">\n",
       "  <thead>\n",
       "    <tr style=\"text-align: right;\">\n",
       "      <th></th>\n",
       "      <th>Sales Person</th>\n",
       "      <th>Team</th>\n",
       "      <th>Country</th>\n",
       "      <th>Region</th>\n",
       "      <th>Product Type</th>\n",
       "      <th>Category</th>\n",
       "      <th>Cost per box</th>\n",
       "      <th>Date</th>\n",
       "      <th>Week</th>\n",
       "      <th>Month</th>\n",
       "      <th>Quarter</th>\n",
       "      <th>Year</th>\n",
       "      <th>Amount</th>\n",
       "      <th>Boxes</th>\n",
       "      <th>Unnamed: 14</th>\n",
       "      <th>Unnamed: 15</th>\n",
       "      <th>Unnamed: 16</th>\n",
       "      <th>Unnamed: 17</th>\n",
       "      <th>Unnamed: 18</th>\n",
       "    </tr>\n",
       "  </thead>\n",
       "  <tbody>\n",
       "    <tr>\n",
       "      <th>9444</th>\n",
       "      <td>Salesperson_8</td>\n",
       "      <td>Team_1</td>\n",
       "      <td>Canada</td>\n",
       "      <td>Toronto</td>\n",
       "      <td>Drinking Coco</td>\n",
       "      <td>Other</td>\n",
       "      <td>$9.94</td>\n",
       "      <td>14/03/2022</td>\n",
       "      <td>Wk12</td>\n",
       "      <td>Mar</td>\n",
       "      <td>Q1</td>\n",
       "      <td>2022</td>\n",
       "      <td>$3,325.00</td>\n",
       "      <td>167</td>\n",
       "      <td>NaN</td>\n",
       "      <td>NaN</td>\n",
       "      <td>NaN</td>\n",
       "      <td>NaN</td>\n",
       "      <td>NaN</td>\n",
       "    </tr>\n",
       "    <tr>\n",
       "      <th>9445</th>\n",
       "      <td>Salesperson_22</td>\n",
       "      <td>Team_2</td>\n",
       "      <td>Australia</td>\n",
       "      <td>Sydney</td>\n",
       "      <td>70% Dark Bites</td>\n",
       "      <td>Bites</td>\n",
       "      <td>$5.04</td>\n",
       "      <td>09/03/2022</td>\n",
       "      <td>Wk11</td>\n",
       "      <td>Mar</td>\n",
       "      <td>Q1</td>\n",
       "      <td>2022</td>\n",
       "      <td>$4,900.00</td>\n",
       "      <td>205</td>\n",
       "      <td>NaN</td>\n",
       "      <td>NaN</td>\n",
       "      <td>NaN</td>\n",
       "      <td>NaN</td>\n",
       "      <td>NaN</td>\n",
       "    </tr>\n",
       "    <tr>\n",
       "      <th>9446</th>\n",
       "      <td>Salesperson_6</td>\n",
       "      <td>Team_0</td>\n",
       "      <td>USA</td>\n",
       "      <td>Americas</td>\n",
       "      <td>85% Dark Bars</td>\n",
       "      <td>Bars</td>\n",
       "      <td>$10.51</td>\n",
       "      <td>04/03/2022</td>\n",
       "      <td>Wk10</td>\n",
       "      <td>Mar</td>\n",
       "      <td>Q1</td>\n",
       "      <td>2022</td>\n",
       "      <td>$8,911.00</td>\n",
       "      <td>388</td>\n",
       "      <td>NaN</td>\n",
       "      <td>NaN</td>\n",
       "      <td>NaN</td>\n",
       "      <td>NaN</td>\n",
       "      <td>NaN</td>\n",
       "    </tr>\n",
       "    <tr>\n",
       "      <th>9447</th>\n",
       "      <td>Salesperson_22</td>\n",
       "      <td>Team_2</td>\n",
       "      <td>UK</td>\n",
       "      <td>Europe</td>\n",
       "      <td>70% Dark Bites</td>\n",
       "      <td>Bites</td>\n",
       "      <td>$5.04</td>\n",
       "      <td>24/03/2022</td>\n",
       "      <td>Wk13</td>\n",
       "      <td>Mar</td>\n",
       "      <td>Q1</td>\n",
       "      <td>2022</td>\n",
       "      <td>$1,316.00</td>\n",
       "      <td>51</td>\n",
       "      <td>NaN</td>\n",
       "      <td>NaN</td>\n",
       "      <td>NaN</td>\n",
       "      <td>NaN</td>\n",
       "      <td>NaN</td>\n",
       "    </tr>\n",
       "    <tr>\n",
       "      <th>9448</th>\n",
       "      <td>Salesperson_14</td>\n",
       "      <td>Team_0</td>\n",
       "      <td>Canada</td>\n",
       "      <td>Toronto</td>\n",
       "      <td>Fruit &amp; Nut Bars</td>\n",
       "      <td>Bars</td>\n",
       "      <td>$4.74</td>\n",
       "      <td>01/03/2022</td>\n",
       "      <td>Wk10</td>\n",
       "      <td>Mar</td>\n",
       "      <td>Q1</td>\n",
       "      <td>2022</td>\n",
       "      <td>$4,340.00</td>\n",
       "      <td>155</td>\n",
       "      <td>NaN</td>\n",
       "      <td>NaN</td>\n",
       "      <td>NaN</td>\n",
       "      <td>NaN</td>\n",
       "      <td>NaN</td>\n",
       "    </tr>\n",
       "  </tbody>\n",
       "</table>\n",
       "</div>"
      ],
      "text/plain": [
       "        Sales Person    Team    Country    Region      Product Type Category  \\\n",
       "9444   Salesperson_8  Team_1     Canada   Toronto     Drinking Coco    Other   \n",
       "9445  Salesperson_22  Team_2  Australia    Sydney    70% Dark Bites    Bites   \n",
       "9446   Salesperson_6  Team_0        USA  Americas     85% Dark Bars     Bars   \n",
       "9447  Salesperson_22  Team_2         UK    Europe    70% Dark Bites    Bites   \n",
       "9448  Salesperson_14  Team_0     Canada   Toronto  Fruit & Nut Bars     Bars   \n",
       "\n",
       "     Cost per box        Date  Week Month Quarter  Year     Amount  Boxes  \\\n",
       "9444        $9.94  14/03/2022  Wk12   Mar      Q1  2022  $3,325.00    167   \n",
       "9445        $5.04  09/03/2022  Wk11   Mar      Q1  2022  $4,900.00    205   \n",
       "9446       $10.51  04/03/2022  Wk10   Mar      Q1  2022  $8,911.00    388   \n",
       "9447        $5.04  24/03/2022  Wk13   Mar      Q1  2022  $1,316.00     51   \n",
       "9448        $4.74  01/03/2022  Wk10   Mar      Q1  2022  $4,340.00    155   \n",
       "\n",
       "      Unnamed: 14  Unnamed: 15  Unnamed: 16  Unnamed: 17  Unnamed: 18  \n",
       "9444          NaN          NaN          NaN          NaN          NaN  \n",
       "9445          NaN          NaN          NaN          NaN          NaN  \n",
       "9446          NaN          NaN          NaN          NaN          NaN  \n",
       "9447          NaN          NaN          NaN          NaN          NaN  \n",
       "9448          NaN          NaN          NaN          NaN          NaN  "
      ]
     },
     "execution_count": 7,
     "metadata": {},
     "output_type": "execute_result"
    }
   ],
   "source": [
    "df.tail(5)"
   ]
  },
  {
   "cell_type": "markdown",
   "id": "2953cd87-d588-453f-be18-629db6d798bd",
   "metadata": {},
   "source": [
    "**DROP COLUMNS WITH NaN**"
   ]
  },
  {
   "cell_type": "code",
   "execution_count": 9,
   "id": "9583fd89-68f3-468f-9956-6a1e9db9c0c9",
   "metadata": {},
   "outputs": [],
   "source": [
    "df.drop(columns=[\"Unnamed: 14\",\"Unnamed: 15\",\"Unnamed: 16\",\"Unnamed: 17\",\"Unnamed: 18\"],inplace=True)\n"
   ]
  },
  {
   "cell_type": "markdown",
   "id": "6b6a50d9-c3f9-4419-8958-c1ebbe47cba9",
   "metadata": {},
   "source": [
    "**CONVERT AMOUNT TO SALES AMOUNT THEN DROP AMOUNT COLUMN**"
   ]
  },
  {
   "cell_type": "code",
   "execution_count": 11,
   "id": "dff92acf-3407-4a5d-92f9-88e87ddb6394",
   "metadata": {},
   "outputs": [],
   "source": [
    "df[\"Sales_Amount\"]=df[\"Amount\"]\n",
    "df.drop(columns=\"Amount\",inplace=True)"
   ]
  },
  {
   "cell_type": "code",
   "execution_count": 12,
   "id": "c414641a-ebf5-4591-bb18-d52c27c37ef8",
   "metadata": {},
   "outputs": [
    {
     "name": "stdout",
     "output_type": "stream",
     "text": [
      "<class 'pandas.core.frame.DataFrame'>\n",
      "RangeIndex: 9449 entries, 0 to 9448\n",
      "Data columns (total 14 columns):\n",
      " #   Column        Non-Null Count  Dtype \n",
      "---  ------        --------------  ----- \n",
      " 0   Sales Person  9449 non-null   object\n",
      " 1   Team          9449 non-null   object\n",
      " 2   Country       9449 non-null   object\n",
      " 3   Region        9449 non-null   object\n",
      " 4   Product Type  9449 non-null   object\n",
      " 5   Category      9449 non-null   object\n",
      " 6   Cost per box  9449 non-null   object\n",
      " 7   Date          9449 non-null   object\n",
      " 8   Week          9449 non-null   object\n",
      " 9   Month         9449 non-null   object\n",
      " 10  Quarter       9449 non-null   object\n",
      " 11  Year          9449 non-null   int64 \n",
      " 12  Boxes         9449 non-null   int64 \n",
      " 13  Sales_Amount  9449 non-null   object\n",
      "dtypes: int64(2), object(12)\n",
      "memory usage: 1.0+ MB\n"
     ]
    }
   ],
   "source": [
    "df.info()"
   ]
  },
  {
   "cell_type": "markdown",
   "id": "48b86c1f-e178-4cec-a3ca-920bfc164b4d",
   "metadata": {},
   "source": [
    "**CONVERT Dtype**"
   ]
  },
  {
   "cell_type": "code",
   "execution_count": 14,
   "id": "f553466e-e071-4833-89c8-1629d6c43228",
   "metadata": {},
   "outputs": [
    {
     "name": "stdout",
     "output_type": "stream",
     "text": [
      "<class 'pandas.core.frame.DataFrame'>\n",
      "RangeIndex: 9449 entries, 0 to 9448\n",
      "Data columns (total 14 columns):\n",
      " #   Column        Non-Null Count  Dtype  \n",
      "---  ------        --------------  -----  \n",
      " 0   Sales Person  9449 non-null   object \n",
      " 1   Team          9449 non-null   object \n",
      " 2   Country       9449 non-null   object \n",
      " 3   Region        9449 non-null   object \n",
      " 4   Product Type  9449 non-null   object \n",
      " 5   Category      9449 non-null   object \n",
      " 6   Date          9449 non-null   object \n",
      " 7   Week          9449 non-null   object \n",
      " 8   Month         9449 non-null   object \n",
      " 9   Quarter       9449 non-null   object \n",
      " 10  Year          9449 non-null   int64  \n",
      " 11  Boxes         9449 non-null   int64  \n",
      " 12  Sales_Amount  9449 non-null   float64\n",
      " 13  Cost_per_box  9449 non-null   float64\n",
      "dtypes: float64(2), int64(2), object(10)\n",
      "memory usage: 1.0+ MB\n"
     ]
    }
   ],
   "source": [
    "df[\"Sales_Amount\"]=df[\"Sales_Amount\"].str.replace(r'[$,]',\"\",regex=\"True\").astype(float)\n",
    "df[\"Cost_per_box\"]=df[\"Cost per box\"].str.replace(r'[$,]',\"\",regex=\"True\").astype(float)\n",
    "df.drop(columns=[\"Cost per box\"],inplace=True)\n",
    "df.info()"
   ]
  },
  {
   "cell_type": "code",
   "execution_count": 15,
   "id": "54e1a969-2125-4526-96cd-9a9b945dbda7",
   "metadata": {},
   "outputs": [
    {
     "data": {
      "text/html": [
       "<div>\n",
       "<style scoped>\n",
       "    .dataframe tbody tr th:only-of-type {\n",
       "        vertical-align: middle;\n",
       "    }\n",
       "\n",
       "    .dataframe tbody tr th {\n",
       "        vertical-align: top;\n",
       "    }\n",
       "\n",
       "    .dataframe thead th {\n",
       "        text-align: right;\n",
       "    }\n",
       "</style>\n",
       "<table border=\"1\" class=\"dataframe\">\n",
       "  <thead>\n",
       "    <tr style=\"text-align: right;\">\n",
       "      <th></th>\n",
       "      <th>Sales Person</th>\n",
       "      <th>Team</th>\n",
       "      <th>Country</th>\n",
       "      <th>Region</th>\n",
       "      <th>Product Type</th>\n",
       "      <th>Category</th>\n",
       "      <th>Date</th>\n",
       "      <th>Week</th>\n",
       "      <th>Month</th>\n",
       "      <th>Quarter</th>\n",
       "      <th>Year</th>\n",
       "      <th>Boxes</th>\n",
       "      <th>Sales_Amount</th>\n",
       "      <th>Cost_per_box</th>\n",
       "    </tr>\n",
       "  </thead>\n",
       "  <tbody>\n",
       "    <tr>\n",
       "      <th>0</th>\n",
       "      <td>Salesperson_7</td>\n",
       "      <td>Team_3</td>\n",
       "      <td>UK</td>\n",
       "      <td>Europe</td>\n",
       "      <td>Almond Choco</td>\n",
       "      <td>Bars</td>\n",
       "      <td>01/01/2021</td>\n",
       "      <td>Wk1</td>\n",
       "      <td>Jan</td>\n",
       "      <td>Q1</td>\n",
       "      <td>2021</td>\n",
       "      <td>422</td>\n",
       "      <td>2037.0</td>\n",
       "      <td>5.15</td>\n",
       "    </tr>\n",
       "    <tr>\n",
       "      <th>1</th>\n",
       "      <td>Salesperson_16</td>\n",
       "      <td>Team_1</td>\n",
       "      <td>India</td>\n",
       "      <td>APAC</td>\n",
       "      <td>Almond Choco</td>\n",
       "      <td>Bars</td>\n",
       "      <td>01/01/2021</td>\n",
       "      <td>Wk1</td>\n",
       "      <td>Jan</td>\n",
       "      <td>Q1</td>\n",
       "      <td>2021</td>\n",
       "      <td>126</td>\n",
       "      <td>6160.0</td>\n",
       "      <td>5.15</td>\n",
       "    </tr>\n",
       "    <tr>\n",
       "      <th>2</th>\n",
       "      <td>Salesperson_9</td>\n",
       "      <td>Team_3</td>\n",
       "      <td>Canada</td>\n",
       "      <td>Toronto</td>\n",
       "      <td>Caramel Stuffed Bars</td>\n",
       "      <td>Bars</td>\n",
       "      <td>01/01/2021</td>\n",
       "      <td>Wk1</td>\n",
       "      <td>Jan</td>\n",
       "      <td>Q1</td>\n",
       "      <td>2021</td>\n",
       "      <td>200</td>\n",
       "      <td>1442.0</td>\n",
       "      <td>8.43</td>\n",
       "    </tr>\n",
       "    <tr>\n",
       "      <th>3</th>\n",
       "      <td>Salesperson_17</td>\n",
       "      <td>Team_1</td>\n",
       "      <td>India</td>\n",
       "      <td>APAC</td>\n",
       "      <td>Eclairs</td>\n",
       "      <td>Bites</td>\n",
       "      <td>01/01/2021</td>\n",
       "      <td>Wk1</td>\n",
       "      <td>Jan</td>\n",
       "      <td>Q1</td>\n",
       "      <td>2021</td>\n",
       "      <td>252</td>\n",
       "      <td>6979.0</td>\n",
       "      <td>6.31</td>\n",
       "    </tr>\n",
       "    <tr>\n",
       "      <th>4</th>\n",
       "      <td>Salesperson_20</td>\n",
       "      <td>Team_1</td>\n",
       "      <td>USA</td>\n",
       "      <td>Americas</td>\n",
       "      <td>Manuka Honey Choco</td>\n",
       "      <td>Other</td>\n",
       "      <td>01/01/2021</td>\n",
       "      <td>Wk1</td>\n",
       "      <td>Jan</td>\n",
       "      <td>Q1</td>\n",
       "      <td>2021</td>\n",
       "      <td>71</td>\n",
       "      <td>966.0</td>\n",
       "      <td>6.80</td>\n",
       "    </tr>\n",
       "  </tbody>\n",
       "</table>\n",
       "</div>"
      ],
      "text/plain": [
       "     Sales Person    Team Country    Region          Product Type Category  \\\n",
       "0   Salesperson_7  Team_3      UK    Europe          Almond Choco     Bars   \n",
       "1  Salesperson_16  Team_1   India      APAC          Almond Choco     Bars   \n",
       "2   Salesperson_9  Team_3  Canada   Toronto  Caramel Stuffed Bars     Bars   \n",
       "3  Salesperson_17  Team_1   India      APAC               Eclairs    Bites   \n",
       "4  Salesperson_20  Team_1     USA  Americas    Manuka Honey Choco    Other   \n",
       "\n",
       "         Date Week Month Quarter  Year  Boxes  Sales_Amount  Cost_per_box  \n",
       "0  01/01/2021  Wk1   Jan      Q1  2021    422        2037.0          5.15  \n",
       "1  01/01/2021  Wk1   Jan      Q1  2021    126        6160.0          5.15  \n",
       "2  01/01/2021  Wk1   Jan      Q1  2021    200        1442.0          8.43  \n",
       "3  01/01/2021  Wk1   Jan      Q1  2021    252        6979.0          6.31  \n",
       "4  01/01/2021  Wk1   Jan      Q1  2021     71         966.0          6.80  "
      ]
     },
     "execution_count": 15,
     "metadata": {},
     "output_type": "execute_result"
    }
   ],
   "source": [
    "df.head()"
   ]
  },
  {
   "cell_type": "markdown",
   "id": "8980d236-3083-466c-b777-29985a53107b",
   "metadata": {},
   "source": [
    "**TOTAL SALES**\n",
    "\n",
    "- Total sales is 46,086,887"
   ]
  },
  {
   "cell_type": "code",
   "execution_count": 17,
   "id": "662c9b95-fd41-470e-acbd-af32de78b9f8",
   "metadata": {},
   "outputs": [
    {
     "name": "stdout",
     "output_type": "stream",
     "text": [
      "Total Sales: 46086887.0\n"
     ]
    }
   ],
   "source": [
    "total_sales=df[\"Sales_Amount\"].sum()\n",
    "print(\"Total Sales:\",total_sales)"
   ]
  },
  {
   "cell_type": "code",
   "execution_count": 18,
   "id": "234ce6f4-2bab-4812-978f-a8bac0000b5a",
   "metadata": {},
   "outputs": [
    {
     "name": "stdout",
     "output_type": "stream",
     "text": [
      "\n"
     ]
    },
    {
     "data": {
      "image/png": "[encoded data removed]",
      "text/plain": [
       "<IPython.core.display.Image object>"
      ]
     },
     "execution_count": 18,
     "metadata": {},
     "output_type": "execute_result"
    }
   ],
   "source": [
    "import plotly.graph_objects as go\n",
    "\n",
    "fig = go.Figure(go.Indicator(\n",
    "    mode = \"number\",\n",
    "    value = total_sales,\n",
    "    title = {\"text\": \"Total Sales\"}))\n",
    "fig.update_layout(\n",
    "    font=dict(size=18),\n",
    "    width=500,  #  width size\n",
    "    height=200,  # height size\n",
    "    margin=dict(l=20, r=20, t=40, b=20))  # smaller margi\n",
    "\n",
    "#fig.show()\n",
    "print()\n",
    "\n",
    "# Save chart as PNG\n",
    "fig.write_image(\"total_sales.png\",height=200,width=400)\n",
    "# Display image in notebook (will show on GitHub)\n",
    "Image(\"total_sales.png\")\n"
   ]
  },
  {
   "cell_type": "markdown",
   "id": "9587aad6-6e14-4539-9ca6-72e0383071f6",
   "metadata": {},
   "source": [
    "**YEARLY SALES**"
   ]
  },
  {
   "cell_type": "code",
   "execution_count": 20,
   "id": "acd566b8-2788-4020-a7ea-e55146abd5e0",
   "metadata": {},
   "outputs": [
    {
     "name": "stdout",
     "output_type": "stream",
     "text": [
      "Years: 2\n",
      "Actual years: [2021 2022]\n",
      "Yearly sales: Year\n",
      "2021    34868092.0\n",
      "2022    11218795.0\n",
      "Name: Sales_Amount, dtype: float64\n"
     ]
    }
   ],
   "source": [
    "years=df[\"Year\"].nunique()\n",
    "print(\"Years:\",years)\n",
    "\n",
    "actual_years=df[\"Year\"].unique()\n",
    "print(\"Actual years:\",actual_years)\n",
    "\n",
    "yearly_sales=df.groupby(\"Year\")[\"Sales_Amount\"].sum()\n",
    "print(\"Yearly sales:\",yearly_sales)"
   ]
  },
  {
   "cell_type": "markdown",
   "id": "b573a570-f89c-42ce-97ed-c21f915520ed",
   "metadata": {},
   "source": [
    "**Bar Chart**"
   ]
  },
  {
   "cell_type": "raw",
   "id": "44db6313-62af-43c1-bda1-9b502b030847",
   "metadata": {},
   "source": [
    "import matplotlib.ticker as ticker\n",
    "\n",
    "yearly_sales.plot(kind='bar', figsize=(6, 4), color='skyblue')\n",
    "plt.title(\"Yearly sales\")\n",
    "plt.xlabel(\"Year\")\n",
    "plt.ylabel(\"Sales Amount\")\n",
    "plt.gca().yaxis.set_major_formatter(ticker.StrMethodFormatter('{x:,.0f}'))\n",
    "plt.xticks(rotation=45)\n",
    "plt.tight_layout()\n",
    "plt.show()\n"
   ]
  },
  {
   "cell_type": "code",
   "execution_count": 22,
   "id": "72b5566d-3cd7-4029-a80c-b9b7647b6d6a",
   "metadata": {},
   "outputs": [
    {
     "name": "stdout",
     "output_type": "stream",
     "text": [
      "\n"
     ]
    },
    {
     "data": {
      "image/png": "[encoded data removed]",
      "text/plain": [
       "<IPython.core.display.Image object>"
      ]
     },
     "execution_count": 22,
     "metadata": {},
     "output_type": "execute_result"
    }
   ],
   "source": [
    "\n",
    "\n",
    "fig = px.bar(\n",
    "    x=yearly_sales.index,\n",
    "    y=yearly_sales.values,\n",
    "    labels={\"x\": \"Year\", \"y\": \"Sales Amount\"},\n",
    "    title=\"Yearly Sales\",\n",
    "    color_discrete_sequence=[\"skyblue\"]\n",
    ")\n",
    "fig.update_layout(width=600, height=400)\n",
    "#fig.show()\n",
    "print() \n",
    "\n",
    "fig.write_image(\"Yearly sales.png\",height=400,width=600)\n",
    "Image(\"Yearly sales.png\")"
   ]
  },
  {
   "cell_type": "markdown",
   "id": "d442c382-77a1-498f-a921-d7f1a123b3fa",
   "metadata": {},
   "source": [
    "\n",
    "- In 2021, total sales is $34,868,092\n",
    "\n",
    "- In 2022, total sales is $11,218,795\n",
    "\n",
    "- So, there was a drop in sales.Why?\n"
   ]
  },
  {
   "cell_type": "markdown",
   "id": "45480f5a-ae04-49a1-8f6e-7011bee9e6f9",
   "metadata": {},
   "source": [
    "**QUARTERLY SALES**"
   ]
  },
  {
   "cell_type": "code",
   "execution_count": 25,
   "id": "b33499ac-a0da-49a2-8040-8166c9a1bc87",
   "metadata": {},
   "outputs": [
    {
     "name": "stdout",
     "output_type": "stream",
     "text": [
      "  Quarter  Year  Sales_Amount\n",
      "0      Q1  2021     7491281.0\n",
      "1      Q1  2022    11218795.0\n",
      "2      Q2  2021     5374404.0\n",
      "3      Q3  2021     8351259.0\n",
      "4      Q4  2021    13651148.0\n"
     ]
    }
   ],
   "source": [
    "quarterly_sales=df.groupby([\"Quarter\",\"Year\"])[\"Sales_Amount\"].sum().reset_index()\n",
    "print(quarterly_sales)"
   ]
  },
  {
   "cell_type": "raw",
   "id": "ec1fa729-7de6-444d-80da-e911f3c1dc8b",
   "metadata": {},
   "source": [
    "import seaborn as sns\n",
    "import matplotlib.pyplot as plt\n",
    "import matplotlib.ticker as ticker\n",
    "\n",
    "\n",
    "plt.figure(figsize=(6, 4))\n",
    "sns.lineplot(data=quarterly_sales, x=\"Quarter\", y=\"Sales_Amount\", hue=\"Year\", marker='o',palette={2021: \"skyblue\", 2022: \"blue\"} )\n",
    "plt.title(\"Quarterly Sales by Year\")\n",
    "plt.ylabel(\"Sales Amount\")\n",
    "# Add comma format to Y-axis\n",
    "plt.gca().yaxis.set_major_formatter(ticker.StrMethodFormatter('{x:,.0f}'))\n",
    "plt.grid(True)\n",
    "plt.tight_layout()\n",
    "plt.show()\n"
   ]
  },
  {
   "cell_type": "code",
   "execution_count": 26,
   "id": "f39976a3-1b13-4cb1-96b6-844d0e3667d6",
   "metadata": {},
   "outputs": [
    {
     "data": {
      "application/vnd.plotly.v1+json": {
       "config": {
        "plotlyServerURL": "https://plot.ly"
       },
       "data": [
        {
         "alignmentgroup": "True",
         "hovertemplate": "Quarter=%{x}<br>Sales_Amount=%{y}<br>Year=%{marker.color}<extra></extra>",
         "legendgroup": "",
         "marker": {
          "color": {
           "_inputArray": {
            "0": 2021,
            "1": 2022,
            "2": 2021,
            "3": 2021,
            "4": 2021,
            "bdata": "5QfmB+UH5QflBw==",
            "dtype": "i2",
            "shape": "5"
           },
           "bdata": "5QfmB+UH5QflBw==",
           "dtype": "i2"
          },
          "coloraxis": "coloraxis",
          "pattern": {
           "shape": ""
          }
         },
         "name": "",
         "offsetgroup": "",
         "orientation": "v",
         "showlegend": false,
         "textposition": "auto",
         "type": "bar",
         "x": [
          "Q1",
          "Q1",
          "Q2",
          "Q3",
          "Q4"
         ],
         "xaxis": "x",
         "y": {
          "_inputArray": {
           "0": 7491281,
           "1": 11218795,
           "2": 5374404,
           "3": 8351259,
           "4": 13651148,
           "bdata": "AAAAQLSTXEEAAABg7WVlQQAAAABxgFRBAAAAwIbbX0EAAACAmQlqQQ==",
           "dtype": "f8",
           "shape": "5"
          },
          "bdata": "AAAAQLSTXEEAAABg7WVlQQAAAABxgFRBAAAAwIbbX0EAAACAmQlqQQ==",
          "dtype": "f8"
         },
         "yaxis": "y"
        }
       ],
       "layout": {
        "barmode": "group",
        "coloraxis": {
         "colorbar": {
          "title": {
           "text": "Year"
          }
         },
         "colorscale": [
          [
           0,
           "#0d0887"
          ],
          [
           0.1111111111111111,
           "#46039f"
          ],
          [
           0.2222222222222222,
           "#7201a8"
          ],
          [
           0.3333333333333333,
           "#9c179e"
          ],
          [
           0.4444444444444444,
           "#bd3786"
          ],
          [
           0.5555555555555556,
           "#d8576b"
          ],
          [
           0.6666666666666666,
           "#ed7953"
          ],
          [
           0.7777777777777778,
           "#fb9f3a"
          ],
          [
           0.8888888888888888,
           "#fdca26"
          ],
          [
           1,
           "#f0f921"
          ]
         ]
        },
        "height": 450,
        "legend": {
         "tracegroupgap": 0
        },
        "template": {
         "data": {
          "bar": [
           {
            "error_x": {
             "color": "#2a3f5f"
            },
            "error_y": {
             "color": "#2a3f5f"
            },
            "marker": {
             "line": {
              "color": "#E5ECF6",
              "width": 0.5
             },
             "pattern": {
              "fillmode": "overlay",
              "size": 10,
              "solidity": 0.2
             }
            },
            "type": "bar"
           }
          ],
          "barpolar": [
           {
            "marker": {
             "line": {
              "color": "#E5ECF6",
              "width": 0.5
             },
             "pattern": {
              "fillmode": "overlay",
              "size": 10,
              "solidity": 0.2
             }
            },
            "type": "barpolar"
           }
          ],
          "carpet": [
           {
            "aaxis": {
             "endlinecolor": "#2a3f5f",
             "gridcolor": "white",
             "linecolor": "white",
             "minorgridcolor": "white",
             "startlinecolor": "#2a3f5f"
            },
            "baxis": {
             "endlinecolor": "#2a3f5f",
             "gridcolor": "white",
             "linecolor": "white",
             "minorgridcolor": "white",
             "startlinecolor": "#2a3f5f"
            },
            "type": "carpet"
           }
          ],
          "choropleth": [
           {
            "colorbar": {
             "outlinewidth": 0,
             "ticks": ""
            },
            "type": "choropleth"
           }
          ],
          "contour": [
           {
            "colorbar": {
             "outlinewidth": 0,
             "ticks": ""
            },
            "colorscale": [
             [
              0,
              "#0d0887"
             ],
             [
              0.1111111111111111,
              "#46039f"
             ],
             [
              0.2222222222222222,
              "#7201a8"
             ],
             [
              0.3333333333333333,
              "#9c179e"
             ],
             [
              0.4444444444444444,
              "#bd3786"
             ],
             [
              0.5555555555555556,
              "#d8576b"
             ],
             [
              0.6666666666666666,
              "#ed7953"
             ],
             [
              0.7777777777777778,
              "#fb9f3a"
             ],
             [
              0.8888888888888888,
              "#fdca26"
             ],
             [
              1,
              "#f0f921"
             ]
            ],
            "type": "contour"
           }
          ],
          "contourcarpet": [
           {
            "colorbar": {
             "outlinewidth": 0,
             "ticks": ""
            },
            "type": "contourcarpet"
           }
          ],
          "heatmap": [
           {
            "colorbar": {
             "outlinewidth": 0,
             "ticks": ""
            },
            "colorscale": [
             [
              0,
              "#0d0887"
             ],
             [
              0.1111111111111111,
              "#46039f"
             ],
             [
              0.2222222222222222,
              "#7201a8"
             ],
             [
              0.3333333333333333,
              "#9c179e"
             ],
             [
              0.4444444444444444,
              "#bd3786"
             ],
             [
              0.5555555555555556,
              "#d8576b"
             ],
             [
              0.6666666666666666,
              "#ed7953"
             ],
             [
              0.7777777777777778,
              "#fb9f3a"
             ],
             [
              0.8888888888888888,
              "#fdca26"
             ],
             [
              1,
              "#f0f921"
             ]
            ],
            "type": "heatmap"
           }
          ],
          "histogram": [
           {
            "marker": {
             "pattern": {
              "fillmode": "overlay",
              "size": 10,
              "solidity": 0.2
             }
            },
            "type": "histogram"
           }
          ],
          "histogram2d": [
           {
            "colorbar": {
             "outlinewidth": 0,
             "ticks": ""
            },
            "colorscale": [
             [
              0,
              "#0d0887"
             ],
             [
              0.1111111111111111,
              "#46039f"
             ],
             [
              0.2222222222222222,
              "#7201a8"
             ],
             [
              0.3333333333333333,
              "#9c179e"
             ],
             [
              0.4444444444444444,
              "#bd3786"
             ],
             [
              0.5555555555555556,
              "#d8576b"
             ],
             [
              0.6666666666666666,
              "#ed7953"
             ],
             [
              0.7777777777777778,
              "#fb9f3a"
             ],
             [
              0.8888888888888888,
              "#fdca26"
             ],
             [
              1,
              "#f0f921"
             ]
            ],
            "type": "histogram2d"
           }
          ],
          "histogram2dcontour": [
           {
            "colorbar": {
             "outlinewidth": 0,
             "ticks": ""
            },
            "colorscale": [
             [
              0,
              "#0d0887"
             ],
             [
              0.1111111111111111,
              "#46039f"
             ],
             [
              0.2222222222222222,
              "#7201a8"
             ],
             [
              0.3333333333333333,
              "#9c179e"
             ],
             [
              0.4444444444444444,
              "#bd3786"
             ],
             [
              0.5555555555555556,
              "#d8576b"
             ],
             [
              0.6666666666666666,
              "#ed7953"
             ],
             [
              0.7777777777777778,
              "#fb9f3a"
             ],
             [
              0.8888888888888888,
              "#fdca26"
             ],
             [
              1,
              "#f0f921"
             ]
            ],
            "type": "histogram2dcontour"
           }
          ],
          "mesh3d": [
           {
            "colorbar": {
             "outlinewidth": 0,
             "ticks": ""
            },
            "type": "mesh3d"
           }
          ],
          "parcoords": [
           {
            "line": {
             "colorbar": {
              "outlinewidth": 0,
              "ticks": ""
             }
            },
            "type": "parcoords"
           }
          ],
          "pie": [
           {
            "automargin": true,
            "type": "pie"
           }
          ],
          "scatter": [
           {
            "fillpattern": {
             "fillmode": "overlay",
             "size": 10,
             "solidity": 0.2
            },
            "type": "scatter"
           }
          ],
          "scatter3d": [
           {
            "line": {
             "colorbar": {
              "outlinewidth": 0,
              "ticks": ""
             }
            },
            "marker": {
             "colorbar": {
              "outlinewidth": 0,
              "ticks": ""
             }
            },
            "type": "scatter3d"
           }
          ],
          "scattercarpet": [
           {
            "marker": {
             "colorbar": {
              "outlinewidth": 0,
              "ticks": ""
             }
            },
            "type": "scattercarpet"
           }
          ],
          "scattergeo": [
           {
            "marker": {
             "colorbar": {
              "outlinewidth": 0,
              "ticks": ""
             }
            },
            "type": "scattergeo"
           }
          ],
          "scattergl": [
           {
            "marker": {
             "colorbar": {
              "outlinewidth": 0,
              "ticks": ""
             }
            },
            "type": "scattergl"
           }
          ],
          "scattermap": [
           {
            "marker": {
             "colorbar": {
              "outlinewidth": 0,
              "ticks": ""
             }
            },
            "type": "scattermap"
           }
          ],
          "scattermapbox": [
           {
            "marker": {
             "colorbar": {
              "outlinewidth": 0,
              "ticks": ""
             }
            },
            "type": "scattermapbox"
           }
          ],
          "scatterpolar": [
           {
            "marker": {
             "colorbar": {
              "outlinewidth": 0,
              "ticks": ""
             }
            },
            "type": "scatterpolar"
           }
          ],
          "scatterpolargl": [
           {
            "marker": {
             "colorbar": {
              "outlinewidth": 0,
              "ticks": ""
             }
            },
            "type": "scatterpolargl"
           }
          ],
          "scatterternary": [
           {
            "marker": {
             "colorbar": {
              "outlinewidth": 0,
              "ticks": ""
             }
            },
            "type": "scatterternary"
           }
          ],
          "surface": [
           {
            "colorbar": {
             "outlinewidth": 0,
             "ticks": ""
            },
            "colorscale": [
             [
              0,
              "#0d0887"
             ],
             [
              0.1111111111111111,
              "#46039f"
             ],
             [
              0.2222222222222222,
              "#7201a8"
             ],
             [
              0.3333333333333333,
              "#9c179e"
             ],
             [
              0.4444444444444444,
              "#bd3786"
             ],
             [
              0.5555555555555556,
              "#d8576b"
             ],
             [
              0.6666666666666666,
              "#ed7953"
             ],
             [
              0.7777777777777778,
              "#fb9f3a"
             ],
             [
              0.8888888888888888,
              "#fdca26"
             ],
             [
              1,
              "#f0f921"
             ]
            ],
            "type": "surface"
           }
          ],
          "table": [
           {
            "cells": {
             "fill": {
              "color": "#EBF0F8"
             },
             "line": {
              "color": "white"
             }
            },
            "header": {
             "fill": {
              "color": "#C8D4E3"
             },
             "line": {
              "color": "white"
             }
            },
            "type": "table"
           }
          ]
         },
         "layout": {
          "annotationdefaults": {
           "arrowcolor": "#2a3f5f",
           "arrowhead": 0,
           "arrowwidth": 1
          },
          "autotypenumbers": "strict",
          "coloraxis": {
           "colorbar": {
            "outlinewidth": 0,
            "ticks": ""
           }
          },
          "colorscale": {
           "diverging": [
            [
             0,
             "#8e0152"
            ],
            [
             0.1,
             "#c51b7d"
            ],
            [
             0.2,
             "#de77ae"
            ],
            [
             0.3,
             "#f1b6da"
            ],
            [
             0.4,
             "#fde0ef"
            ],
            [
             0.5,
             "#f7f7f7"
            ],
            [
             0.6,
             "#e6f5d0"
            ],
            [
             0.7,
             "#b8e186"
            ],
            [
             0.8,
             "#7fbc41"
            ],
            [
             0.9,
             "#4d9221"
            ],
            [
             1,
             "#276419"
            ]
           ],
           "sequential": [
            [
             0,
             "#0d0887"
            ],
            [
             0.1111111111111111,
             "#46039f"
            ],
            [
             0.2222222222222222,
             "#7201a8"
            ],
            [
             0.3333333333333333,
             "#9c179e"
            ],
            [
             0.4444444444444444,
             "#bd3786"
            ],
            [
             0.5555555555555556,
             "#d8576b"
            ],
            [
             0.6666666666666666,
             "#ed7953"
            ],
            [
             0.7777777777777778,
             "#fb9f3a"
            ],
            [
             0.8888888888888888,
             "#fdca26"
            ],
            [
             1,
             "#f0f921"
            ]
           ],
           "sequentialminus": [
            [
             0,
             "#0d0887"
            ],
            [
             0.1111111111111111,
             "#46039f"
            ],
            [
             0.2222222222222222,
             "#7201a8"
            ],
            [
             0.3333333333333333,
             "#9c179e"
            ],
            [
             0.4444444444444444,
             "#bd3786"
            ],
            [
             0.5555555555555556,
             "#d8576b"
            ],
            [
             0.6666666666666666,
             "#ed7953"
            ],
            [
             0.7777777777777778,
             "#fb9f3a"
            ],
            [
             0.8888888888888888,
             "#fdca26"
            ],
            [
             1,
             "#f0f921"
            ]
           ]
          },
          "colorway": [
           "#636efa",
           "#EF553B",
           "#00cc96",
           "#ab63fa",
           "#FFA15A",
           "#19d3f3",
           "#FF6692",
           "#B6E880",
           "#FF97FF",
           "#FECB52"
          ],
          "font": {
           "color": "#2a3f5f"
          },
          "geo": {
           "bgcolor": "white",
           "lakecolor": "white",
           "landcolor": "#E5ECF6",
           "showlakes": true,
           "showland": true,
           "subunitcolor": "white"
          },
          "hoverlabel": {
           "align": "left"
          },
          "hovermode": "closest",
          "mapbox": {
           "style": "light"
          },
          "paper_bgcolor": "white",
          "plot_bgcolor": "#E5ECF6",
          "polar": {
           "angularaxis": {
            "gridcolor": "white",
            "linecolor": "white",
            "ticks": ""
           },
           "bgcolor": "#E5ECF6",
           "radialaxis": {
            "gridcolor": "white",
            "linecolor": "white",
            "ticks": ""
           }
          },
          "scene": {
           "xaxis": {
            "backgroundcolor": "#E5ECF6",
            "gridcolor": "white",
            "gridwidth": 2,
            "linecolor": "white",
            "showbackground": true,
            "ticks": "",
            "zerolinecolor": "white"
           },
           "yaxis": {
            "backgroundcolor": "#E5ECF6",
            "gridcolor": "white",
            "gridwidth": 2,
            "linecolor": "white",
            "showbackground": true,
            "ticks": "",
            "zerolinecolor": "white"
           },
           "zaxis": {
            "backgroundcolor": "#E5ECF6",
            "gridcolor": "white",
            "gridwidth": 2,
            "linecolor": "white",
            "showbackground": true,
            "ticks": "",
            "zerolinecolor": "white"
           }
          },
          "shapedefaults": {
           "line": {
            "color": "#2a3f5f"
           }
          },
          "ternary": {
           "aaxis": {
            "gridcolor": "white",
            "linecolor": "white",
            "ticks": ""
           },
           "baxis": {
            "gridcolor": "white",
            "linecolor": "white",
            "ticks": ""
           },
           "bgcolor": "#E5ECF6",
           "caxis": {
            "gridcolor": "white",
            "linecolor": "white",
            "ticks": ""
           }
          },
          "title": {
           "x": 0.05
          },
          "xaxis": {
           "automargin": true,
           "gridcolor": "white",
           "linecolor": "white",
           "ticks": "",
           "title": {
            "standoff": 15
           },
           "zerolinecolor": "white",
           "zerolinewidth": 2
          },
          "yaxis": {
           "automargin": true,
           "gridcolor": "white",
           "linecolor": "white",
           "ticks": "",
           "title": {
            "standoff": 15
           },
           "zerolinecolor": "white",
           "zerolinewidth": 2
          }
         }
        },
        "title": {
         "text": "Quarterly Sales by Year"
        },
        "width": 600,
        "xaxis": {
         "anchor": "y",
         "autorange": true,
         "domain": [
          0,
          1
         ],
         "range": [
          -0.5,
          3.5
         ],
         "title": {
          "text": "Quarter"
         },
         "type": "category"
        },
        "yaxis": {
         "anchor": "x",
         "autorange": true,
         "domain": [
          0,
          1
         ],
         "range": [
          0,
          19694816.842105262
         ],
         "title": {
          "text": "Sales Amount"
         },
         "type": "linear"
        }
       }
      },
      "image/png": "[encoded data removed]"
     },
     "metadata": {},
     "output_type": "display_data"
    }
   ],
   "source": [
    "import plotly.express as px\n",
    "\n",
    "fig = px.bar(\n",
    "    quarterly_sales,\n",
    "    x=\"Quarter\",\n",
    "    y=\"Sales_Amount\",\n",
    "    color=\"Year\",\n",
    "    barmode=\"group\",\n",
    "    title=\"Quarterly Sales by Year\"\n",
    ")\n",
    "fig.update_layout(\n",
    "    width=600, \n",
    "    height=450,\n",
    "    yaxis_title=\"Sales Amount\"\n",
    ")\n",
    "fig.show()\n"
   ]
  },
  {
   "cell_type": "code",
   "execution_count": 27,
   "id": "0d3a422b-6f74-4be6-8938-d75711f71e71",
   "metadata": {
    "scrolled": true
   },
   "outputs": [
    {
     "name": "stdout",
     "output_type": "stream",
     "text": [
      "\n"
     ]
    },
    {
     "data": {
      "image/png": "[encoded data removed]",
      "text/plain": [
       "<IPython.core.display.Image object>"
      ]
     },
     "execution_count": 27,
     "metadata": {},
     "output_type": "execute_result"
    }
   ],
   "source": [
    "fig = px.line(\n",
    "    quarterly_sales,\n",
    "    x=\"Quarter\",\n",
    "    y=\"Sales_Amount\",\n",
    "    markers=True,\n",
    "    color=\"Year\",\n",
    "    title=\"Quarterly Sales by Year\"\n",
    ")\n",
    "fig.update_layout(\n",
    "    width=600,\n",
    "    height=450,\n",
    "    yaxis_title=\"Sales Amount\"\n",
    ")\n",
    "#fig.show()\n",
    "print()\n",
    "fig.write_image(\"Quarterly Sales by Year.png\",height=400,width=600)\n",
    "Image(\"Quarterly Sales by Year.png\")\n"
   ]
  },
  {
   "cell_type": "markdown",
   "id": "64f52dec-a486-4e19-ba0b-7882acea31e9",
   "metadata": {},
   "source": [
    "\n",
    "- In 2021, the dataset has a full year (4 quarters) but in 2022, the dataset contains only the first quarter. So this explains why in 2022 sales were less than in 2021.\n",
    "\n",
    "- In 2021, Q1 had 7,491,281, in Q2 they reduced to 5,374,404, in Q3 they raised to 8,351,259, in Q4 they raised to  13,651,148.  Why did they drop in Q2 and why the increase in the 2 consecutive quarters(Q3 and Q4)?\n",
    "\n",
    "- In 2022,the first quarter, the sales dropped to 11,218,795. Why the drop?"
   ]
  },
  {
   "cell_type": "markdown",
   "id": "55018f63-be71-4649-b629-4440417598a2",
   "metadata": {},
   "source": [
    "**MONTHLY SALES**\n",
    "\n",
    "\n"
   ]
  },
  {
   "cell_type": "code",
   "execution_count": 30,
   "id": "e2b0897d-051c-4fd7-867e-4081ea1879f2",
   "metadata": {},
   "outputs": [
    {
     "name": "stdout",
     "output_type": "stream",
     "text": [
      "    Year Month  Sales_Amount\n",
      "0   2021   Apr     2736545.0\n",
      "1   2021   Aug     3144253.0\n",
      "2   2021   Dec     4526641.0\n",
      "3   2021   Feb     2586024.0\n",
      "4   2021   Jan     1752583.0\n",
      "5   2021   Jul     2682596.0\n",
      "6   2021   Jun     1337840.0\n",
      "7   2021   Mar     3152674.0\n",
      "8   2021   May     1300019.0\n",
      "9   2021   Nov     4977665.0\n",
      "10  2021   Oct     4146842.0\n",
      "11  2021   Sep     2524410.0\n",
      "12  2022   Feb     4218242.0\n",
      "13  2022   Jan     4805437.0\n",
      "14  2022   Mar     2195116.0\n"
     ]
    }
   ],
   "source": [
    "monthly_sales=df.groupby([\"Year\",\"Month\"])[\"Sales_Amount\"].sum()\n",
    "monthly_sales = monthly_sales.reset_index()\n",
    "print(monthly_sales)\n",
    "#monthly_sales.plot()"
   ]
  },
  {
   "cell_type": "code",
   "execution_count": 31,
   "id": "05eb75d1-a68d-4ef6-9fa7-f39fcb1ec811",
   "metadata": {},
   "outputs": [
    {
     "name": "stdout",
     "output_type": "stream",
     "text": [
      "\n"
     ]
    },
    {
     "data": {
      "image/png": "[encoded data removed]",
      "text/plain": [
       "<IPython.core.display.Image object>"
      ]
     },
     "execution_count": 31,
     "metadata": {},
     "output_type": "execute_result"
    }
   ],
   "source": [
    "# Define the correct order of months\n",
    "month_order = [\"Jan\", \"Feb\", \"Mar\", \"Apr\", \"May\", \"Jun\",\n",
    "               \"Jul\", \"Aug\", \"Sep\", \"Oct\", \"Nov\", \"Dec\"]\n",
    "\n",
    "#Set 'Month' as a categorical column with the correct order\n",
    "monthly_sales[\"Month\"] = pd.Categorical(monthly_sales[\"Month\"], categories=month_order, ordered=True)\n",
    "monthly_sales = monthly_sales.sort_values([\"Year\", \"Month\"])\n",
    "fig=px.line(\n",
    "    monthly_sales,\n",
    "    x=\"Month\",\n",
    "    y=\"Sales_Amount\",\n",
    "    markers=True,\n",
    "    color=\"Year\"\n",
    "    \n",
    ")\n",
    "\n",
    "fig.update_layout(\n",
    "    width=600,\n",
    "    height=450,\n",
    "    title=\"Monthly Sales by Year\",\n",
    "    xaxis_title=\"Month\",\n",
    "    yaxis_title=\"Sales Amount\"\n",
    ")\n",
    "\n",
    "#fig.show()\n",
    "print()\n",
    "fig.write_image(\"Monthly Sales by Year.png\",height=400,width=600)\n",
    "Image(\"Monthly Sales by Year.png\")"
   ]
  },
  {
   "cell_type": "markdown",
   "id": "a53eae88-af72-44b9-98c4-3b9103267250",
   "metadata": {},
   "source": [
    "- There is high sales from October 2021 to February 2022.\n",
    "\n",
    "- The sales seems to drop from March 2021 to May 2021. Slowly rises from June 2021 to August 2021 but drops slightly in September before rising in october to January the following year.\n",
    "\n",
    "- In 2022, sales are dropping from Jan to March.\n"
   ]
  },
  {
   "cell_type": "markdown",
   "id": "e5c91a3c-80a0-4032-bc0a-2be471f91074",
   "metadata": {},
   "source": [
    "**WEEKLY SALES**\n"
   ]
  },
  {
   "cell_type": "code",
   "execution_count": 34,
   "id": "b3d84611-6f70-4e48-87b4-4b1612ea2931",
   "metadata": {},
   "outputs": [
    {
     "data": {
      "text/html": [
       "<div>\n",
       "<style scoped>\n",
       "    .dataframe tbody tr th:only-of-type {\n",
       "        vertical-align: middle;\n",
       "    }\n",
       "\n",
       "    .dataframe tbody tr th {\n",
       "        vertical-align: top;\n",
       "    }\n",
       "\n",
       "    .dataframe thead th {\n",
       "        text-align: right;\n",
       "    }\n",
       "</style>\n",
       "<table border=\"1\" class=\"dataframe\">\n",
       "  <thead>\n",
       "    <tr style=\"text-align: right;\">\n",
       "      <th></th>\n",
       "      <th>Year</th>\n",
       "      <th>Week</th>\n",
       "      <th>Sales_Amount</th>\n",
       "    </tr>\n",
       "  </thead>\n",
       "  <tbody>\n",
       "    <tr>\n",
       "      <th>0</th>\n",
       "      <td>2021</td>\n",
       "      <td>Wk1</td>\n",
       "      <td>163415.0</td>\n",
       "    </tr>\n",
       "    <tr>\n",
       "      <th>1</th>\n",
       "      <td>2021</td>\n",
       "      <td>Wk10</td>\n",
       "      <td>502887.0</td>\n",
       "    </tr>\n",
       "    <tr>\n",
       "      <th>2</th>\n",
       "      <td>2021</td>\n",
       "      <td>Wk11</td>\n",
       "      <td>768663.0</td>\n",
       "    </tr>\n",
       "    <tr>\n",
       "      <th>3</th>\n",
       "      <td>2021</td>\n",
       "      <td>Wk12</td>\n",
       "      <td>862771.0</td>\n",
       "    </tr>\n",
       "    <tr>\n",
       "      <th>4</th>\n",
       "      <td>2021</td>\n",
       "      <td>Wk13</td>\n",
       "      <td>618093.0</td>\n",
       "    </tr>\n",
       "    <tr>\n",
       "      <th>5</th>\n",
       "      <td>2021</td>\n",
       "      <td>Wk14</td>\n",
       "      <td>631036.0</td>\n",
       "    </tr>\n",
       "    <tr>\n",
       "      <th>6</th>\n",
       "      <td>2021</td>\n",
       "      <td>Wk15</td>\n",
       "      <td>605829.0</td>\n",
       "    </tr>\n",
       "    <tr>\n",
       "      <th>7</th>\n",
       "      <td>2021</td>\n",
       "      <td>Wk16</td>\n",
       "      <td>679812.0</td>\n",
       "    </tr>\n",
       "    <tr>\n",
       "      <th>8</th>\n",
       "      <td>2021</td>\n",
       "      <td>Wk17</td>\n",
       "      <td>600880.0</td>\n",
       "    </tr>\n",
       "    <tr>\n",
       "      <th>9</th>\n",
       "      <td>2021</td>\n",
       "      <td>Wk18</td>\n",
       "      <td>619248.0</td>\n",
       "    </tr>\n",
       "    <tr>\n",
       "      <th>10</th>\n",
       "      <td>2021</td>\n",
       "      <td>Wk19</td>\n",
       "      <td>424837.0</td>\n",
       "    </tr>\n",
       "    <tr>\n",
       "      <th>11</th>\n",
       "      <td>2021</td>\n",
       "      <td>Wk2</td>\n",
       "      <td>529256.0</td>\n",
       "    </tr>\n",
       "    <tr>\n",
       "      <th>12</th>\n",
       "      <td>2021</td>\n",
       "      <td>Wk20</td>\n",
       "      <td>289142.0</td>\n",
       "    </tr>\n",
       "    <tr>\n",
       "      <th>13</th>\n",
       "      <td>2021</td>\n",
       "      <td>Wk21</td>\n",
       "      <td>290780.0</td>\n",
       "    </tr>\n",
       "    <tr>\n",
       "      <th>14</th>\n",
       "      <td>2021</td>\n",
       "      <td>Wk22</td>\n",
       "      <td>284942.0</td>\n",
       "    </tr>\n",
       "    <tr>\n",
       "      <th>15</th>\n",
       "      <td>2021</td>\n",
       "      <td>Wk23</td>\n",
       "      <td>287609.0</td>\n",
       "    </tr>\n",
       "    <tr>\n",
       "      <th>16</th>\n",
       "      <td>2021</td>\n",
       "      <td>Wk24</td>\n",
       "      <td>368844.0</td>\n",
       "    </tr>\n",
       "    <tr>\n",
       "      <th>17</th>\n",
       "      <td>2021</td>\n",
       "      <td>Wk25</td>\n",
       "      <td>425397.0</td>\n",
       "    </tr>\n",
       "    <tr>\n",
       "      <th>18</th>\n",
       "      <td>2021</td>\n",
       "      <td>Wk26</td>\n",
       "      <td>163009.0</td>\n",
       "    </tr>\n",
       "    <tr>\n",
       "      <th>19</th>\n",
       "      <td>2021</td>\n",
       "      <td>Wk27</td>\n",
       "      <td>388878.0</td>\n",
       "    </tr>\n",
       "  </tbody>\n",
       "</table>\n",
       "</div>"
      ],
      "text/plain": [
       "    Year  Week  Sales_Amount\n",
       "0   2021   Wk1      163415.0\n",
       "1   2021  Wk10      502887.0\n",
       "2   2021  Wk11      768663.0\n",
       "3   2021  Wk12      862771.0\n",
       "4   2021  Wk13      618093.0\n",
       "5   2021  Wk14      631036.0\n",
       "6   2021  Wk15      605829.0\n",
       "7   2021  Wk16      679812.0\n",
       "8   2021  Wk17      600880.0\n",
       "9   2021  Wk18      619248.0\n",
       "10  2021  Wk19      424837.0\n",
       "11  2021   Wk2      529256.0\n",
       "12  2021  Wk20      289142.0\n",
       "13  2021  Wk21      290780.0\n",
       "14  2021  Wk22      284942.0\n",
       "15  2021  Wk23      287609.0\n",
       "16  2021  Wk24      368844.0\n",
       "17  2021  Wk25      425397.0\n",
       "18  2021  Wk26      163009.0\n",
       "19  2021  Wk27      388878.0"
      ]
     },
     "execution_count": 34,
     "metadata": {},
     "output_type": "execute_result"
    }
   ],
   "source": [
    "weekly_sales=df.groupby([\"Year\",\"Week\"])[\"Sales_Amount\"].sum().reset_index().head(20).sort_values([\"Year\",\"Week\"])\n",
    "weekly_sales"
   ]
  },
  {
   "cell_type": "markdown",
   "id": "838aa1d5-23f1-4287-8634-d57424490c4e",
   "metadata": {},
   "source": [
    "**SALES PER COUNTRY**\n",
    "\n"
   ]
  },
  {
   "cell_type": "code",
   "execution_count": 36,
   "id": "d607f118-b8a1-40dc-9249-6f711c4615fa",
   "metadata": {},
   "outputs": [
    {
     "name": "stdout",
     "output_type": "stream",
     "text": [
      "Total countries: 6\n",
      "Countries: ['UK' 'India' 'Canada' 'USA' 'New Zealand' 'Australia']\n",
      "       Country  Sales_Amount\n",
      "0    Australia     7895097.0\n",
      "1  New Zealand     7815955.0\n",
      "2       Canada     7761551.0\n",
      "3          USA     7618989.0\n",
      "4        India     7507710.0\n",
      "5           UK     7487585.0\n"
     ]
    }
   ],
   "source": [
    "total_countries=df[\"Country\"].nunique()\n",
    "print(\"Total countries:\",total_countries)\n",
    "\n",
    "country_names=df[\"Country\"].unique()\n",
    "print(\"Countries:\",country_names)\n",
    "\n",
    "sales_country=df.groupby(\"Country\")[\"Sales_Amount\"].sum().sort_values(ascending=False).reset_index()\n",
    "print(sales_country)"
   ]
  },
  {
   "cell_type": "code",
   "execution_count": 37,
   "id": "e127d26e-4608-4f99-b641-01223605c25d",
   "metadata": {},
   "outputs": [
    {
     "name": "stdout",
     "output_type": "stream",
     "text": [
      "\n"
     ]
    },
    {
     "data": {
      "image/png": "[encoded data removed]",
      "text/plain": [
       "<IPython.core.display.Image object>"
      ]
     },
     "execution_count": 37,
     "metadata": {},
     "output_type": "execute_result"
    }
   ],
   "source": [
    "fig = px.bar(\n",
    "    sales_country,\n",
    "    x=\"Country\",\n",
    "    y=\"Sales_Amount\",\n",
    "    title=\"Sales per country\",\n",
    "    color_discrete_sequence=[\"skyblue\"]\n",
    "   \n",
    "   \n",
    ")\n",
    "fig.update_layout(\n",
    "    width=700, \n",
    "    height=450,\n",
    "    xaxis_title=\"Country\",\n",
    "    yaxis_title=\"Sales Amount\"\n",
    "    \n",
    "    \n",
    ")\n",
    "#fig.show()\n",
    "print()\n",
    "fig.write_image(\"Sales per country.png\",height=400,width=600)\n",
    "Image(\"Sales per country.png\")"
   ]
  },
  {
   "cell_type": "code",
   "execution_count": 38,
   "id": "ee453721-634d-4cf3-8179-3fb94cfb6969",
   "metadata": {},
   "outputs": [
    {
     "name": "stdout",
     "output_type": "stream",
     "text": [
      "\n"
     ]
    },
    {
     "data": {
      "image/png": "[encoded data removed]",
      "text/plain": [
       "<IPython.core.display.Image object>"
      ]
     },
     "execution_count": 38,
     "metadata": {},
     "output_type": "execute_result"
    }
   ],
   "source": [
    "fig=px.pie(\n",
    "    sales_country,\n",
    "    names=\"Country\",\n",
    "    values=\"Sales_Amount\"\n",
    "    \n",
    ")\n",
    "fig.update_layout(\n",
    "    title=\"Sales per country\",\n",
    "    width=600,\n",
    "    height=400\n",
    "    \n",
    ")\n",
    "#fig.show()\n",
    "print()\n",
    "fig.write_image(\"Sales per country.png\",height=400,width=600)\n",
    "Image(\"Sales per country.png\")"
   ]
  },
  {
   "cell_type": "markdown",
   "id": "f3418211-4161-4dd2-9116-45727ab7c0cd",
   "metadata": {},
   "source": [
    "- Australia is leading with 7,895,097 followed by New Zealand then Canada while UK is the least."
   ]
  },
  {
   "cell_type": "code",
   "execution_count": 40,
   "id": "fe934a1e-6ce9-4a44-a5d1-e93f9ca53885",
   "metadata": {},
   "outputs": [
    {
     "data": {
      "text/html": [
       "<div>\n",
       "<style scoped>\n",
       "    .dataframe tbody tr th:only-of-type {\n",
       "        vertical-align: middle;\n",
       "    }\n",
       "\n",
       "    .dataframe tbody tr th {\n",
       "        vertical-align: top;\n",
       "    }\n",
       "\n",
       "    .dataframe thead th {\n",
       "        text-align: right;\n",
       "    }\n",
       "</style>\n",
       "<table border=\"1\" class=\"dataframe\">\n",
       "  <thead>\n",
       "    <tr style=\"text-align: right;\">\n",
       "      <th></th>\n",
       "      <th>Year</th>\n",
       "      <th>Country</th>\n",
       "      <th>Sales_Amount</th>\n",
       "    </tr>\n",
       "  </thead>\n",
       "  <tbody>\n",
       "    <tr>\n",
       "      <th>0</th>\n",
       "      <td>2021</td>\n",
       "      <td>Australia</td>\n",
       "      <td>5935643.0</td>\n",
       "    </tr>\n",
       "    <tr>\n",
       "      <th>1</th>\n",
       "      <td>2021</td>\n",
       "      <td>New Zealand</td>\n",
       "      <td>5911283.0</td>\n",
       "    </tr>\n",
       "    <tr>\n",
       "      <th>2</th>\n",
       "      <td>2021</td>\n",
       "      <td>USA</td>\n",
       "      <td>5832176.0</td>\n",
       "    </tr>\n",
       "    <tr>\n",
       "      <th>3</th>\n",
       "      <td>2021</td>\n",
       "      <td>Canada</td>\n",
       "      <td>5798030.0</td>\n",
       "    </tr>\n",
       "    <tr>\n",
       "      <th>4</th>\n",
       "      <td>2021</td>\n",
       "      <td>UK</td>\n",
       "      <td>5790743.0</td>\n",
       "    </tr>\n",
       "    <tr>\n",
       "      <th>5</th>\n",
       "      <td>2021</td>\n",
       "      <td>India</td>\n",
       "      <td>5600217.0</td>\n",
       "    </tr>\n",
       "    <tr>\n",
       "      <th>6</th>\n",
       "      <td>2022</td>\n",
       "      <td>Canada</td>\n",
       "      <td>1963521.0</td>\n",
       "    </tr>\n",
       "    <tr>\n",
       "      <th>7</th>\n",
       "      <td>2022</td>\n",
       "      <td>Australia</td>\n",
       "      <td>1959454.0</td>\n",
       "    </tr>\n",
       "    <tr>\n",
       "      <th>8</th>\n",
       "      <td>2022</td>\n",
       "      <td>India</td>\n",
       "      <td>1907493.0</td>\n",
       "    </tr>\n",
       "    <tr>\n",
       "      <th>9</th>\n",
       "      <td>2022</td>\n",
       "      <td>New Zealand</td>\n",
       "      <td>1904672.0</td>\n",
       "    </tr>\n",
       "    <tr>\n",
       "      <th>10</th>\n",
       "      <td>2022</td>\n",
       "      <td>USA</td>\n",
       "      <td>1786813.0</td>\n",
       "    </tr>\n",
       "    <tr>\n",
       "      <th>11</th>\n",
       "      <td>2022</td>\n",
       "      <td>UK</td>\n",
       "      <td>1696842.0</td>\n",
       "    </tr>\n",
       "  </tbody>\n",
       "</table>\n",
       "</div>"
      ],
      "text/plain": [
       "    Year      Country  Sales_Amount\n",
       "0   2021    Australia     5935643.0\n",
       "1   2021  New Zealand     5911283.0\n",
       "2   2021          USA     5832176.0\n",
       "3   2021       Canada     5798030.0\n",
       "4   2021           UK     5790743.0\n",
       "5   2021        India     5600217.0\n",
       "6   2022       Canada     1963521.0\n",
       "7   2022    Australia     1959454.0\n",
       "8   2022        India     1907493.0\n",
       "9   2022  New Zealand     1904672.0\n",
       "10  2022          USA     1786813.0\n",
       "11  2022           UK     1696842.0"
      ]
     },
     "execution_count": 40,
     "metadata": {},
     "output_type": "execute_result"
    }
   ],
   "source": [
    "sales_country=df.groupby([\"Year\",\"Country\"])[\"Sales_Amount\"].sum().sort_values(ascending=False).reset_index()\n",
    "sales_country"
   ]
  },
  {
   "cell_type": "code",
   "execution_count": 41,
   "id": "1ada2a61-f10f-432e-b4ce-90e1a8fb7c5c",
   "metadata": {},
   "outputs": [
    {
     "data": {
      "application/vnd.plotly.v1+json": {
       "config": {
        "plotlyServerURL": "https://plot.ly"
       },
       "data": [
        {
         "alignmentgroup": "True",
         "hovertemplate": "Country=%{x}<br>Sales_Amount=%{y}<br>Year=%{marker.color}<extra></extra>",
         "legendgroup": "",
         "marker": {
          "color": {
           "_inputArray": {
            "0": 2021,
            "1": 2021,
            "10": 2022,
            "11": 2022,
            "2": 2021,
            "3": 2021,
            "4": 2021,
            "5": 2021,
            "6": 2022,
            "7": 2022,
            "8": 2022,
            "9": 2022,
            "bdata": "5QflB+UH5QflB+UH5gfmB+YH5gfmB+YH",
            "dtype": "i2",
            "shape": "12"
           },
           "bdata": "5QflB+UH5QflB+UH5gfmB+YH5gfmB+YH",
           "dtype": "i2"
          },
          "coloraxis": "coloraxis",
          "pattern": {
           "shape": ""
          }
         },
         "name": "",
         "offsetgroup": "",
         "orientation": "v",
         "showlegend": false,
         "textposition": "auto",
         "type": "bar",
         "x": [
          "Australia",
          "New Zealand",
          "USA",
          "Canada",
          "UK",
          "India",
          "Canada",
          "Australia",
          "India",
          "New Zealand",
          "USA",
          "UK"
         ],
         "xaxis": "x",
         "y": {
          "_inputArray": {
           "0": 5935643,
           "1": 5911283,
           "10": 1786813,
           "11": 1696842,
           "2": 5832176,
           "3": 5798030,
           "4": 5790743,
           "5": 5600217,
           "6": 1963521,
           "7": 1959454,
           "8": 1907493,
           "9": 1904672,
           "bdata": "AAAAwIakVkEAAADAvIxWQQAAAAB8P1ZBAAAAgCMeVkEAAADABRdWQQAAAED2XFVBAAAAAAH2PUEAAAAAHuY9QQAAAAAlGz1BAAAAACAQPUEAAAAAvUM7QQAAAABK5DlB",
           "dtype": "f8",
           "shape": "12"
          },
          "bdata": "AAAAwIakVkEAAADAvIxWQQAAAAB8P1ZBAAAAgCMeVkEAAADABRdWQQAAAED2XFVBAAAAAAH2PUEAAAAAHuY9QQAAAAAlGz1BAAAAACAQPUEAAAAAvUM7QQAAAABK5DlB",
          "dtype": "f8"
         },
         "yaxis": "y"
        }
       ],
       "layout": {
        "barmode": "group",
        "coloraxis": {
         "colorbar": {
          "title": {
           "text": "Year"
          }
         },
         "colorscale": [
          [
           0,
           "#0d0887"
          ],
          [
           0.1111111111111111,
           "#46039f"
          ],
          [
           0.2222222222222222,
           "#7201a8"
          ],
          [
           0.3333333333333333,
           "#9c179e"
          ],
          [
           0.4444444444444444,
           "#bd3786"
          ],
          [
           0.5555555555555556,
           "#d8576b"
          ],
          [
           0.6666666666666666,
           "#ed7953"
          ],
          [
           0.7777777777777778,
           "#fb9f3a"
          ],
          [
           0.8888888888888888,
           "#fdca26"
          ],
          [
           1,
           "#f0f921"
          ]
         ]
        },
        "height": 400,
        "legend": {
         "tracegroupgap": 0
        },
        "template": {
         "data": {
          "bar": [
           {
            "error_x": {
             "color": "#2a3f5f"
            },
            "error_y": {
             "color": "#2a3f5f"
            },
            "marker": {
             "line": {
              "color": "#E5ECF6",
              "width": 0.5
             },
             "pattern": {
              "fillmode": "overlay",
              "size": 10,
              "solidity": 0.2
             }
            },
            "type": "bar"
           }
          ],
          "barpolar": [
           {
            "marker": {
             "line": {
              "color": "#E5ECF6",
              "width": 0.5
             },
             "pattern": {
              "fillmode": "overlay",
              "size": 10,
              "solidity": 0.2
             }
            },
            "type": "barpolar"
           }
          ],
          "carpet": [
           {
            "aaxis": {
             "endlinecolor": "#2a3f5f",
             "gridcolor": "white",
             "linecolor": "white",
             "minorgridcolor": "white",
             "startlinecolor": "#2a3f5f"
            },
            "baxis": {
             "endlinecolor": "#2a3f5f",
             "gridcolor": "white",
             "linecolor": "white",
             "minorgridcolor": "white",
             "startlinecolor": "#2a3f5f"
            },
            "type": "carpet"
           }
          ],
          "choropleth": [
           {
            "colorbar": {
             "outlinewidth": 0,
             "ticks": ""
            },
            "type": "choropleth"
           }
          ],
          "contour": [
           {
            "colorbar": {
             "outlinewidth": 0,
             "ticks": ""
            },
            "colorscale": [
             [
              0,
              "#0d0887"
             ],
             [
              0.1111111111111111,
              "#46039f"
             ],
             [
              0.2222222222222222,
              "#7201a8"
             ],
             [
              0.3333333333333333,
              "#9c179e"
             ],
             [
              0.4444444444444444,
              "#bd3786"
             ],
             [
              0.5555555555555556,
              "#d8576b"
             ],
             [
              0.6666666666666666,
              "#ed7953"
             ],
             [
              0.7777777777777778,
              "#fb9f3a"
             ],
             [
              0.8888888888888888,
              "#fdca26"
             ],
             [
              1,
              "#f0f921"
             ]
            ],
            "type": "contour"
           }
          ],
          "contourcarpet": [
           {
            "colorbar": {
             "outlinewidth": 0,
             "ticks": ""
            },
            "type": "contourcarpet"
           }
          ],
          "heatmap": [
           {
            "colorbar": {
             "outlinewidth": 0,
             "ticks": ""
            },
            "colorscale": [
             [
              0,
              "#0d0887"
             ],
             [
              0.1111111111111111,
              "#46039f"
             ],
             [
              0.2222222222222222,
              "#7201a8"
             ],
             [
              0.3333333333333333,
              "#9c179e"
             ],
             [
              0.4444444444444444,
              "#bd3786"
             ],
             [
              0.5555555555555556,
              "#d8576b"
             ],
             [
              0.6666666666666666,
              "#ed7953"
             ],
             [
              0.7777777777777778,
              "#fb9f3a"
             ],
             [
              0.8888888888888888,
              "#fdca26"
             ],
             [
              1,
              "#f0f921"
             ]
            ],
            "type": "heatmap"
           }
          ],
          "histogram": [
           {
            "marker": {
             "pattern": {
              "fillmode": "overlay",
              "size": 10,
              "solidity": 0.2
             }
            },
            "type": "histogram"
           }
          ],
          "histogram2d": [
           {
            "colorbar": {
             "outlinewidth": 0,
             "ticks": ""
            },
            "colorscale": [
             [
              0,
              "#0d0887"
             ],
             [
              0.1111111111111111,
              "#46039f"
             ],
             [
              0.2222222222222222,
              "#7201a8"
             ],
             [
              0.3333333333333333,
              "#9c179e"
             ],
             [
              0.4444444444444444,
              "#bd3786"
             ],
             [
              0.5555555555555556,
              "#d8576b"
             ],
             [
              0.6666666666666666,
              "#ed7953"
             ],
             [
              0.7777777777777778,
              "#fb9f3a"
             ],
             [
              0.8888888888888888,
              "#fdca26"
             ],
             [
              1,
              "#f0f921"
             ]
            ],
            "type": "histogram2d"
           }
          ],
          "histogram2dcontour": [
           {
            "colorbar": {
             "outlinewidth": 0,
             "ticks": ""
            },
            "colorscale": [
             [
              0,
              "#0d0887"
             ],
             [
              0.1111111111111111,
              "#46039f"
             ],
             [
              0.2222222222222222,
              "#7201a8"
             ],
             [
              0.3333333333333333,
              "#9c179e"
             ],
             [
              0.4444444444444444,
              "#bd3786"
             ],
             [
              0.5555555555555556,
              "#d8576b"
             ],
             [
              0.6666666666666666,
              "#ed7953"
             ],
             [
              0.7777777777777778,
              "#fb9f3a"
             ],
             [
              0.8888888888888888,
              "#fdca26"
             ],
             [
              1,
              "#f0f921"
             ]
            ],
            "type": "histogram2dcontour"
           }
          ],
          "mesh3d": [
           {
            "colorbar": {
             "outlinewidth": 0,
             "ticks": ""
            },
            "type": "mesh3d"
           }
          ],
          "parcoords": [
           {
            "line": {
             "colorbar": {
              "outlinewidth": 0,
              "ticks": ""
             }
            },
            "type": "parcoords"
           }
          ],
          "pie": [
           {
            "automargin": true,
            "type": "pie"
           }
          ],
          "scatter": [
           {
            "fillpattern": {
             "fillmode": "overlay",
             "size": 10,
             "solidity": 0.2
            },
            "type": "scatter"
           }
          ],
          "scatter3d": [
           {
            "line": {
             "colorbar": {
              "outlinewidth": 0,
              "ticks": ""
             }
            },
            "marker": {
             "colorbar": {
              "outlinewidth": 0,
              "ticks": ""
             }
            },
            "type": "scatter3d"
           }
          ],
          "scattercarpet": [
           {
            "marker": {
             "colorbar": {
              "outlinewidth": 0,
              "ticks": ""
             }
            },
            "type": "scattercarpet"
           }
          ],
          "scattergeo": [
           {
            "marker": {
             "colorbar": {
              "outlinewidth": 0,
              "ticks": ""
             }
            },
            "type": "scattergeo"
           }
          ],
          "scattergl": [
           {
            "marker": {
             "colorbar": {
              "outlinewidth": 0,
              "ticks": ""
             }
            },
            "type": "scattergl"
           }
          ],
          "scattermap": [
           {
            "marker": {
             "colorbar": {
              "outlinewidth": 0,
              "ticks": ""
             }
            },
            "type": "scattermap"
           }
          ],
          "scattermapbox": [
           {
            "marker": {
             "colorbar": {
              "outlinewidth": 0,
              "ticks": ""
             }
            },
            "type": "scattermapbox"
           }
          ],
          "scatterpolar": [
           {
            "marker": {
             "colorbar": {
              "outlinewidth": 0,
              "ticks": ""
             }
            },
            "type": "scatterpolar"
           }
          ],
          "scatterpolargl": [
           {
            "marker": {
             "colorbar": {
              "outlinewidth": 0,
              "ticks": ""
             }
            },
            "type": "scatterpolargl"
           }
          ],
          "scatterternary": [
           {
            "marker": {
             "colorbar": {
              "outlinewidth": 0,
              "ticks": ""
             }
            },
            "type": "scatterternary"
           }
          ],
          "surface": [
           {
            "colorbar": {
             "outlinewidth": 0,
             "ticks": ""
            },
            "colorscale": [
             [
              0,
              "#0d0887"
             ],
             [
              0.1111111111111111,
              "#46039f"
             ],
             [
              0.2222222222222222,
              "#7201a8"
             ],
             [
              0.3333333333333333,
              "#9c179e"
             ],
             [
              0.4444444444444444,
              "#bd3786"
             ],
             [
              0.5555555555555556,
              "#d8576b"
             ],
             [
              0.6666666666666666,
              "#ed7953"
             ],
             [
              0.7777777777777778,
              "#fb9f3a"
             ],
             [
              0.8888888888888888,
              "#fdca26"
             ],
             [
              1,
              "#f0f921"
             ]
            ],
            "type": "surface"
           }
          ],
          "table": [
           {
            "cells": {
             "fill": {
              "color": "#EBF0F8"
             },
             "line": {
              "color": "white"
             }
            },
            "header": {
             "fill": {
              "color": "#C8D4E3"
             },
             "line": {
              "color": "white"
             }
            },
            "type": "table"
           }
          ]
         },
         "layout": {
          "annotationdefaults": {
           "arrowcolor": "#2a3f5f",
           "arrowhead": 0,
           "arrowwidth": 1
          },
          "autotypenumbers": "strict",
          "coloraxis": {
           "colorbar": {
            "outlinewidth": 0,
            "ticks": ""
           }
          },
          "colorscale": {
           "diverging": [
            [
             0,
             "#8e0152"
            ],
            [
             0.1,
             "#c51b7d"
            ],
            [
             0.2,
             "#de77ae"
            ],
            [
             0.3,
             "#f1b6da"
            ],
            [
             0.4,
             "#fde0ef"
            ],
            [
             0.5,
             "#f7f7f7"
            ],
            [
             0.6,
             "#e6f5d0"
            ],
            [
             0.7,
             "#b8e186"
            ],
            [
             0.8,
             "#7fbc41"
            ],
            [
             0.9,
             "#4d9221"
            ],
            [
             1,
             "#276419"
            ]
           ],
           "sequential": [
            [
             0,
             "#0d0887"
            ],
            [
             0.1111111111111111,
             "#46039f"
            ],
            [
             0.2222222222222222,
             "#7201a8"
            ],
            [
             0.3333333333333333,
             "#9c179e"
            ],
            [
             0.4444444444444444,
             "#bd3786"
            ],
            [
             0.5555555555555556,
             "#d8576b"
            ],
            [
             0.6666666666666666,
             "#ed7953"
            ],
            [
             0.7777777777777778,
             "#fb9f3a"
            ],
            [
             0.8888888888888888,
             "#fdca26"
            ],
            [
             1,
             "#f0f921"
            ]
           ],
           "sequentialminus": [
            [
             0,
             "#0d0887"
            ],
            [
             0.1111111111111111,
             "#46039f"
            ],
            [
             0.2222222222222222,
             "#7201a8"
            ],
            [
             0.3333333333333333,
             "#9c179e"
            ],
            [
             0.4444444444444444,
             "#bd3786"
            ],
            [
             0.5555555555555556,
             "#d8576b"
            ],
            [
             0.6666666666666666,
             "#ed7953"
            ],
            [
             0.7777777777777778,
             "#fb9f3a"
            ],
            [
             0.8888888888888888,
             "#fdca26"
            ],
            [
             1,
             "#f0f921"
            ]
           ]
          },
          "colorway": [
           "#636efa",
           "#EF553B",
           "#00cc96",
           "#ab63fa",
           "#FFA15A",
           "#19d3f3",
           "#FF6692",
           "#B6E880",
           "#FF97FF",
           "#FECB52"
          ],
          "font": {
           "color": "#2a3f5f"
          },
          "geo": {
           "bgcolor": "white",
           "lakecolor": "white",
           "landcolor": "#E5ECF6",
           "showlakes": true,
           "showland": true,
           "subunitcolor": "white"
          },
          "hoverlabel": {
           "align": "left"
          },
          "hovermode": "closest",
          "mapbox": {
           "style": "light"
          },
          "paper_bgcolor": "white",
          "plot_bgcolor": "#E5ECF6",
          "polar": {
           "angularaxis": {
            "gridcolor": "white",
            "linecolor": "white",
            "ticks": ""
           },
           "bgcolor": "#E5ECF6",
           "radialaxis": {
            "gridcolor": "white",
            "linecolor": "white",
            "ticks": ""
           }
          },
          "scene": {
           "xaxis": {
            "backgroundcolor": "#E5ECF6",
            "gridcolor": "white",
            "gridwidth": 2,
            "linecolor": "white",
            "showbackground": true,
            "ticks": "",
            "zerolinecolor": "white"
           },
           "yaxis": {
            "backgroundcolor": "#E5ECF6",
            "gridcolor": "white",
            "gridwidth": 2,
            "linecolor": "white",
            "showbackground": true,
            "ticks": "",
            "zerolinecolor": "white"
           },
           "zaxis": {
            "backgroundcolor": "#E5ECF6",
            "gridcolor": "white",
            "gridwidth": 2,
            "linecolor": "white",
            "showbackground": true,
            "ticks": "",
            "zerolinecolor": "white"
           }
          },
          "shapedefaults": {
           "line": {
            "color": "#2a3f5f"
           }
          },
          "ternary": {
           "aaxis": {
            "gridcolor": "white",
            "linecolor": "white",
            "ticks": ""
           },
           "baxis": {
            "gridcolor": "white",
            "linecolor": "white",
            "ticks": ""
           },
           "bgcolor": "#E5ECF6",
           "caxis": {
            "gridcolor": "white",
            "linecolor": "white",
            "ticks": ""
           }
          },
          "title": {
           "x": 0.05
          },
          "xaxis": {
           "automargin": true,
           "gridcolor": "white",
           "linecolor": "white",
           "ticks": "",
           "title": {
            "standoff": 15
           },
           "zerolinecolor": "white",
           "zerolinewidth": 2
          },
          "yaxis": {
           "automargin": true,
           "gridcolor": "white",
           "linecolor": "white",
           "ticks": "",
           "title": {
            "standoff": 15
           },
           "zerolinecolor": "white",
           "zerolinewidth": 2
          }
         }
        },
        "title": {
         "text": "Sales Amount by Country and Year"
        },
        "width": 600,
        "xaxis": {
         "anchor": "y",
         "autorange": true,
         "domain": [
          0,
          1
         ],
         "range": [
          -0.5,
          5.5
         ],
         "title": {
          "text": "Country"
         },
         "type": "category"
        },
        "yaxis": {
         "anchor": "x",
         "autorange": true,
         "domain": [
          0,
          1
         ],
         "range": [
          0,
          8310628.421052632
         ],
         "title": {
          "text": "Total Sales Amount"
         },
         "type": "linear"
        }
       }
      },
      "image/png": "[encoded data removed]"
     },
     "metadata": {},
     "output_type": "display_data"
    }
   ],
   "source": [
    "fig = px.bar(sales_country,\n",
    "             x='Country',\n",
    "             y='Sales_Amount',\n",
    "             color='Year',\n",
    "             barmode='group',\n",
    "             title='Sales Amount by Country and Year')\n",
    "\n",
    "fig.update_layout(xaxis_title='Country',\n",
    "                  yaxis_title='Total Sales Amount',\n",
    "                  width=600,\n",
    "                  height=400\n",
    "                  \n",
    "                 )\n",
    "#fig.show()\n"
   ]
  },
  {
   "cell_type": "markdown",
   "id": "dc3b040d-5823-47c2-a5d1-1ca404b18fb3",
   "metadata": {},
   "source": [
    "- In 2021, Australia is leading followed by New Zealand but India is the least.\n",
    "\n",
    "- In 2022,Canada is leading followed by Australia as UK becomes the least."
   ]
  },
  {
   "cell_type": "code",
   "execution_count": 43,
   "id": "ef9550e4-532c-41d7-9f8e-9a7f39c3544a",
   "metadata": {},
   "outputs": [
    {
     "data": {
      "application/vnd.plotly.v1+json": {
       "config": {
        "plotlyServerURL": "https://plot.ly"
       },
       "data": [
        {
         "coloraxis": "coloraxis",
         "geo": "geo",
         "hovertemplate": "Year=2021<br>Country=%{location}<br>Sales_Amount=%{z}<extra></extra>",
         "locationmode": "country names",
         "locations": [
          "Australia",
          "New Zealand",
          "USA",
          "Canada",
          "UK",
          "India"
         ],
         "name": "",
         "type": "choropleth",
         "z": {
          "_inputArray": {
           "0": 5935643,
           "1": 5911283,
           "2": 5832176,
           "3": 5798030,
           "4": 5790743,
           "5": 5600217,
           "bdata": "AAAAwIakVkEAAADAvIxWQQAAAAB8P1ZBAAAAgCMeVkEAAADABRdWQQAAAED2XFVB",
           "dtype": "f8",
           "shape": "6"
          },
          "bdata": "AAAAwIakVkEAAADAvIxWQQAAAAB8P1ZBAAAAgCMeVkEAAADABRdWQQAAAED2XFVB",
          "dtype": "f8"
         }
        }
       ],
       "frames": [
        {
         "data": [
          {
           "coloraxis": "coloraxis",
           "geo": "geo",
           "hovertemplate": "Year=2021<br>Country=%{location}<br>Sales_Amount=%{z}<extra></extra>",
           "locationmode": "country names",
           "locations": [
            "Australia",
            "New Zealand",
            "USA",
            "Canada",
            "UK",
            "India"
           ],
           "name": "",
           "type": "choropleth",
           "z": {
            "bdata": "AAAAwIakVkEAAADAvIxWQQAAAAB8P1ZBAAAAgCMeVkEAAADABRdWQQAAAED2XFVB",
            "dtype": "f8"
           }
          }
         ],
         "name": "2021"
        },
        {
         "data": [
          {
           "coloraxis": "coloraxis",
           "geo": "geo",
           "hovertemplate": "Year=2022<br>Country=%{location}<br>Sales_Amount=%{z}<extra></extra>",
           "locationmode": "country names",
           "locations": [
            "Canada",
            "Australia",
            "India",
            "New Zealand",
            "USA",
            "UK"
           ],
           "name": "",
           "type": "choropleth",
           "z": {
            "bdata": "AAAAAAH2PUEAAAAAHuY9QQAAAAAlGz1BAAAAACAQPUEAAAAAvUM7QQAAAABK5DlB",
            "dtype": "f8"
           }
          }
         ],
         "name": "2022"
        }
       ],
       "layout": {
        "coloraxis": {
         "colorbar": {
          "title": {
           "text": "Sales_Amount"
          }
         },
         "colorscale": [
          [
           0,
           "#0d0887"
          ],
          [
           0.1111111111111111,
           "#46039f"
          ],
          [
           0.2222222222222222,
           "#7201a8"
          ],
          [
           0.3333333333333333,
           "#9c179e"
          ],
          [
           0.4444444444444444,
           "#bd3786"
          ],
          [
           0.5555555555555556,
           "#d8576b"
          ],
          [
           0.6666666666666666,
           "#ed7953"
          ],
          [
           0.7777777777777778,
           "#fb9f3a"
          ],
          [
           0.8888888888888888,
           "#fdca26"
          ],
          [
           1,
           "#f0f921"
          ]
         ]
        },
        "geo": {
         "center": {},
         "domain": {
          "x": [
           0,
           1
          ],
          "y": [
           0,
           1
          ]
         },
         "showcoastlines": false,
         "showframe": false
        },
        "height": 400,
        "legend": {
         "tracegroupgap": 0
        },
        "sliders": [
         {
          "active": 0,
          "currentvalue": {
           "prefix": "Year="
          },
          "len": 0.9,
          "pad": {
           "b": 10,
           "t": 60
          },
          "steps": [
           {
            "args": [
             [
              "2021"
             ],
             {
              "frame": {
               "duration": 0,
               "redraw": true
              },
              "fromcurrent": true,
              "mode": "immediate",
              "transition": {
               "duration": 0,
               "easing": "linear"
              }
             }
            ],
            "label": "2021",
            "method": "animate"
           },
           {
            "args": [
             [
              "2022"
             ],
             {
              "frame": {
               "duration": 0,
               "redraw": true
              },
              "fromcurrent": true,
              "mode": "immediate",
              "transition": {
               "duration": 0,
               "easing": "linear"
              }
             }
            ],
            "label": "2022",
            "method": "animate"
           }
          ],
          "x": 0.1,
          "xanchor": "left",
          "y": 0,
          "yanchor": "top"
         }
        ],
        "template": {
         "data": {
          "bar": [
           {
            "error_x": {
             "color": "#2a3f5f"
            },
            "error_y": {
             "color": "#2a3f5f"
            },
            "marker": {
             "line": {
              "color": "#E5ECF6",
              "width": 0.5
             },
             "pattern": {
              "fillmode": "overlay",
              "size": 10,
              "solidity": 0.2
             }
            },
            "type": "bar"
           }
          ],
          "barpolar": [
           {
            "marker": {
             "line": {
              "color": "#E5ECF6",
              "width": 0.5
             },
             "pattern": {
              "fillmode": "overlay",
              "size": 10,
              "solidity": 0.2
             }
            },
            "type": "barpolar"
           }
          ],
          "carpet": [
           {
            "aaxis": {
             "endlinecolor": "#2a3f5f",
             "gridcolor": "white",
             "linecolor": "white",
             "minorgridcolor": "white",
             "startlinecolor": "#2a3f5f"
            },
            "baxis": {
             "endlinecolor": "#2a3f5f",
             "gridcolor": "white",
             "linecolor": "white",
             "minorgridcolor": "white",
             "startlinecolor": "#2a3f5f"
            },
            "type": "carpet"
           }
          ],
          "choropleth": [
           {
            "colorbar": {
             "outlinewidth": 0,
             "ticks": ""
            },
            "type": "choropleth"
           }
          ],
          "contour": [
           {
            "colorbar": {
             "outlinewidth": 0,
             "ticks": ""
            },
            "colorscale": [
             [
              0,
              "#0d0887"
             ],
             [
              0.1111111111111111,
              "#46039f"
             ],
             [
              0.2222222222222222,
              "#7201a8"
             ],
             [
              0.3333333333333333,
              "#9c179e"
             ],
             [
              0.4444444444444444,
              "#bd3786"
             ],
             [
              0.5555555555555556,
              "#d8576b"
             ],
             [
              0.6666666666666666,
              "#ed7953"
             ],
             [
              0.7777777777777778,
              "#fb9f3a"
             ],
             [
              0.8888888888888888,
              "#fdca26"
             ],
             [
              1,
              "#f0f921"
             ]
            ],
            "type": "contour"
           }
          ],
          "contourcarpet": [
           {
            "colorbar": {
             "outlinewidth": 0,
             "ticks": ""
            },
            "type": "contourcarpet"
           }
          ],
          "heatmap": [
           {
            "colorbar": {
             "outlinewidth": 0,
             "ticks": ""
            },
            "colorscale": [
             [
              0,
              "#0d0887"
             ],
             [
              0.1111111111111111,
              "#46039f"
             ],
             [
              0.2222222222222222,
              "#7201a8"
             ],
             [
              0.3333333333333333,
              "#9c179e"
             ],
             [
              0.4444444444444444,
              "#bd3786"
             ],
             [
              0.5555555555555556,
              "#d8576b"
             ],
             [
              0.6666666666666666,
              "#ed7953"
             ],
             [
              0.7777777777777778,
              "#fb9f3a"
             ],
             [
              0.8888888888888888,
              "#fdca26"
             ],
             [
              1,
              "#f0f921"
             ]
            ],
            "type": "heatmap"
           }
          ],
          "histogram": [
           {
            "marker": {
             "pattern": {
              "fillmode": "overlay",
              "size": 10,
              "solidity": 0.2
             }
            },
            "type": "histogram"
           }
          ],
          "histogram2d": [
           {
            "colorbar": {
             "outlinewidth": 0,
             "ticks": ""
            },
            "colorscale": [
             [
              0,
              "#0d0887"
             ],
             [
              0.1111111111111111,
              "#46039f"
             ],
             [
              0.2222222222222222,
              "#7201a8"
             ],
             [
              0.3333333333333333,
              "#9c179e"
             ],
             [
              0.4444444444444444,
              "#bd3786"
             ],
             [
              0.5555555555555556,
              "#d8576b"
             ],
             [
              0.6666666666666666,
              "#ed7953"
             ],
             [
              0.7777777777777778,
              "#fb9f3a"
             ],
             [
              0.8888888888888888,
              "#fdca26"
             ],
             [
              1,
              "#f0f921"
             ]
            ],
            "type": "histogram2d"
           }
          ],
          "histogram2dcontour": [
           {
            "colorbar": {
             "outlinewidth": 0,
             "ticks": ""
            },
            "colorscale": [
             [
              0,
              "#0d0887"
             ],
             [
              0.1111111111111111,
              "#46039f"
             ],
             [
              0.2222222222222222,
              "#7201a8"
             ],
             [
              0.3333333333333333,
              "#9c179e"
             ],
             [
              0.4444444444444444,
              "#bd3786"
             ],
             [
              0.5555555555555556,
              "#d8576b"
             ],
             [
              0.6666666666666666,
              "#ed7953"
             ],
             [
              0.7777777777777778,
              "#fb9f3a"
             ],
             [
              0.8888888888888888,
              "#fdca26"
             ],
             [
              1,
              "#f0f921"
             ]
            ],
            "type": "histogram2dcontour"
           }
          ],
          "mesh3d": [
           {
            "colorbar": {
             "outlinewidth": 0,
             "ticks": ""
            },
            "type": "mesh3d"
           }
          ],
          "parcoords": [
           {
            "line": {
             "colorbar": {
              "outlinewidth": 0,
              "ticks": ""
             }
            },
            "type": "parcoords"
           }
          ],
          "pie": [
           {
            "automargin": true,
            "type": "pie"
           }
          ],
          "scatter": [
           {
            "fillpattern": {
             "fillmode": "overlay",
             "size": 10,
             "solidity": 0.2
            },
            "type": "scatter"
           }
          ],
          "scatter3d": [
           {
            "line": {
             "colorbar": {
              "outlinewidth": 0,
              "ticks": ""
             }
            },
            "marker": {
             "colorbar": {
              "outlinewidth": 0,
              "ticks": ""
             }
            },
            "type": "scatter3d"
           }
          ],
          "scattercarpet": [
           {
            "marker": {
             "colorbar": {
              "outlinewidth": 0,
              "ticks": ""
             }
            },
            "type": "scattercarpet"
           }
          ],
          "scattergeo": [
           {
            "marker": {
             "colorbar": {
              "outlinewidth": 0,
              "ticks": ""
             }
            },
            "type": "scattergeo"
           }
          ],
          "scattergl": [
           {
            "marker": {
             "colorbar": {
              "outlinewidth": 0,
              "ticks": ""
             }
            },
            "type": "scattergl"
           }
          ],
          "scattermap": [
           {
            "marker": {
             "colorbar": {
              "outlinewidth": 0,
              "ticks": ""
             }
            },
            "type": "scattermap"
           }
          ],
          "scattermapbox": [
           {
            "marker": {
             "colorbar": {
              "outlinewidth": 0,
              "ticks": ""
             }
            },
            "type": "scattermapbox"
           }
          ],
          "scatterpolar": [
           {
            "marker": {
             "colorbar": {
              "outlinewidth": 0,
              "ticks": ""
             }
            },
            "type": "scatterpolar"
           }
          ],
          "scatterpolargl": [
           {
            "marker": {
             "colorbar": {
              "outlinewidth": 0,
              "ticks": ""
             }
            },
            "type": "scatterpolargl"
           }
          ],
          "scatterternary": [
           {
            "marker": {
             "colorbar": {
              "outlinewidth": 0,
              "ticks": ""
             }
            },
            "type": "scatterternary"
           }
          ],
          "surface": [
           {
            "colorbar": {
             "outlinewidth": 0,
             "ticks": ""
            },
            "colorscale": [
             [
              0,
              "#0d0887"
             ],
             [
              0.1111111111111111,
              "#46039f"
             ],
             [
              0.2222222222222222,
              "#7201a8"
             ],
             [
              0.3333333333333333,
              "#9c179e"
             ],
             [
              0.4444444444444444,
              "#bd3786"
             ],
             [
              0.5555555555555556,
              "#d8576b"
             ],
             [
              0.6666666666666666,
              "#ed7953"
             ],
             [
              0.7777777777777778,
              "#fb9f3a"
             ],
             [
              0.8888888888888888,
              "#fdca26"
             ],
             [
              1,
              "#f0f921"
             ]
            ],
            "type": "surface"
           }
          ],
          "table": [
           {
            "cells": {
             "fill": {
              "color": "#EBF0F8"
             },
             "line": {
              "color": "white"
             }
            },
            "header": {
             "fill": {
              "color": "#C8D4E3"
             },
             "line": {
              "color": "white"
             }
            },
            "type": "table"
           }
          ]
         },
         "layout": {
          "annotationdefaults": {
           "arrowcolor": "#2a3f5f",
           "arrowhead": 0,
           "arrowwidth": 1
          },
          "autotypenumbers": "strict",
          "coloraxis": {
           "colorbar": {
            "outlinewidth": 0,
            "ticks": ""
           }
          },
          "colorscale": {
           "diverging": [
            [
             0,
             "#8e0152"
            ],
            [
             0.1,
             "#c51b7d"
            ],
            [
             0.2,
             "#de77ae"
            ],
            [
             0.3,
             "#f1b6da"
            ],
            [
             0.4,
             "#fde0ef"
            ],
            [
             0.5,
             "#f7f7f7"
            ],
            [
             0.6,
             "#e6f5d0"
            ],
            [
             0.7,
             "#b8e186"
            ],
            [
             0.8,
             "#7fbc41"
            ],
            [
             0.9,
             "#4d9221"
            ],
            [
             1,
             "#276419"
            ]
           ],
           "sequential": [
            [
             0,
             "#0d0887"
            ],
            [
             0.1111111111111111,
             "#46039f"
            ],
            [
             0.2222222222222222,
             "#7201a8"
            ],
            [
             0.3333333333333333,
             "#9c179e"
            ],
            [
             0.4444444444444444,
             "#bd3786"
            ],
            [
             0.5555555555555556,
             "#d8576b"
            ],
            [
             0.6666666666666666,
             "#ed7953"
            ],
            [
             0.7777777777777778,
             "#fb9f3a"
            ],
            [
             0.8888888888888888,
             "#fdca26"
            ],
            [
             1,
             "#f0f921"
            ]
           ],
           "sequentialminus": [
            [
             0,
             "#0d0887"
            ],
            [
             0.1111111111111111,
             "#46039f"
            ],
            [
             0.2222222222222222,
             "#7201a8"
            ],
            [
             0.3333333333333333,
             "#9c179e"
            ],
            [
             0.4444444444444444,
             "#bd3786"
            ],
            [
             0.5555555555555556,
             "#d8576b"
            ],
            [
             0.6666666666666666,
             "#ed7953"
            ],
            [
             0.7777777777777778,
             "#fb9f3a"
            ],
            [
             0.8888888888888888,
             "#fdca26"
            ],
            [
             1,
             "#f0f921"
            ]
           ]
          },
          "colorway": [
           "#636efa",
           "#EF553B",
           "#00cc96",
           "#ab63fa",
           "#FFA15A",
           "#19d3f3",
           "#FF6692",
           "#B6E880",
           "#FF97FF",
           "#FECB52"
          ],
          "font": {
           "color": "#2a3f5f"
          },
          "geo": {
           "bgcolor": "white",
           "lakecolor": "white",
           "landcolor": "#E5ECF6",
           "showlakes": true,
           "showland": true,
           "subunitcolor": "white"
          },
          "hoverlabel": {
           "align": "left"
          },
          "hovermode": "closest",
          "mapbox": {
           "style": "light"
          },
          "paper_bgcolor": "white",
          "plot_bgcolor": "#E5ECF6",
          "polar": {
           "angularaxis": {
            "gridcolor": "white",
            "linecolor": "white",
            "ticks": ""
           },
           "bgcolor": "#E5ECF6",
           "radialaxis": {
            "gridcolor": "white",
            "linecolor": "white",
            "ticks": ""
           }
          },
          "scene": {
           "xaxis": {
            "backgroundcolor": "#E5ECF6",
            "gridcolor": "white",
            "gridwidth": 2,
            "linecolor": "white",
            "showbackground": true,
            "ticks": "",
            "zerolinecolor": "white"
           },
           "yaxis": {
            "backgroundcolor": "#E5ECF6",
            "gridcolor": "white",
            "gridwidth": 2,
            "linecolor": "white",
            "showbackground": true,
            "ticks": "",
            "zerolinecolor": "white"
           },
           "zaxis": {
            "backgroundcolor": "#E5ECF6",
            "gridcolor": "white",
            "gridwidth": 2,
            "linecolor": "white",
            "showbackground": true,
            "ticks": "",
            "zerolinecolor": "white"
           }
          },
          "shapedefaults": {
           "line": {
            "color": "#2a3f5f"
           }
          },
          "ternary": {
           "aaxis": {
            "gridcolor": "white",
            "linecolor": "white",
            "ticks": ""
           },
           "baxis": {
            "gridcolor": "white",
            "linecolor": "white",
            "ticks": ""
           },
           "bgcolor": "#E5ECF6",
           "caxis": {
            "gridcolor": "white",
            "linecolor": "white",
            "ticks": ""
           }
          },
          "title": {
           "x": 0.05
          },
          "xaxis": {
           "automargin": true,
           "gridcolor": "white",
           "linecolor": "white",
           "ticks": "",
           "title": {
            "standoff": 15
           },
           "zerolinecolor": "white",
           "zerolinewidth": 2
          },
          "yaxis": {
           "automargin": true,
           "gridcolor": "white",
           "linecolor": "white",
           "ticks": "",
           "title": {
            "standoff": 15
           },
           "zerolinecolor": "white",
           "zerolinewidth": 2
          }
         }
        },
        "title": {
         "text": "Sales per Country Over Years"
        },
        "updatemenus": [
         {
          "buttons": [
           {
            "args": [
             null,
             {
              "frame": {
               "duration": 500,
               "redraw": true
              },
              "fromcurrent": true,
              "mode": "immediate",
              "transition": {
               "duration": 500,
               "easing": "linear"
              }
             }
            ],
            "label": "&#9654;",
            "method": "animate"
           },
           {
            "args": [
             [
              null
             ],
             {
              "frame": {
               "duration": 0,
               "redraw": true
              },
              "fromcurrent": true,
              "mode": "immediate",
              "transition": {
               "duration": 0,
               "easing": "linear"
              }
             }
            ],
            "label": "&#9724;",
            "method": "animate"
           }
          ],
          "direction": "left",
          "pad": {
           "r": 10,
           "t": 70
          },
          "showactive": false,
          "type": "buttons",
          "x": 0.1,
          "xanchor": "right",
          "y": 0,
          "yanchor": "top"
         }
        ],
        "width": 600
       }
      },
      "image/png": "[encoded data removed]"
     },
     "metadata": {},
     "output_type": "display_data"
    }
   ],
   "source": [
    "fig = px.choropleth(sales_country,\n",
    "                    locations='Country',\n",
    "                    locationmode='country names',\n",
    "                    color='Sales_Amount',\n",
    "                    animation_frame='Year',\n",
    "                    title='Sales per Country Over Years')\n",
    "\n",
    "fig.update_layout(geo=dict(showframe=False, showcoastlines=False),width=600,height=400)\n",
    "#fig.show()\n"
   ]
  },
  {
   "cell_type": "markdown",
   "id": "5a31f804-e211-43a8-b590-f545783ad996",
   "metadata": {},
   "source": [
    "**SALES PER REGION**\n",
    "\n",
    "- From my research, Sydney is a city in Australia which is in APAC region, so I'll replace Sydney with APAC.\n",
    "\n",
    "- Toronto is also a city in Canada which is in Americas, so I'll replace Toronto with Americas.\n",
    "  \n",
    "\n"
   ]
  },
  {
   "cell_type": "code",
   "execution_count": 45,
   "id": "b3d70a20-48e6-4c85-9ba1-cc9275d669a9",
   "metadata": {},
   "outputs": [
    {
     "name": "stdout",
     "output_type": "stream",
     "text": [
      "\n",
      "Country\n",
      "Australia          [APAC]\n",
      "Canada         [Americas]\n",
      "India              [APAC]\n",
      "New Zealand        [APAC]\n",
      "UK               [Europe]\n",
      "USA            [Americas]\n",
      "Name: Region, dtype: object\n"
     ]
    }
   ],
   "source": [
    "country_region=df.groupby(\"Country\")[\"Region\"].unique()\n",
    "print()\n",
    "\n",
    "df[\"Region\"]=df[\"Region\"].replace({'Sydney':'APAC','Toronto':'Americas'})\n",
    "new_regions=df.groupby(\"Country\")[\"Region\"].unique()\n",
    "print(new_regions)\n"
   ]
  },
  {
   "cell_type": "code",
   "execution_count": 46,
   "id": "c10e7697-3afe-4a50-a07f-54bb86cfa549",
   "metadata": {},
   "outputs": [
    {
     "name": "stdout",
     "output_type": "stream",
     "text": [
      "New No. of regions: 3\n",
      "\n",
      "New list of regions: ['Europe' 'APAC' 'Americas']\n",
      "\n",
      "     Region  Country\n",
      "0      APAC        3\n",
      "1  Americas        2\n",
      "2    Europe        1\n",
      "\n",
      "     Region  Sales_Amount\n",
      "0      APAC    23218762.0\n",
      "1  Americas    15380540.0\n",
      "2    Europe     7487585.0\n"
     ]
    }
   ],
   "source": [
    "new_regions=df[\"Region\"].nunique()\n",
    "print(\"New No. of regions:\",new_regions)\n",
    "print()\n",
    "\n",
    "new_regions=df[\"Region\"].unique()\n",
    "print(\"New list of regions:\",new_regions)\n",
    "print()\n",
    "\n",
    "country_counts=df.groupby(\"Region\")[\"Country\"].nunique().reset_index()\n",
    "print(country_counts)\n",
    "print()\n",
    "\n",
    "region_sales=df.groupby(\"Region\")[\"Sales_Amount\"].sum().reset_index()\n",
    "print(region_sales)"
   ]
  },
  {
   "cell_type": "code",
   "execution_count": 47,
   "id": "d47f5b79-8181-4aaf-b280-b7b5e0832c05",
   "metadata": {},
   "outputs": [
    {
     "data": {
      "application/vnd.plotly.v1+json": {
       "config": {
        "plotlyServerURL": "https://plot.ly"
       },
       "data": [
        {
         "hovertemplate": "Region=%{text}<br>Country=%{y}<extra></extra>",
         "legendgroup": "",
         "marker": {
          "color": "skyblue",
          "pattern": {
           "shape": ""
          }
         },
         "name": "",
         "orientation": "v",
         "showlegend": false,
         "text": [
          "APAC",
          "Americas",
          "Europe"
         ],
         "textposition": "auto",
         "type": "bar",
         "x": [
          "APAC",
          "Americas",
          "Europe"
         ],
         "xaxis": "x",
         "y": {
          "_inputArray": {
           "0": 3,
           "1": 2,
           "2": 1,
           "bdata": "AwIB",
           "dtype": "i1",
           "shape": "3"
          },
          "bdata": "AwIB",
          "dtype": "i1"
         },
         "yaxis": "y"
        }
       ],
       "layout": {
        "barmode": "relative",
        "height": 400,
        "legend": {
         "tracegroupgap": 0
        },
        "template": {
         "data": {
          "bar": [
           {
            "error_x": {
             "color": "#2a3f5f"
            },
            "error_y": {
             "color": "#2a3f5f"
            },
            "marker": {
             "line": {
              "color": "#E5ECF6",
              "width": 0.5
             },
             "pattern": {
              "fillmode": "overlay",
              "size": 10,
              "solidity": 0.2
             }
            },
            "type": "bar"
           }
          ],
          "barpolar": [
           {
            "marker": {
             "line": {
              "color": "#E5ECF6",
              "width": 0.5
             },
             "pattern": {
              "fillmode": "overlay",
              "size": 10,
              "solidity": 0.2
             }
            },
            "type": "barpolar"
           }
          ],
          "carpet": [
           {
            "aaxis": {
             "endlinecolor": "#2a3f5f",
             "gridcolor": "white",
             "linecolor": "white",
             "minorgridcolor": "white",
             "startlinecolor": "#2a3f5f"
            },
            "baxis": {
             "endlinecolor": "#2a3f5f",
             "gridcolor": "white",
             "linecolor": "white",
             "minorgridcolor": "white",
             "startlinecolor": "#2a3f5f"
            },
            "type": "carpet"
           }
          ],
          "choropleth": [
           {
            "colorbar": {
             "outlinewidth": 0,
             "ticks": ""
            },
            "type": "choropleth"
           }
          ],
          "contour": [
           {
            "colorbar": {
             "outlinewidth": 0,
             "ticks": ""
            },
            "colorscale": [
             [
              0,
              "#0d0887"
             ],
             [
              0.1111111111111111,
              "#46039f"
             ],
             [
              0.2222222222222222,
              "#7201a8"
             ],
             [
              0.3333333333333333,
              "#9c179e"
             ],
             [
              0.4444444444444444,
              "#bd3786"
             ],
             [
              0.5555555555555556,
              "#d8576b"
             ],
             [
              0.6666666666666666,
              "#ed7953"
             ],
             [
              0.7777777777777778,
              "#fb9f3a"
             ],
             [
              0.8888888888888888,
              "#fdca26"
             ],
             [
              1,
              "#f0f921"
             ]
            ],
            "type": "contour"
           }
          ],
          "contourcarpet": [
           {
            "colorbar": {
             "outlinewidth": 0,
             "ticks": ""
            },
            "type": "contourcarpet"
           }
          ],
          "heatmap": [
           {
            "colorbar": {
             "outlinewidth": 0,
             "ticks": ""
            },
            "colorscale": [
             [
              0,
              "#0d0887"
             ],
             [
              0.1111111111111111,
              "#46039f"
             ],
             [
              0.2222222222222222,
              "#7201a8"
             ],
             [
              0.3333333333333333,
              "#9c179e"
             ],
             [
              0.4444444444444444,
              "#bd3786"
             ],
             [
              0.5555555555555556,
              "#d8576b"
             ],
             [
              0.6666666666666666,
              "#ed7953"
             ],
             [
              0.7777777777777778,
              "#fb9f3a"
             ],
             [
              0.8888888888888888,
              "#fdca26"
             ],
             [
              1,
              "#f0f921"
             ]
            ],
            "type": "heatmap"
           }
          ],
          "histogram": [
           {
            "marker": {
             "pattern": {
              "fillmode": "overlay",
              "size": 10,
              "solidity": 0.2
             }
            },
            "type": "histogram"
           }
          ],
          "histogram2d": [
           {
            "colorbar": {
             "outlinewidth": 0,
             "ticks": ""
            },
            "colorscale": [
             [
              0,
              "#0d0887"
             ],
             [
              0.1111111111111111,
              "#46039f"
             ],
             [
              0.2222222222222222,
              "#7201a8"
             ],
             [
              0.3333333333333333,
              "#9c179e"
             ],
             [
              0.4444444444444444,
              "#bd3786"
             ],
             [
              0.5555555555555556,
              "#d8576b"
             ],
             [
              0.6666666666666666,
              "#ed7953"
             ],
             [
              0.7777777777777778,
              "#fb9f3a"
             ],
             [
              0.8888888888888888,
              "#fdca26"
             ],
             [
              1,
              "#f0f921"
             ]
            ],
            "type": "histogram2d"
           }
          ],
          "histogram2dcontour": [
           {
            "colorbar": {
             "outlinewidth": 0,
             "ticks": ""
            },
            "colorscale": [
             [
              0,
              "#0d0887"
             ],
             [
              0.1111111111111111,
              "#46039f"
             ],
             [
              0.2222222222222222,
              "#7201a8"
             ],
             [
              0.3333333333333333,
              "#9c179e"
             ],
             [
              0.4444444444444444,
              "#bd3786"
             ],
             [
              0.5555555555555556,
              "#d8576b"
             ],
             [
              0.6666666666666666,
              "#ed7953"
             ],
             [
              0.7777777777777778,
              "#fb9f3a"
             ],
             [
              0.8888888888888888,
              "#fdca26"
             ],
             [
              1,
              "#f0f921"
             ]
            ],
            "type": "histogram2dcontour"
           }
          ],
          "mesh3d": [
           {
            "colorbar": {
             "outlinewidth": 0,
             "ticks": ""
            },
            "type": "mesh3d"
           }
          ],
          "parcoords": [
           {
            "line": {
             "colorbar": {
              "outlinewidth": 0,
              "ticks": ""
             }
            },
            "type": "parcoords"
           }
          ],
          "pie": [
           {
            "automargin": true,
            "type": "pie"
           }
          ],
          "scatter": [
           {
            "fillpattern": {
             "fillmode": "overlay",
             "size": 10,
             "solidity": 0.2
            },
            "type": "scatter"
           }
          ],
          "scatter3d": [
           {
            "line": {
             "colorbar": {
              "outlinewidth": 0,
              "ticks": ""
             }
            },
            "marker": {
             "colorbar": {
              "outlinewidth": 0,
              "ticks": ""
             }
            },
            "type": "scatter3d"
           }
          ],
          "scattercarpet": [
           {
            "marker": {
             "colorbar": {
              "outlinewidth": 0,
              "ticks": ""
             }
            },
            "type": "scattercarpet"
           }
          ],
          "scattergeo": [
           {
            "marker": {
             "colorbar": {
              "outlinewidth": 0,
              "ticks": ""
             }
            },
            "type": "scattergeo"
           }
          ],
          "scattergl": [
           {
            "marker": {
             "colorbar": {
              "outlinewidth": 0,
              "ticks": ""
             }
            },
            "type": "scattergl"
           }
          ],
          "scattermap": [
           {
            "marker": {
             "colorbar": {
              "outlinewidth": 0,
              "ticks": ""
             }
            },
            "type": "scattermap"
           }
          ],
          "scattermapbox": [
           {
            "marker": {
             "colorbar": {
              "outlinewidth": 0,
              "ticks": ""
             }
            },
            "type": "scattermapbox"
           }
          ],
          "scatterpolar": [
           {
            "marker": {
             "colorbar": {
              "outlinewidth": 0,
              "ticks": ""
             }
            },
            "type": "scatterpolar"
           }
          ],
          "scatterpolargl": [
           {
            "marker": {
             "colorbar": {
              "outlinewidth": 0,
              "ticks": ""
             }
            },
            "type": "scatterpolargl"
           }
          ],
          "scatterternary": [
           {
            "marker": {
             "colorbar": {
              "outlinewidth": 0,
              "ticks": ""
             }
            },
            "type": "scatterternary"
           }
          ],
          "surface": [
           {
            "colorbar": {
             "outlinewidth": 0,
             "ticks": ""
            },
            "colorscale": [
             [
              0,
              "#0d0887"
             ],
             [
              0.1111111111111111,
              "#46039f"
             ],
             [
              0.2222222222222222,
              "#7201a8"
             ],
             [
              0.3333333333333333,
              "#9c179e"
             ],
             [
              0.4444444444444444,
              "#bd3786"
             ],
             [
              0.5555555555555556,
              "#d8576b"
             ],
             [
              0.6666666666666666,
              "#ed7953"
             ],
             [
              0.7777777777777778,
              "#fb9f3a"
             ],
             [
              0.8888888888888888,
              "#fdca26"
             ],
             [
              1,
              "#f0f921"
             ]
            ],
            "type": "surface"
           }
          ],
          "table": [
           {
            "cells": {
             "fill": {
              "color": "#EBF0F8"
             },
             "line": {
              "color": "white"
             }
            },
            "header": {
             "fill": {
              "color": "#C8D4E3"
             },
             "line": {
              "color": "white"
             }
            },
            "type": "table"
           }
          ]
         },
         "layout": {
          "annotationdefaults": {
           "arrowcolor": "#2a3f5f",
           "arrowhead": 0,
           "arrowwidth": 1
          },
          "autotypenumbers": "strict",
          "coloraxis": {
           "colorbar": {
            "outlinewidth": 0,
            "ticks": ""
           }
          },
          "colorscale": {
           "diverging": [
            [
             0,
             "#8e0152"
            ],
            [
             0.1,
             "#c51b7d"
            ],
            [
             0.2,
             "#de77ae"
            ],
            [
             0.3,
             "#f1b6da"
            ],
            [
             0.4,
             "#fde0ef"
            ],
            [
             0.5,
             "#f7f7f7"
            ],
            [
             0.6,
             "#e6f5d0"
            ],
            [
             0.7,
             "#b8e186"
            ],
            [
             0.8,
             "#7fbc41"
            ],
            [
             0.9,
             "#4d9221"
            ],
            [
             1,
             "#276419"
            ]
           ],
           "sequential": [
            [
             0,
             "#0d0887"
            ],
            [
             0.1111111111111111,
             "#46039f"
            ],
            [
             0.2222222222222222,
             "#7201a8"
            ],
            [
             0.3333333333333333,
             "#9c179e"
            ],
            [
             0.4444444444444444,
             "#bd3786"
            ],
            [
             0.5555555555555556,
             "#d8576b"
            ],
            [
             0.6666666666666666,
             "#ed7953"
            ],
            [
             0.7777777777777778,
             "#fb9f3a"
            ],
            [
             0.8888888888888888,
             "#fdca26"
            ],
            [
             1,
             "#f0f921"
            ]
           ],
           "sequentialminus": [
            [
             0,
             "#0d0887"
            ],
            [
             0.1111111111111111,
             "#46039f"
            ],
            [
             0.2222222222222222,
             "#7201a8"
            ],
            [
             0.3333333333333333,
             "#9c179e"
            ],
            [
             0.4444444444444444,
             "#bd3786"
            ],
            [
             0.5555555555555556,
             "#d8576b"
            ],
            [
             0.6666666666666666,
             "#ed7953"
            ],
            [
             0.7777777777777778,
             "#fb9f3a"
            ],
            [
             0.8888888888888888,
             "#fdca26"
            ],
            [
             1,
             "#f0f921"
            ]
           ]
          },
          "colorway": [
           "#636efa",
           "#EF553B",
           "#00cc96",
           "#ab63fa",
           "#FFA15A",
           "#19d3f3",
           "#FF6692",
           "#B6E880",
           "#FF97FF",
           "#FECB52"
          ],
          "font": {
           "color": "#2a3f5f"
          },
          "geo": {
           "bgcolor": "white",
           "lakecolor": "white",
           "landcolor": "#E5ECF6",
           "showlakes": true,
           "showland": true,
           "subunitcolor": "white"
          },
          "hoverlabel": {
           "align": "left"
          },
          "hovermode": "closest",
          "mapbox": {
           "style": "light"
          },
          "paper_bgcolor": "white",
          "plot_bgcolor": "#E5ECF6",
          "polar": {
           "angularaxis": {
            "gridcolor": "white",
            "linecolor": "white",
            "ticks": ""
           },
           "bgcolor": "#E5ECF6",
           "radialaxis": {
            "gridcolor": "white",
            "linecolor": "white",
            "ticks": ""
           }
          },
          "scene": {
           "xaxis": {
            "backgroundcolor": "#E5ECF6",
            "gridcolor": "white",
            "gridwidth": 2,
            "linecolor": "white",
            "showbackground": true,
            "ticks": "",
            "zerolinecolor": "white"
           },
           "yaxis": {
            "backgroundcolor": "#E5ECF6",
            "gridcolor": "white",
            "gridwidth": 2,
            "linecolor": "white",
            "showbackground": true,
            "ticks": "",
            "zerolinecolor": "white"
           },
           "zaxis": {
            "backgroundcolor": "#E5ECF6",
            "gridcolor": "white",
            "gridwidth": 2,
            "linecolor": "white",
            "showbackground": true,
            "ticks": "",
            "zerolinecolor": "white"
           }
          },
          "shapedefaults": {
           "line": {
            "color": "#2a3f5f"
           }
          },
          "ternary": {
           "aaxis": {
            "gridcolor": "white",
            "linecolor": "white",
            "ticks": ""
           },
           "baxis": {
            "gridcolor": "white",
            "linecolor": "white",
            "ticks": ""
           },
           "bgcolor": "#E5ECF6",
           "caxis": {
            "gridcolor": "white",
            "linecolor": "white",
            "ticks": ""
           }
          },
          "title": {
           "x": 0.05
          },
          "xaxis": {
           "automargin": true,
           "gridcolor": "white",
           "linecolor": "white",
           "ticks": "",
           "title": {
            "standoff": 15
           },
           "zerolinecolor": "white",
           "zerolinewidth": 2
          },
          "yaxis": {
           "automargin": true,
           "gridcolor": "white",
           "linecolor": "white",
           "ticks": "",
           "title": {
            "standoff": 15
           },
           "zerolinecolor": "white",
           "zerolinewidth": 2
          }
         }
        },
        "title": {
         "text": "Number of countries per region"
        },
        "width": 600,
        "xaxis": {
         "anchor": "y",
         "autorange": true,
         "domain": [
          0,
          1
         ],
         "range": [
          -0.5,
          2.5
         ],
         "title": {
          "text": "Region"
         },
         "type": "category"
        },
        "yaxis": {
         "anchor": "x",
         "autorange": true,
         "domain": [
          0,
          1
         ],
         "range": [
          0,
          3.1578947368421053
         ],
         "title": {
          "text": "No. of countries"
         },
         "type": "linear"
        }
       }
      },
      "image/png": "[encoded data removed]"
     },
     "metadata": {},
     "output_type": "display_data"
    }
   ],
   "source": [
    "import plotly.express as px\n",
    "\n",
    "fig = px.bar(country_counts,\n",
    "             x=\"Region\",\n",
    "             y=\"Country\",\n",
    "             title=\"Number of countries per region\",\n",
    "             text=\"Region\",\n",
    "             color_discrete_sequence=[\"skyblue\"]\n",
    "            )\n",
    "\n",
    "fig.update_layout(yaxis_title=\"No. of countries\",\n",
    "                  xaxis_title=\"Region\",\n",
    "                  width=600,\n",
    "                  height=400\n",
    "                 )\n",
    "#fig.show()\n"
   ]
  },
  {
   "cell_type": "code",
   "execution_count": 48,
   "id": "da4ccf06-77b8-43be-b5fe-04b986e3b5b4",
   "metadata": {},
   "outputs": [
    {
     "name": "stdout",
     "output_type": "stream",
     "text": [
      "\n"
     ]
    },
    {
     "data": {
      "image/png": "[encoded data removed]",
      "text/plain": [
       "<IPython.core.display.Image object>"
      ]
     },
     "execution_count": 48,
     "metadata": {},
     "output_type": "execute_result"
    }
   ],
   "source": [
    "fig = px.treemap(df, path=['Region', 'Country'], values='Sales_Amount')\n",
    "fig.update_layout(width=600,height=400,title=\"Number of countries per region\")\n",
    "#fig.show()\n",
    "print()\n",
    "fig.write_image(\"Number of countries per region.png\",height=400,width=600)\n",
    "Image(\"Number of countries per region.png\")\n"
   ]
  },
  {
   "cell_type": "code",
   "execution_count": 49,
   "id": "674008b9-0a3d-4126-98c2-6d274c376cc6",
   "metadata": {},
   "outputs": [
    {
     "name": "stdout",
     "output_type": "stream",
     "text": [
      "\n"
     ]
    },
    {
     "data": {
      "image/png": "[encoded data removed]",
      "text/plain": [
       "<IPython.core.display.Image object>"
      ]
     },
     "execution_count": 49,
     "metadata": {},
     "output_type": "execute_result"
    }
   ],
   "source": [
    "fig = px.bar(\n",
    "    region_sales,\n",
    "    x=\"Sales_Amount\",\n",
    "    y=\"Region\",\n",
    "    orientation=\"h\",\n",
    "    title=\"Sales per region\",\n",
    "    color_discrete_sequence=[\"skyblue\"]\n",
    ")\n",
    "fig.update_layout(\n",
    "    width=600,\n",
    "    height=400,\n",
    "    xaxis_title=\"Sales Amount\"\n",
    "    \n",
    ")\n",
    "#fig.show()\n",
    "print()\n",
    "fig.write_image(\"Sales per region.png\",height=400,width=600)\n",
    "Image(\"Sales per region.png\")"
   ]
  },
  {
   "cell_type": "code",
   "execution_count": 50,
   "id": "103ae3e8-ff40-404b-9d47-ab08d5c00cd7",
   "metadata": {},
   "outputs": [
    {
     "name": "stdout",
     "output_type": "stream",
     "text": [
      "\n"
     ]
    },
    {
     "data": {
      "image/png": "[encoded data removed]",
      "text/plain": [
       "<IPython.core.display.Image object>"
      ]
     },
     "execution_count": 50,
     "metadata": {},
     "output_type": "execute_result"
    }
   ],
   "source": [
    "fig = px.pie(\n",
    "    region_sales,\n",
    "    names=\"Region\",\n",
    "    values=\"Sales_Amount\",\n",
    "    title=\"sales per region\"\n",
    ")\n",
    "fig.update_layout(\n",
    "    width=600,\n",
    "    height=400\n",
    ")\n",
    "#fig.show()\n",
    "print()\n",
    "fig.write_image(\"Sales per region.png\",height=400,width=600)\n",
    "Image(\"Sales per region.png\")"
   ]
  },
  {
   "cell_type": "markdown",
   "id": "1cabd0c8-1191-49b5-ba28-6d35d8e5cd50",
   "metadata": {},
   "source": [
    "- APAC region is leading with 23,218,762. It's countries include Australia ,India and New Zealand.\n",
    "\n",
    "- Americas is the second one with 15,380,540. It's countries include Canada and USA.\n",
    "\n",
    "- Europe is the least with 7,487,585. It only has UK."
   ]
  },
  {
   "cell_type": "markdown",
   "id": "7fa5ba49-cb60-47f5-b57c-6e7c6f78aac5",
   "metadata": {},
   "source": [
    "**SALES PER TEAM**\n",
    "\n",
    "team_1 has 7 sales people, team_0 has 7,team_3 has 6 and team_2 has 5. This explains the ranking of their performance. But why is team_1 higher than team_0 yet they have same number of sales people?\n",
    "\n",
    "In 2021, in all the countries this is the order of performance team_1,team_0,team_3 then team_2.\n",
    "\n",
    "In 2022 there's a difference in trend."
   ]
  },
  {
   "cell_type": "code",
   "execution_count": 53,
   "id": "9b086dd0-4adc-4355-9f67-4257b13506fe",
   "metadata": {},
   "outputs": [
    {
     "name": "stdout",
     "output_type": "stream",
     "text": [
      "Total teams: 4\n",
      "\n",
      "Teams: ['Team_3' 'Team_1' 'Team_0' 'Team_2']\n",
      "\n"
     ]
    }
   ],
   "source": [
    "team_no=df[\"Team\"].nunique()\n",
    "print(\"Total teams:\",team_no)\n",
    "print()\n",
    "\n",
    "team_names=df[\"Team\"].unique()\n",
    "print(\"Teams:\",team_names)\n",
    "print()"
   ]
  },
  {
   "cell_type": "code",
   "execution_count": 54,
   "id": "5097e5c7-1569-44ab-8a07-4489014835be",
   "metadata": {},
   "outputs": [
    {
     "name": "stdout",
     "output_type": "stream",
     "text": [
      "Team\n",
      "Team_1    14313152.0\n",
      "Team_0    13759137.0\n",
      "Team_3    12259226.0\n",
      "Team_2     5755372.0\n",
      "Name: Sales_Amount, dtype: float64\n",
      "\n",
      "      Region    Team  Sales_Amount\n",
      "0       APAC  Team_1     7141848.0\n",
      "1       APAC  Team_0     6995359.0\n",
      "2       APAC  Team_3     6241417.0\n",
      "3   Americas  Team_1     4907637.0\n",
      "4   Americas  Team_0     4630227.0\n",
      "5   Americas  Team_3     3933426.0\n",
      "6       APAC  Team_2     2840138.0\n",
      "7     Europe  Team_1     2263667.0\n",
      "8     Europe  Team_0     2133551.0\n",
      "9     Europe  Team_3     2084383.0\n",
      "10  Americas  Team_2     1909250.0\n",
      "11    Europe  Team_2     1005984.0\n",
      "\n",
      "        Country    Team  Sales_Amount\n",
      "0           USA  Team_1     2507365.0\n",
      "1     Australia  Team_1     2497194.0\n",
      "2     Australia  Team_0     2457784.0\n",
      "3        Canada  Team_1     2400272.0\n",
      "4         India  Team_1     2373371.0\n",
      "5           USA  Team_0     2365195.0\n",
      "6   New Zealand  Team_0     2330867.0\n",
      "7   New Zealand  Team_1     2271283.0\n",
      "8        Canada  Team_0     2265032.0\n",
      "9            UK  Team_1     2263667.0\n",
      "10  New Zealand  Team_3     2221037.0\n",
      "11        India  Team_0     2206708.0\n",
      "12           UK  Team_0     2133551.0\n",
      "13           UK  Team_3     2084383.0\n",
      "14    Australia  Team_3     2069312.0\n",
      "15       Canada  Team_3     2031659.0\n",
      "16        India  Team_3     1951068.0\n",
      "17          USA  Team_3     1901767.0\n",
      "18       Canada  Team_2     1064588.0\n",
      "19           UK  Team_2     1005984.0\n",
      "20  New Zealand  Team_2      992768.0\n",
      "21        India  Team_2      976563.0\n",
      "22    Australia  Team_2      870807.0\n",
      "23          USA  Team_2      844662.0\n",
      "\n"
     ]
    }
   ],
   "source": [
    "team_performance=df.groupby(\"Team\")[\"Sales_Amount\"].sum().sort_values(ascending=False)\n",
    "print(team_performance)\n",
    "print()\n",
    "\n",
    "region_team=df.groupby([\"Region\",\"Team\"])[\"Sales_Amount\"].sum().sort_values(ascending=False).reset_index()\n",
    "print(region_team)\n",
    "print()\n",
    "\n",
    "country_team=df.groupby([\"Country\",\"Team\"])[\"Sales_Amount\"].sum().sort_values(ascending=False).reset_index()\n",
    "print(country_team)\n",
    "print()"
   ]
  },
  {
   "cell_type": "code",
   "execution_count": 55,
   "id": "3be31637-7dd7-4a45-8c44-1f017e91e0b8",
   "metadata": {},
   "outputs": [
    {
     "name": "stdout",
     "output_type": "stream",
     "text": [
      "\n"
     ]
    },
    {
     "data": {
      "image/png": "[encoded data removed]",
      "text/plain": [
       "<IPython.core.display.Image object>"
      ]
     },
     "execution_count": 55,
     "metadata": {},
     "output_type": "execute_result"
    }
   ],
   "source": [
    "fig=px.bar(\n",
    "    team_performance,\n",
    "    x=team_performance.index,\n",
    "    y=team_performance.values,\n",
    "    color_discrete_sequence=[\"skyblue\"]\n",
    "    \n",
    ")\n",
    "fig.update_layout(\n",
    "    width=600,\n",
    "    height=400,\n",
    "    xaxis_title=\"Team\",\n",
    "    yaxis_title=\"Sales Amount\",\n",
    "    title=\"Team Performance\"\n",
    ")\n",
    "#fig.show()\n",
    "print()\n",
    "fig.write_image(\"Team Performance.png\",height=400,width=600)\n",
    "Image(\"Team Performance.png\")\n"
   ]
  },
  {
   "cell_type": "markdown",
   "id": "40ed7e1c-3659-46eb-b733-33e0e132d80a",
   "metadata": {},
   "source": [
    "- team_1 is the best selling team"
   ]
  },
  {
   "cell_type": "code",
   "execution_count": 57,
   "id": "7cbf1cd3-1f08-4b13-83fc-d519cda7696d",
   "metadata": {},
   "outputs": [
    {
     "name": "stdout",
     "output_type": "stream",
     "text": [
      "     Team  Sales_Amount\n",
      "0  Team_1    14313152.0\n",
      "1  Team_0    13759137.0\n",
      "2  Team_3    12259226.0\n",
      "3  Team_2     5755372.0\n",
      "\n"
     ]
    }
   ],
   "source": [
    "team_performance=df.groupby(\"Team\")[\"Sales_Amount\"].sum().sort_values(ascending=False).reset_index()\n",
    "print(team_performance)\n",
    "print()"
   ]
  },
  {
   "cell_type": "code",
   "execution_count": 58,
   "id": "96dcd099-70e2-42f5-9a9b-71cb019bba31",
   "metadata": {},
   "outputs": [
    {
     "name": "stdout",
     "output_type": "stream",
     "text": [
      "\n"
     ]
    },
    {
     "data": {
      "image/png": "[encoded data removed]",
      "text/plain": [
       "<IPython.core.display.Image object>"
      ]
     },
     "execution_count": 58,
     "metadata": {},
     "output_type": "execute_result"
    }
   ],
   "source": [
    "fig=px.pie(\n",
    "    team_performance,\n",
    "    names=\"Team\",\n",
    "    values=\"Sales_Amount\",\n",
    "    title=\"Team performance\"\n",
    ")\n",
    "fig.update_layout(\n",
    "    width=600,\n",
    "    height=400\n",
    ")\n",
    "#fig.show()\n",
    "print()\n",
    "fig.write_image(\"Team Performance.png\",height=400,width=600)\n",
    "Image(\"Team Performance.png\")"
   ]
  },
  {
   "cell_type": "code",
   "execution_count": 59,
   "id": "098c8806-d907-4f9d-9745-7f48f1523d09",
   "metadata": {},
   "outputs": [
    {
     "name": "stdout",
     "output_type": "stream",
     "text": [
      "\n"
     ]
    },
    {
     "data": {
      "image/png": "[encoded data removed]",
      "text/plain": [
       "<IPython.core.display.Image object>"
      ]
     },
     "execution_count": 59,
     "metadata": {},
     "output_type": "execute_result"
    }
   ],
   "source": [
    "fig=px.bar(\n",
    "    region_team,\n",
    "    x=\"Region\",\n",
    "    y=\"Sales_Amount\",\n",
    "    color=\"Team\"\n",
    "    \n",
    ")\n",
    "fig.update_layout(\n",
    "    width=600,\n",
    "    height=400,\n",
    "    barmode=\"group\",\n",
    "    xaxis_title=\"Team\",\n",
    "    yaxis_title=\"Sales Amount\",\n",
    "    title=\"Team sales per region\"\n",
    ")\n",
    "#fig.show()\n",
    "print()\n",
    "fig.write_image(\"Team Performance per region.png\",height=400,width=600)\n",
    "Image(\"Team Performance per region.png\")"
   ]
  },
  {
   "cell_type": "markdown",
   "id": "b47273ff-95a3-450b-b889-e75ead4f9437",
   "metadata": {},
   "source": [
    "- In each region, the teams' ranking is team_1 , team_0, team_3 then team_2 in that order."
   ]
  },
  {
   "cell_type": "code",
   "execution_count": 61,
   "id": "26f5229a-ded4-45f8-acc3-d8d6bca3767a",
   "metadata": {},
   "outputs": [
    {
     "name": "stdout",
     "output_type": "stream",
     "text": [
      "Year  Country      Team  \n",
      "2021  Australia    Team_0    1890630.0\n",
      "                   Team_1    1942724.0\n",
      "                   Team_2     543438.0\n",
      "                   Team_3    1558851.0\n",
      "      Canada       Team_0    1741558.0\n",
      "                   Team_1    1858808.0\n",
      "                   Team_2     619171.0\n",
      "                   Team_3    1578493.0\n",
      "      India        Team_0    1770671.0\n",
      "                   Team_1    1876329.0\n",
      "                   Team_2     564508.0\n",
      "                   Team_3    1388709.0\n",
      "      New Zealand  Team_0    1814568.0\n",
      "                   Team_1    1831739.0\n",
      "                   Team_2     533561.0\n",
      "                   Team_3    1731415.0\n",
      "      UK           Team_0    1828043.0\n",
      "                   Team_1    1838130.0\n",
      "                   Team_2     565215.0\n",
      "                   Team_3    1559355.0\n",
      "      USA          Team_0    1877673.0\n",
      "                   Team_1    1903139.0\n",
      "                   Team_2     524321.0\n",
      "                   Team_3    1527043.0\n",
      "2022  Australia    Team_0     567154.0\n",
      "                   Team_1     554470.0\n",
      "                   Team_2     327369.0\n",
      "                   Team_3     510461.0\n",
      "      Canada       Team_0     523474.0\n",
      "                   Team_1     541464.0\n",
      "                   Team_2     445417.0\n",
      "                   Team_3     453166.0\n",
      "      India        Team_0     436037.0\n",
      "                   Team_1     497042.0\n",
      "                   Team_2     412055.0\n",
      "                   Team_3     562359.0\n",
      "      New Zealand  Team_0     516299.0\n",
      "                   Team_1     439544.0\n",
      "                   Team_2     459207.0\n",
      "                   Team_3     489622.0\n",
      "      UK           Team_0     305508.0\n",
      "                   Team_1     425537.0\n",
      "                   Team_2     440769.0\n",
      "                   Team_3     525028.0\n",
      "      USA          Team_0     487522.0\n",
      "                   Team_1     604226.0\n",
      "                   Team_2     320341.0\n",
      "                   Team_3     374724.0\n",
      "Name: Sales_Amount, dtype: float64\n",
      "\n",
      "     Year Month    Country    Team  Sales_Amount\n",
      "0    2021   Apr  Australia  Team_0      129976.0\n",
      "1    2021   Apr  Australia  Team_1      175588.0\n",
      "2    2021   Apr  Australia  Team_2       45724.0\n",
      "3    2021   Apr  Australia  Team_3      115675.0\n",
      "4    2021   Apr     Canada  Team_0      115892.0\n",
      "..    ...   ...        ...     ...           ...\n",
      "319  2022   Mar         UK  Team_3      102970.0\n",
      "320  2022   Mar        USA  Team_0       74074.0\n",
      "321  2022   Mar        USA  Team_1      134918.0\n",
      "322  2022   Mar        USA  Team_2       71512.0\n",
      "323  2022   Mar        USA  Team_3       58142.0\n",
      "\n",
      "[324 rows x 5 columns]\n",
      "\n"
     ]
    }
   ],
   "source": [
    "year_country_team=df.groupby([\"Year\",\"Country\",\"Team\"])[\"Sales_Amount\"].sum()\n",
    "print(year_country_team)\n",
    "print()\n",
    "\n",
    "year_month_country_team=df.groupby([\"Year\",\"Month\",\"Country\",\"Team\"])[\"Sales_Amount\"].sum().reset_index()\n",
    "print(year_month_country_team)\n",
    "print()\n"
   ]
  },
  {
   "cell_type": "code",
   "execution_count": 62,
   "id": "c6b5856a-ae8a-446b-a5af-c873044ea8c8",
   "metadata": {},
   "outputs": [
    {
     "name": "stdout",
     "output_type": "stream",
     "text": [
      "\n"
     ]
    },
    {
     "data": {
      "image/png": "[encoded data removed]",
      "text/plain": [
       "<IPython.core.display.Image object>"
      ]
     },
     "execution_count": 62,
     "metadata": {},
     "output_type": "execute_result"
    }
   ],
   "source": [
    "fig=px.bar(\n",
    "    country_team,\n",
    "    x=\"Country\",\n",
    "    y=\"Sales_Amount\",\n",
    "    color=\"Team\",\n",
    "    barmode=\"group\"\n",
    ")\n",
    "fig.update_layout(\n",
    "    width=600,\n",
    "    height=400,\n",
    "    xaxis_title=\"Team\",\n",
    "    yaxis_title=\"Sales Amount\",\n",
    "    title=\"Team Sales per Country\"\n",
    ")\n",
    "#fig.show()\n",
    "print()\n",
    "fig.write_image(\"Team Performance per country.png\",height=400,width=600)\n",
    "Image(\"Team Performance per country.png\")"
   ]
  },
  {
   "cell_type": "markdown",
   "id": "2ebe79be-280b-47a0-afbe-f234f304f286",
   "metadata": {},
   "source": [
    "- In each country the performance of each team is in this order; team_1, team_0, team_3 then team_2 except New Zealand where team_0 is higher than team_1. Yet to find out why."
   ]
  },
  {
   "cell_type": "markdown",
   "id": "be9e53fd-fc37-4466-abdf-335e6ffb7277",
   "metadata": {},
   "source": [
    "**SALES PER SALES PERSON**\n",
    "\n",
    "There are 25 people in total, each person is a sales person in each region."
   ]
  },
  {
   "cell_type": "code",
   "execution_count": 65,
   "id": "b2f63e18-e724-4311-93ea-2a0df21702fc",
   "metadata": {},
   "outputs": [
    {
     "name": "stdout",
     "output_type": "stream",
     "text": [
      "Total sales people: 25\n",
      "\n",
      "Total sales people: ['Salesperson_7' 'Salesperson_16' 'Salesperson_9' 'Salesperson_17'\n",
      " 'Salesperson_20' 'Salesperson_3' 'Salesperson_12' 'Salesperson_19'\n",
      " 'Salesperson_0' 'Salesperson_1' 'Salesperson_11' 'Salesperson_5'\n",
      " 'Salesperson_8' 'Salesperson_6' 'Salesperson_21' 'Salesperson_14'\n",
      " 'Salesperson_2' 'Salesperson_15' 'Salesperson_24' 'Salesperson_10'\n",
      " 'Salesperson_23' 'Salesperson_4' 'Salesperson_18' 'Salesperson_13'\n",
      " 'Salesperson_22']\n",
      "\n",
      "Sales Person\n",
      "Salesperson_10    2195032.0\n",
      "Salesperson_12    2118543.0\n",
      "Salesperson_17    2116569.0\n",
      "Salesperson_2     2109618.0\n",
      "Salesperson_8     2096857.0\n",
      "Name: Sales_Amount, dtype: float64\n",
      "\n"
     ]
    }
   ],
   "source": [
    "no_people=df[\"Sales Person\"].nunique()\n",
    "print(\"Total sales people:\",no_people)\n",
    "print()\n",
    "\n",
    "people_names=df[\"Sales Person\"].unique()\n",
    "print(\"Total sales people:\",people_names)\n",
    "print()\n",
    "\n",
    "top_salespeople=df.groupby(\"Sales Person\")[\"Sales_Amount\"].sum().sort_values(ascending=False).head(5)\n",
    "print(top_salespeople)\n",
    "print()"
   ]
  },
  {
   "cell_type": "code",
   "execution_count": 66,
   "id": "66fda8eb-5a19-4024-b649-6c06af9ab7fa",
   "metadata": {},
   "outputs": [
    {
     "name": "stdout",
     "output_type": "stream",
     "text": [
      "\n"
     ]
    },
    {
     "data": {
      "image/png": "[encoded data removed]",
      "text/plain": [
       "<IPython.core.display.Image object>"
      ]
     },
     "execution_count": 66,
     "metadata": {},
     "output_type": "execute_result"
    }
   ],
   "source": [
    "fig=px.bar(\n",
    "    top_salespeople,\n",
    "    y=top_salespeople.index,\n",
    "    x=top_salespeople.values,\n",
    "    color_discrete_sequence=[\"skyblue\"],\n",
    "   \n",
    "    \n",
    ")\n",
    "fig.update_layout(\n",
    "    width=600,\n",
    "    height=400,\n",
    "    title=\"Top 5 sales people\",\n",
    "    xaxis_title=\"Sales Amount\"\n",
    "    \n",
    ")\n",
    "#fig.show()\n",
    "print()\n",
    "fig.write_image(\"Top 5 sales people.png\",height=400,width=600)\n",
    "Image(\"Top 5 sales people.png\")"
   ]
  },
  {
   "cell_type": "code",
   "execution_count": 67,
   "id": "20cf045e-7bac-4a5a-a3f3-3ecc459b893b",
   "metadata": {},
   "outputs": [
    {
     "name": "stdout",
     "output_type": "stream",
     "text": [
      "  Region    Sales Person  Sales_Amount\n",
      "0   APAC  Salesperson_10     1177337.0\n",
      "1   APAC  Salesperson_12     1080653.0\n",
      "2   APAC   Salesperson_2     1073695.0\n",
      "3   APAC  Salesperson_14     1055754.0\n",
      "4   APAC   Salesperson_0     1043434.0\n",
      "\n",
      "       Country    Sales Person  Sales_Amount\n",
      "0  New Zealand  Salesperson_10      487123.0\n",
      "1  New Zealand  Salesperson_24      410473.0\n",
      "2    Australia  Salesperson_15      409395.0\n",
      "3    Australia  Salesperson_19      404320.0\n",
      "4        India   Salesperson_2      404201.0\n",
      "\n"
     ]
    }
   ],
   "source": [
    "\n",
    "region_person=df.groupby([\"Region\",\"Sales Person\"])[\"Sales_Amount\"].sum().sort_values(ascending=False).reset_index().head(5)\n",
    "print(region_person)\n",
    "print()\n",
    "\n",
    "country_person=df.groupby([\"Country\",\"Sales Person\"])[\"Sales_Amount\"].sum().sort_values(ascending=False).reset_index().head(5)\n",
    "print(country_person.head(26))\n",
    "print()\n",
    "\n"
   ]
  },
  {
   "cell_type": "code",
   "execution_count": 68,
   "id": "67c64698-e29f-48bd-a7c1-d5fb7612fc9b",
   "metadata": {},
   "outputs": [
    {
     "name": "stdout",
     "output_type": "stream",
     "text": [
      "\n"
     ]
    },
    {
     "data": {
      "image/png": "[encoded data removed]",
      "text/plain": [
       "<IPython.core.display.Image object>"
      ]
     },
     "execution_count": 68,
     "metadata": {},
     "output_type": "execute_result"
    }
   ],
   "source": [
    "fig=px.bar(\n",
    "    region_person,\n",
    "    y=\"Sales Person\",\n",
    "    x=\"Sales_Amount\",\n",
    "    color=\"Region\",\n",
    "    orientation=\"h\"\n",
    ")\n",
    "fig.update_layout(\n",
    "    title=\"Top 5 sales people by region\",\n",
    "    height=400,\n",
    "    width=600,\n",
    "    xaxis_title=\"Sales Amount\",\n",
    "    yaxis_title=\"Sales person\"\n",
    ")\n",
    "#fig.show()\n",
    "print()\n",
    "fig.write_image(\"Top 5 sales people by region.png\",height=400,width=600)\n",
    "Image(\"Top 5 sales people by region.png\")"
   ]
  },
  {
   "cell_type": "code",
   "execution_count": 69,
   "id": "da629905-f76f-4882-b25c-2f5e2b21e1b5",
   "metadata": {},
   "outputs": [
    {
     "name": "stdout",
     "output_type": "stream",
     "text": [
      "\n"
     ]
    },
    {
     "data": {
      "image/png": "[encoded data removed]",
      "text/plain": [
       "<IPython.core.display.Image object>"
      ]
     },
     "execution_count": 69,
     "metadata": {},
     "output_type": "execute_result"
    }
   ],
   "source": [
    "\n",
    "fig=px.bar(\n",
    "    country_person,\n",
    "    x=\"Sales Person\",\n",
    "    y=\"Sales_Amount\",\n",
    "    color=\"Country\"\n",
    ")\n",
    "fig.update_layout(\n",
    "    title=\"Top 5 sales people by country\",\n",
    "    height=400,\n",
    "    width=600,\n",
    "    xaxis_title=\"Sales Person\",\n",
    "    yaxis_title=\"Sales Amount\"\n",
    "    \n",
    ")\n",
    "#fig.show()\n",
    "print()\n",
    "fig.write_image(\"Top 5 sales people by country.png\",height=400,width=600)\n",
    "Image(\"Top 5 sales people by country.png\")"
   ]
  },
  {
   "cell_type": "code",
   "execution_count": 70,
   "id": "501c856b-bd83-4186-87bd-4beef5678e0c",
   "metadata": {},
   "outputs": [
    {
     "name": "stdout",
     "output_type": "stream",
     "text": [
      "      Team    Sales Person  Sales_Amount\n",
      "20  Team_3  Salesperson_10     2195032.0\n",
      "21  Team_3  Salesperson_12     2118543.0\n",
      "8   Team_1  Salesperson_17     2116569.0\n",
      "10  Team_1   Salesperson_2     2109618.0\n",
      "13  Team_1   Salesperson_8     2096857.0\n",
      "\n"
     ]
    },
    {
     "data": {
      "text/plain": [
       "\"\\nranked_sales = df.sort_values(by='Sales_Amount', ascending=False)\\ntop_columns = ranked_sales[['Team', 'Sales Person', 'Sales_Amount']]\\nprint(top_columns)\\n\\n\\n\\nprint()\\n\\n\""
      ]
     },
     "execution_count": 70,
     "metadata": {},
     "output_type": "execute_result"
    }
   ],
   "source": [
    "sales_person=df.groupby([\"Team\",\"Sales Person\"])[\"Sales_Amount\"].sum().reset_index().sort_values(by=\"Sales_Amount\",ascending=False).head(5)\n",
    "print(sales_person)\n",
    "print()\n",
    "\"\"\"\n",
    "ranked_sales = df.sort_values(by='Sales_Amount', ascending=False)\n",
    "top_columns = ranked_sales[['Team', 'Sales Person', 'Sales_Amount']]\n",
    "print(top_columns)\n",
    "\n",
    "\n",
    "\n",
    "print()\n",
    "\n",
    "\"\"\""
   ]
  },
  {
   "cell_type": "code",
   "execution_count": 71,
   "id": "6d99f64e-5c28-4da1-a465-e9d03fc593e4",
   "metadata": {},
   "outputs": [
    {
     "name": "stdout",
     "output_type": "stream",
     "text": [
      "\n"
     ]
    },
    {
     "data": {
      "image/png": "[encoded data removed]",
      "text/plain": [
       "<IPython.core.display.Image object>"
      ]
     },
     "execution_count": 71,
     "metadata": {},
     "output_type": "execute_result"
    }
   ],
   "source": [
    "fig=px.bar(\n",
    "    sales_person,\n",
    "    x=\"Sales Person\",\n",
    "    y=\"Sales_Amount\",\n",
    "    color=\"Team\",\n",
    "   \n",
    ")\n",
    "fig.update_layout(\n",
    "    width=600,\n",
    "    height=400,\n",
    "    title=\"Top 5 sales people by team\"\n",
    ")\n",
    "#fig.show()\n",
    "\n",
    "print()\n",
    "fig.write_image(\"Top 5 sales people by team.png\",height=400,width=600)\n",
    "Image(\"Top 5 sales people by team.png\")"
   ]
  },
  {
   "cell_type": "markdown",
   "id": "589c6238-84f9-4a96-ae65-be7e4cd2d5d0",
   "metadata": {},
   "source": [
    "**SALES PER CATEGORY**\n",
    "\n",
    "\n",
    "\n",
    "In each region bars are leading followed by bites then other.\n",
    "\n",
    "In each country we have the same trend.\n",
    "\n",
    "It now makes sense, bars category has many products (11 products) thus a higher sales, bites has 7 products while others has few products(4 products) thus a low sales. If it had much products then sales would rise."
   ]
  },
  {
   "cell_type": "code",
   "execution_count": 73,
   "id": "ff809fdc-f5c6-4bba-b76f-93e7a7fdf44c",
   "metadata": {},
   "outputs": [
    {
     "name": "stdout",
     "output_type": "stream",
     "text": [
      "Total categories: 3\n",
      "\n",
      "Categories: ['Bars' 'Bites' 'Other']\n",
      "\n",
      "  Category  Sales_Amount\n",
      "0     Bars    23199771.0\n",
      "1    Bites    14638925.0\n",
      "2    Other     8248191.0\n",
      "\n"
     ]
    }
   ],
   "source": [
    "category_num=df[\"Category\"].nunique()\n",
    "print(\"Total categories:\",category_num)\n",
    "print()\n",
    "\n",
    "categories=df[\"Category\"].unique()\n",
    "print(\"Categories:\",categories)\n",
    "print()\n",
    "\n",
    "categories_sales=df.groupby(\"Category\")[\"Sales_Amount\"].sum().reset_index()\n",
    "print(categories_sales)\n",
    "print()"
   ]
  },
  {
   "cell_type": "code",
   "execution_count": 74,
   "id": "bbe19ecb-245e-4463-8a67-5970c2f800b6",
   "metadata": {},
   "outputs": [
    {
     "name": "stdout",
     "output_type": "stream",
     "text": [
      "\n"
     ]
    },
    {
     "data": {
      "image/png": "[encoded data removed]",
      "text/plain": [
       "<IPython.core.display.Image object>"
      ]
     },
     "execution_count": 74,
     "metadata": {},
     "output_type": "execute_result"
    }
   ],
   "source": [
    "fig=px.pie(\n",
    "    categories_sales,\n",
    "    names=\"Category\",\n",
    "    values=\"Sales_Amount\"    \n",
    ")\n",
    "fig.update_layout(\n",
    "    width=600,\n",
    "    height=400,\n",
    "    title=\"Category Sales\"\n",
    ")\n",
    "#fig.show()\n",
    "print()\n",
    "fig.write_image(\"Category sales.png\",height=400,width=600)\n",
    "Image(\"Category sales.png\")"
   ]
  },
  {
   "cell_type": "markdown",
   "id": "66225a8c-f845-402e-85ea-0fa743754328",
   "metadata": {},
   "source": [
    "- Bars are leading with 23,199,771 (50.3%) followed by Bites with  14,638,925 (31.8%) then other with 8,248,191 (17.9%)"
   ]
  },
  {
   "cell_type": "code",
   "execution_count": 76,
   "id": "c8796880-d657-4a2c-b0c6-58a7210a1a75",
   "metadata": {},
   "outputs": [
    {
     "data": {
      "text/html": [
       "<div>\n",
       "<style scoped>\n",
       "    .dataframe tbody tr th:only-of-type {\n",
       "        vertical-align: middle;\n",
       "    }\n",
       "\n",
       "    .dataframe tbody tr th {\n",
       "        vertical-align: top;\n",
       "    }\n",
       "\n",
       "    .dataframe thead th {\n",
       "        text-align: right;\n",
       "    }\n",
       "</style>\n",
       "<table border=\"1\" class=\"dataframe\">\n",
       "  <thead>\n",
       "    <tr style=\"text-align: right;\">\n",
       "      <th></th>\n",
       "      <th>Category</th>\n",
       "      <th>Product Type</th>\n",
       "      <th>Sales_Amount</th>\n",
       "    </tr>\n",
       "  </thead>\n",
       "  <tbody>\n",
       "    <tr>\n",
       "      <th>0</th>\n",
       "      <td>Bars</td>\n",
       "      <td>Smooth Sliky Salty</td>\n",
       "      <td>2315012.0</td>\n",
       "    </tr>\n",
       "    <tr>\n",
       "      <th>1</th>\n",
       "      <td>Bites</td>\n",
       "      <td>Peanut Butter Cubes</td>\n",
       "      <td>2265410.0</td>\n",
       "    </tr>\n",
       "    <tr>\n",
       "      <th>2</th>\n",
       "      <td>Bites</td>\n",
       "      <td>After Nines</td>\n",
       "      <td>2174172.0</td>\n",
       "    </tr>\n",
       "    <tr>\n",
       "      <th>3</th>\n",
       "      <td>Bites</td>\n",
       "      <td>Spicy Special Slims</td>\n",
       "      <td>2168138.0</td>\n",
       "    </tr>\n",
       "    <tr>\n",
       "      <th>4</th>\n",
       "      <td>Bars</td>\n",
       "      <td>Orange Choco</td>\n",
       "      <td>2162601.0</td>\n",
       "    </tr>\n",
       "  </tbody>\n",
       "</table>\n",
       "</div>"
      ],
      "text/plain": [
       "  Category         Product Type  Sales_Amount\n",
       "0     Bars   Smooth Sliky Salty     2315012.0\n",
       "1    Bites  Peanut Butter Cubes     2265410.0\n",
       "2    Bites          After Nines     2174172.0\n",
       "3    Bites  Spicy Special Slims     2168138.0\n",
       "4     Bars         Orange Choco     2162601.0"
      ]
     },
     "execution_count": 76,
     "metadata": {},
     "output_type": "execute_result"
    }
   ],
   "source": [
    "category_product=df.groupby([\"Category\",\"Product Type\"])[\"Sales_Amount\"].sum().sort_values(ascending=False).reset_index().head(5)\n",
    "category_product"
   ]
  },
  {
   "cell_type": "code",
   "execution_count": 77,
   "id": "56363d55-12b7-4ae0-b1e5-c508df91f4bc",
   "metadata": {},
   "outputs": [
    {
     "name": "stdout",
     "output_type": "stream",
     "text": [
      "     Region Category  Sales_Amount\n",
      "0      APAC     Bars    11586722.0\n",
      "1  Americas     Bars     7807926.0\n",
      "2      APAC    Bites     7431312.0\n",
      "3  Americas    Bites     4865595.0\n",
      "4      APAC    Other     4200728.0\n",
      "\n",
      "     Country Category  Sales_Amount\n",
      "0  Australia     Bars     4062807.0\n",
      "1     Canada     Bars     3909493.0\n",
      "2        USA     Bars     3898433.0\n",
      "3         UK     Bars     3805123.0\n",
      "4      India     Bars     3771656.0\n",
      "\n"
     ]
    }
   ],
   "source": [
    "region_categories_sales=df.groupby([\"Region\",\"Category\"])[\"Sales_Amount\"].sum().sort_values(ascending=False).reset_index().head(5)\n",
    "print(region_categories_sales)\n",
    "print()\n",
    "\n",
    "country_categories_sales=df.groupby([\"Country\",\"Category\"])[\"Sales_Amount\"].sum().sort_values(ascending=False).reset_index().head(5)\n",
    "print(country_categories_sales)\n",
    "print()\n",
    "\n"
   ]
  },
  {
   "cell_type": "code",
   "execution_count": 78,
   "id": "c5918b72-445a-476f-a79c-1f2274976c94",
   "metadata": {},
   "outputs": [
    {
     "name": "stdout",
     "output_type": "stream",
     "text": [
      "\n"
     ]
    },
    {
     "data": {
      "image/png": "[encoded data removed]",
      "text/plain": [
       "<IPython.core.display.Image object>"
      ]
     },
     "execution_count": 78,
     "metadata": {},
     "output_type": "execute_result"
    }
   ],
   "source": [
    "fig=px.bar(\n",
    "    region_categories_sales,\n",
    "    x=\"Category\",\n",
    "    y=\"Sales_Amount\",\n",
    "    color=\"Region\",\n",
    "    barmode=\"group\",\n",
    "    #text_auto=True\n",
    "    \n",
    ")\n",
    "fig.update_layout(\n",
    "    title=\"Top 5 category sales by Region\",\n",
    "    width=600,\n",
    "    height=400,\n",
    "    \n",
    "    \n",
    ")\n",
    "#fig.show()\n",
    "print()\n",
    "fig.write_image(\"Category sales by region.png\",height=400,width=600)\n",
    "Image(\"Category sales by region.png\")"
   ]
  },
  {
   "cell_type": "code",
   "execution_count": 79,
   "id": "dc26ecc6-8451-4139-9874-20961a14d483",
   "metadata": {},
   "outputs": [
    {
     "name": "stdout",
     "output_type": "stream",
     "text": [
      "\n"
     ]
    },
    {
     "data": {
      "image/png": "[encoded data removed]",
      "text/plain": [
       "<IPython.core.display.Image object>"
      ]
     },
     "execution_count": 79,
     "metadata": {},
     "output_type": "execute_result"
    }
   ],
   "source": [
    "fig=px.bar(\n",
    "    country_categories_sales,\n",
    "    x=\"Category\",\n",
    "    y=\"Sales_Amount\",\n",
    "    color=\"Country\",\n",
    "    barmode=\"group\"\n",
    "    \n",
    ")\n",
    "fig.update_layout(\n",
    "    title=\"Top 5 category sales by country\",\n",
    "    width=600,\n",
    "    height=400,  \n",
    "    yaxis_title=\"Sales Amount\"\n",
    ")\n",
    "#fig.show()\n",
    "print()\n",
    "fig.write_image(\"Category sales by country.png\",height=400,width=600)\n",
    "Image(\"Category sales by country.png\")"
   ]
  },
  {
   "cell_type": "markdown",
   "id": "ed89fca9-3873-4749-8c28-880f3e49ed12",
   "metadata": {},
   "source": [
    "**SALES PER PRODUCT TYPE**"
   ]
  },
  {
   "cell_type": "code",
   "execution_count": 81,
   "id": "afcfa903-4f99-4b58-b111-f86c646492ca",
   "metadata": {},
   "outputs": [
    {
     "name": "stdout",
     "output_type": "stream",
     "text": [
      "Total product types: 22\n",
      "\n",
      "Product types: ['Almond Choco' 'Caramel Stuffed Bars' 'Eclairs' 'Manuka Honey Choco'\n",
      " 'After Nines' 'Spicy Special Slims' '85% Dark Bars' 'White Choc'\n",
      " 'Smooth Sliky Salty' 'Orange Choco' 'Mint Chip Choco'\n",
      " 'Peanut Butter Cubes' '70% Dark Bites' 'Drinking Coco' 'Fruit & Nut Bars'\n",
      " 'Raspberry Choco' 'Organic Choco Syrup' '99% Dark & Pure' 'Milk Bars'\n",
      " '50% Dark Bites' \"Baker's Choco Chips\" 'Choco Coated Almonds']\n",
      "\n",
      "Product Type\n",
      "Smooth Sliky Salty     2315012.0\n",
      "Peanut Butter Cubes    2265410.0\n",
      "After Nines            2174172.0\n",
      "Spicy Special Slims    2168138.0\n",
      "Orange Choco           2162601.0\n",
      "Name: Sales_Amount, dtype: float64\n"
     ]
    }
   ],
   "source": [
    "total_types=df[\"Product Type\"].nunique()\n",
    "print(\"Total product types:\",total_types)\n",
    "print()\n",
    "\n",
    "product_types=df[\"Product Type\"].unique()\n",
    "print(\"Product types:\",product_types)\n",
    "print()\n",
    "\n",
    "product_sales=df.groupby([\"Product Type\"])[\"Sales_Amount\"].sum().sort_values(ascending=False).head(5)\n",
    "print(product_sales)"
   ]
  },
  {
   "cell_type": "code",
   "execution_count": 82,
   "id": "1eb57293-c00b-40a4-b20b-0771c968f675",
   "metadata": {},
   "outputs": [
    {
     "name": "stdout",
     "output_type": "stream",
     "text": [
      "\n"
     ]
    },
    {
     "data": {
      "image/png": "[encoded data removed]",
      "text/plain": [
       "<IPython.core.display.Image object>"
      ]
     },
     "execution_count": 82,
     "metadata": {},
     "output_type": "execute_result"
    }
   ],
   "source": [
    "fig=px.bar(   \n",
    "    x=product_sales.index,\n",
    "    y=product_sales.values,\n",
    "    color_discrete_sequence=[\"skyblue\"],  \n",
    ")\n",
    "fig.update_layout(\n",
    "    title=\"Top 5 product sales\",\n",
    "    width=600,\n",
    "    height=400,\n",
    "    xaxis_title=\"Products\",\n",
    "    yaxis_title=\"Sales amount\"   \n",
    ")\n",
    "#fig.show()\n",
    "print()\n",
    "fig.write_image(\"Top 5 product sales.png\",height=400,width=600)\n",
    "Image(\"Top 5 product sales.png\")"
   ]
  },
  {
   "cell_type": "code",
   "execution_count": 153,
   "id": "3105340b-7951-40f9-8797-e01965483224",
   "metadata": {},
   "outputs": [
    {
     "name": "stdout",
     "output_type": "stream",
     "text": [
      "          Product Type Category  Sales_Amount\n",
      "0   Smooth Sliky Salty     Bars     2315012.0\n",
      "1  Peanut Butter Cubes    Bites     2265410.0\n",
      "2          After Nines    Bites     2174172.0\n",
      "3  Spicy Special Slims    Bites     2168138.0\n",
      "4         Orange Choco     Bars     2162601.0\n"
     ]
    }
   ],
   "source": [
    "product_category_sales=df.groupby([\"Product Type\",\"Category\"])[\"Sales_Amount\"].sum().sort_values(ascending=False).reset_index().head(5)\n",
    "print(product_category_sales)"
   ]
  },
  {
   "cell_type": "code",
   "execution_count": 157,
   "id": "21d46959-94f3-45fc-8acc-c72d04724461",
   "metadata": {},
   "outputs": [
    {
     "name": "stdout",
     "output_type": "stream",
     "text": [
      "\n"
     ]
    },
    {
     "data": {
      "image/png": "[encoded data removed]",
      "text/plain": [
       "<IPython.core.display.Image object>"
      ]
     },
     "execution_count": 157,
     "metadata": {},
     "output_type": "execute_result"
    }
   ],
   "source": [
    "fig=px.bar(\n",
    "    product_category_sales,\n",
    "    x=\"Product Type\",\n",
    "    y=\"Sales_Amount\",\n",
    "    color=\"Category\"\n",
    ")\n",
    "fig.update_layout(\n",
    "    width=600,\n",
    "    height=400,\n",
    "    title=\"Top 5 product sales\",\n",
    "    xaxis_title=\"Product type\",\n",
    "    yaxis_title=\"Sales Amount\"\n",
    ")\n",
    "#fig.show()\n",
    "\n",
    "print()\n",
    "fig.write_image(\"Top 5 product sales.png\",height=400,width=600)\n",
    "Image(\"Top 5 product sales.png\")\n"
   ]
  },
  {
   "cell_type": "code",
   "execution_count": null,
   "id": "5fe38eee-966f-4a86-8182-f04e2e53a7ee",
   "metadata": {},
   "outputs": [],
   "source": []
  },
  {
   "cell_type": "code",
   "execution_count": null,
   "id": "b12b6b09-742f-4a7e-913e-946bae94c5ea",
   "metadata": {},
   "outputs": [],
   "source": []
  }
 ],
 "metadata": {
  "kernelspec": {
   "display_name": "Python 3 (ipykernel)",
   "language": "python",
   "name": "python3"
  },
  "language_info": {
   "codemirror_mode": {
    "name": "ipython",
    "version": 3
   },
   "file_extension": ".py",
   "mimetype": "text/x-python",
   "name": "python",
   "nbconvert_exporter": "python",
   "pygments_lexer": "ipython3",
   "version": "3.12.4"
  }
 },
 "nbformat": 4,
 "nbformat_minor": 5
}
